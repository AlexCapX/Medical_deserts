{
 "cells": [
  {
   "cell_type": "code",
   "execution_count": 25,
   "metadata": {},
   "outputs": [],
   "source": [
    "# Import librairies\n",
    "\n",
    "import pandas as pd\n",
    "\n",
    "from sklearn.model_selection import train_test_split\n",
    "from sklearn.impute import SimpleImputer\n",
    "from sklearn.preprocessing import StandardScaler, OneHotEncoder\n",
    "from sklearn.pipeline import Pipeline\n",
    "from sklearn.compose import ColumnTransformer\n",
    "from sklearn.linear_model import LinearRegression, Ridge, Lasso\n",
    "from sklearn.ensemble import RandomForestRegressor\n",
    "from sklearn.model_selection import cross_val_score, GridSearchCV\n",
    "from sklearn.metrics import r2_score\n",
    "\n",
    "import plotly.express as px\n",
    "import plotly.graph_objects as go\n"
   ]
  },
  {
   "cell_type": "code",
   "execution_count": 26,
   "metadata": {},
   "outputs": [],
   "source": [
    "variables_etude = pd.read_csv('https://medical-deserts.s3.eu-west-3.amazonaws.com/variables_etude.csv')"
   ]
  },
  {
   "cell_type": "markdown",
   "metadata": {},
   "source": [
    "#Preprocessing dataset"
   ]
  },
  {
   "cell_type": "code",
   "execution_count": 27,
   "metadata": {},
   "outputs": [],
   "source": [
    "variables_etude_work = variables_etude.copy()"
   ]
  },
  {
   "cell_type": "code",
   "execution_count": 28,
   "metadata": {},
   "outputs": [
    {
     "data": {
      "text/html": [
       "<div>\n",
       "<style scoped>\n",
       "    .dataframe tbody tr th:only-of-type {\n",
       "        vertical-align: middle;\n",
       "    }\n",
       "\n",
       "    .dataframe tbody tr th {\n",
       "        vertical-align: top;\n",
       "    }\n",
       "\n",
       "    .dataframe thead th {\n",
       "        text-align: right;\n",
       "    }\n",
       "</style>\n",
       "<table border=\"1\" class=\"dataframe\">\n",
       "  <thead>\n",
       "    <tr style=\"text-align: right;\">\n",
       "      <th></th>\n",
       "      <th>Code commune</th>\n",
       "      <th>region_geojson_name</th>\n",
       "      <th>Population en 2014 (princ)</th>\n",
       "      <th>Catégorie commune dans aire d'attraction des villes 2020</th>\n",
       "      <th>Tranche détaillée d'aire d'attraction des villes 2020</th>\n",
       "      <th>Libellé degré de densité</th>\n",
       "      <th>APL aux médecins généralistes (sans borne d'âge)</th>\n",
       "      <th>densité 4 niveaux</th>\n",
       "    </tr>\n",
       "  </thead>\n",
       "  <tbody>\n",
       "    <tr>\n",
       "      <th>0</th>\n",
       "      <td>01001</td>\n",
       "      <td>Auvergne-Rhône-Alpes</td>\n",
       "      <td>767.0</td>\n",
       "      <td>Commune de la couronne</td>\n",
       "      <td>Aire de moins de 10 000 habitants</td>\n",
       "      <td>Rural à habitat dispersé</td>\n",
       "      <td>2,293</td>\n",
       "      <td>Commune peu dense</td>\n",
       "    </tr>\n",
       "    <tr>\n",
       "      <th>1</th>\n",
       "      <td>01002</td>\n",
       "      <td>Auvergne-Rhône-Alpes</td>\n",
       "      <td>239.0</td>\n",
       "      <td>Commune hors attraction des pôles</td>\n",
       "      <td>Commune hors attraction des villes</td>\n",
       "      <td>Rural à habitat dispersé</td>\n",
       "      <td>2,6</td>\n",
       "      <td>Commune très peu dense</td>\n",
       "    </tr>\n",
       "    <tr>\n",
       "      <th>2</th>\n",
       "      <td>01004</td>\n",
       "      <td>Auvergne-Rhône-Alpes</td>\n",
       "      <td>14022.0</td>\n",
       "      <td>Commune-centre</td>\n",
       "      <td>Aire de 30 000 à moins de 50 000 habitants</td>\n",
       "      <td>Centres urbains intermédiaires</td>\n",
       "      <td>4,079</td>\n",
       "      <td>Commune de densité intermédiaire</td>\n",
       "    </tr>\n",
       "    <tr>\n",
       "      <th>3</th>\n",
       "      <td>01005</td>\n",
       "      <td>Auvergne-Rhône-Alpes</td>\n",
       "      <td>1627.0</td>\n",
       "      <td>Commune de la couronne</td>\n",
       "      <td>Aire de 1 000 000 d’habitants ou plus (hors Pa...</td>\n",
       "      <td>Bourgs ruraux</td>\n",
       "      <td>4,378</td>\n",
       "      <td>Commune peu dense</td>\n",
       "    </tr>\n",
       "    <tr>\n",
       "      <th>4</th>\n",
       "      <td>01006</td>\n",
       "      <td>Auvergne-Rhône-Alpes</td>\n",
       "      <td>109.0</td>\n",
       "      <td>Commune de la couronne</td>\n",
       "      <td>Aire de 20 000 à moins de 30 000 habitants</td>\n",
       "      <td>Rural à habitat dispersé</td>\n",
       "      <td>1,069</td>\n",
       "      <td>Commune très peu dense</td>\n",
       "    </tr>\n",
       "  </tbody>\n",
       "</table>\n",
       "</div>"
      ],
      "text/plain": [
       "  Code commune   region_geojson_name  Population en 2014 (princ)  \\\n",
       "0        01001  Auvergne-Rhône-Alpes                       767.0   \n",
       "1        01002  Auvergne-Rhône-Alpes                       239.0   \n",
       "2        01004  Auvergne-Rhône-Alpes                     14022.0   \n",
       "3        01005  Auvergne-Rhône-Alpes                      1627.0   \n",
       "4        01006  Auvergne-Rhône-Alpes                       109.0   \n",
       "\n",
       "  Catégorie commune dans aire d'attraction des villes 2020  \\\n",
       "0                             Commune de la couronne         \n",
       "1                  Commune hors attraction des pôles         \n",
       "2                                     Commune-centre         \n",
       "3                             Commune de la couronne         \n",
       "4                             Commune de la couronne         \n",
       "\n",
       "  Tranche détaillée d'aire d'attraction des villes 2020  \\\n",
       "0                  Aire de moins de 10 000 habitants      \n",
       "1                 Commune hors attraction des villes      \n",
       "2         Aire de 30 000 à moins de 50 000 habitants      \n",
       "3  Aire de 1 000 000 d’habitants ou plus (hors Pa...      \n",
       "4         Aire de 20 000 à moins de 30 000 habitants      \n",
       "\n",
       "         Libellé degré de densité  \\\n",
       "0        Rural à habitat dispersé   \n",
       "1        Rural à habitat dispersé   \n",
       "2  Centres urbains intermédiaires   \n",
       "3                   Bourgs ruraux   \n",
       "4        Rural à habitat dispersé   \n",
       "\n",
       "  APL aux médecins généralistes (sans borne d'âge)  \\\n",
       "0                                            2,293   \n",
       "1                                              2,6   \n",
       "2                                            4,079   \n",
       "3                                            4,378   \n",
       "4                                            1,069   \n",
       "\n",
       "                  densité 4 niveaux  \n",
       "0                 Commune peu dense  \n",
       "1            Commune très peu dense  \n",
       "2  Commune de densité intermédiaire  \n",
       "3                 Commune peu dense  \n",
       "4            Commune très peu dense  "
      ]
     },
     "execution_count": 28,
     "metadata": {},
     "output_type": "execute_result"
    }
   ],
   "source": [
    "variables_etude_work.head()"
   ]
  },
  {
   "cell_type": "code",
   "execution_count": 29,
   "metadata": {},
   "outputs": [],
   "source": [
    "variables_etude_work = variables_etude_work[~variables_etude_work['Code commune'].str.startswith(('97', '98'))]"
   ]
  },
  {
   "cell_type": "code",
   "execution_count": 30,
   "metadata": {},
   "outputs": [],
   "source": [
    "variables_etude_work.drop_duplicates(inplace = True)"
   ]
  },
  {
   "cell_type": "code",
   "execution_count": 31,
   "metadata": {},
   "outputs": [],
   "source": [
    "variables_etude_work[\"APL aux médecins généralistes (sans borne d'âge)\"] = variables_etude_work[\"APL aux médecins généralistes (sans borne d'âge)\"].str.replace(',', '.').astype(float)"
   ]
  },
  {
   "cell_type": "code",
   "execution_count": 32,
   "metadata": {},
   "outputs": [
    {
     "name": "stdout",
     "output_type": "stream",
     "text": [
      "Number of rows : 34869\n",
      "Number of columns : 8\n",
      "\n",
      "Basics statistics :\n"
     ]
    },
    {
     "data": {
      "text/html": [
       "<div>\n",
       "<style scoped>\n",
       "    .dataframe tbody tr th:only-of-type {\n",
       "        vertical-align: middle;\n",
       "    }\n",
       "\n",
       "    .dataframe tbody tr th {\n",
       "        vertical-align: top;\n",
       "    }\n",
       "\n",
       "    .dataframe thead th {\n",
       "        text-align: right;\n",
       "    }\n",
       "</style>\n",
       "<table border=\"1\" class=\"dataframe\">\n",
       "  <thead>\n",
       "    <tr style=\"text-align: right;\">\n",
       "      <th></th>\n",
       "      <th>Code commune</th>\n",
       "      <th>region_geojson_name</th>\n",
       "      <th>Population en 2014 (princ)</th>\n",
       "      <th>Catégorie commune dans aire d'attraction des villes 2020</th>\n",
       "      <th>Tranche détaillée d'aire d'attraction des villes 2020</th>\n",
       "      <th>Libellé degré de densité</th>\n",
       "      <th>APL aux médecins généralistes (sans borne d'âge)</th>\n",
       "      <th>densité 4 niveaux</th>\n",
       "    </tr>\n",
       "  </thead>\n",
       "  <tbody>\n",
       "    <tr>\n",
       "      <th>count</th>\n",
       "      <td>34869</td>\n",
       "      <td>34869</td>\n",
       "      <td>34819.000000</td>\n",
       "      <td>34823</td>\n",
       "      <td>34823</td>\n",
       "      <td>34823</td>\n",
       "      <td>34862.000000</td>\n",
       "      <td>34823</td>\n",
       "    </tr>\n",
       "    <tr>\n",
       "      <th>unique</th>\n",
       "      <td>34868</td>\n",
       "      <td>13</td>\n",
       "      <td>NaN</td>\n",
       "      <td>5</td>\n",
       "      <td>17</td>\n",
       "      <td>7</td>\n",
       "      <td>NaN</td>\n",
       "      <td>4</td>\n",
       "    </tr>\n",
       "    <tr>\n",
       "      <th>top</th>\n",
       "      <td>39274</td>\n",
       "      <td>Grand Est</td>\n",
       "      <td>NaN</td>\n",
       "      <td>Commune de la couronne</td>\n",
       "      <td>Commune hors attraction des villes</td>\n",
       "      <td>Rural à habitat dispersé</td>\n",
       "      <td>NaN</td>\n",
       "      <td>Commune peu dense</td>\n",
       "    </tr>\n",
       "    <tr>\n",
       "      <th>freq</th>\n",
       "      <td>2</td>\n",
       "      <td>5121</td>\n",
       "      <td>NaN</td>\n",
       "      <td>24203</td>\n",
       "      <td>8907</td>\n",
       "      <td>18358</td>\n",
       "      <td>NaN</td>\n",
       "      <td>18963</td>\n",
       "    </tr>\n",
       "    <tr>\n",
       "      <th>mean</th>\n",
       "      <td>NaN</td>\n",
       "      <td>NaN</td>\n",
       "      <td>1819.161033</td>\n",
       "      <td>NaN</td>\n",
       "      <td>NaN</td>\n",
       "      <td>NaN</td>\n",
       "      <td>3.275459</td>\n",
       "      <td>NaN</td>\n",
       "    </tr>\n",
       "    <tr>\n",
       "      <th>std</th>\n",
       "      <td>NaN</td>\n",
       "      <td>NaN</td>\n",
       "      <td>8356.397126</td>\n",
       "      <td>NaN</td>\n",
       "      <td>NaN</td>\n",
       "      <td>NaN</td>\n",
       "      <td>1.281371</td>\n",
       "      <td>NaN</td>\n",
       "    </tr>\n",
       "    <tr>\n",
       "      <th>min</th>\n",
       "      <td>NaN</td>\n",
       "      <td>NaN</td>\n",
       "      <td>1.000000</td>\n",
       "      <td>NaN</td>\n",
       "      <td>NaN</td>\n",
       "      <td>NaN</td>\n",
       "      <td>0.000000</td>\n",
       "      <td>NaN</td>\n",
       "    </tr>\n",
       "    <tr>\n",
       "      <th>25%</th>\n",
       "      <td>NaN</td>\n",
       "      <td>NaN</td>\n",
       "      <td>199.000000</td>\n",
       "      <td>NaN</td>\n",
       "      <td>NaN</td>\n",
       "      <td>NaN</td>\n",
       "      <td>2.491000</td>\n",
       "      <td>NaN</td>\n",
       "    </tr>\n",
       "    <tr>\n",
       "      <th>50%</th>\n",
       "      <td>NaN</td>\n",
       "      <td>NaN</td>\n",
       "      <td>449.000000</td>\n",
       "      <td>NaN</td>\n",
       "      <td>NaN</td>\n",
       "      <td>NaN</td>\n",
       "      <td>3.216000</td>\n",
       "      <td>NaN</td>\n",
       "    </tr>\n",
       "    <tr>\n",
       "      <th>75%</th>\n",
       "      <td>NaN</td>\n",
       "      <td>NaN</td>\n",
       "      <td>1124.500000</td>\n",
       "      <td>NaN</td>\n",
       "      <td>NaN</td>\n",
       "      <td>NaN</td>\n",
       "      <td>3.996000</td>\n",
       "      <td>NaN</td>\n",
       "    </tr>\n",
       "    <tr>\n",
       "      <th>max</th>\n",
       "      <td>NaN</td>\n",
       "      <td>NaN</td>\n",
       "      <td>466297.000000</td>\n",
       "      <td>NaN</td>\n",
       "      <td>NaN</td>\n",
       "      <td>NaN</td>\n",
       "      <td>19.685000</td>\n",
       "      <td>NaN</td>\n",
       "    </tr>\n",
       "  </tbody>\n",
       "</table>\n",
       "</div>"
      ],
      "text/plain": [
       "       Code commune region_geojson_name  Population en 2014 (princ)  \\\n",
       "count         34869               34869                34819.000000   \n",
       "unique        34868                  13                         NaN   \n",
       "top           39274           Grand Est                         NaN   \n",
       "freq              2                5121                         NaN   \n",
       "mean            NaN                 NaN                 1819.161033   \n",
       "std             NaN                 NaN                 8356.397126   \n",
       "min             NaN                 NaN                    1.000000   \n",
       "25%             NaN                 NaN                  199.000000   \n",
       "50%             NaN                 NaN                  449.000000   \n",
       "75%             NaN                 NaN                 1124.500000   \n",
       "max             NaN                 NaN               466297.000000   \n",
       "\n",
       "       Catégorie commune dans aire d'attraction des villes 2020  \\\n",
       "count                                               34823         \n",
       "unique                                                  5         \n",
       "top                                Commune de la couronne         \n",
       "freq                                                24203         \n",
       "mean                                                  NaN         \n",
       "std                                                   NaN         \n",
       "min                                                   NaN         \n",
       "25%                                                   NaN         \n",
       "50%                                                   NaN         \n",
       "75%                                                   NaN         \n",
       "max                                                   NaN         \n",
       "\n",
       "       Tranche détaillée d'aire d'attraction des villes 2020  \\\n",
       "count                                               34823      \n",
       "unique                                                 17      \n",
       "top                    Commune hors attraction des villes      \n",
       "freq                                                 8907      \n",
       "mean                                                  NaN      \n",
       "std                                                   NaN      \n",
       "min                                                   NaN      \n",
       "25%                                                   NaN      \n",
       "50%                                                   NaN      \n",
       "75%                                                   NaN      \n",
       "max                                                   NaN      \n",
       "\n",
       "        Libellé degré de densité  \\\n",
       "count                      34823   \n",
       "unique                         7   \n",
       "top     Rural à habitat dispersé   \n",
       "freq                       18358   \n",
       "mean                         NaN   \n",
       "std                          NaN   \n",
       "min                          NaN   \n",
       "25%                          NaN   \n",
       "50%                          NaN   \n",
       "75%                          NaN   \n",
       "max                          NaN   \n",
       "\n",
       "        APL aux médecins généralistes (sans borne d'âge)  densité 4 niveaux  \n",
       "count                                       34862.000000              34823  \n",
       "unique                                               NaN                  4  \n",
       "top                                                  NaN  Commune peu dense  \n",
       "freq                                                 NaN              18963  \n",
       "mean                                            3.275459                NaN  \n",
       "std                                             1.281371                NaN  \n",
       "min                                             0.000000                NaN  \n",
       "25%                                             2.491000                NaN  \n",
       "50%                                             3.216000                NaN  \n",
       "75%                                             3.996000                NaN  \n",
       "max                                            19.685000                NaN  "
      ]
     },
     "metadata": {},
     "output_type": "display_data"
    },
    {
     "name": "stdout",
     "output_type": "stream",
     "text": [
      "\n",
      "Percentage of missing values: \n",
      "Code commune                                                0.00\n",
      "region_geojson_name                                         0.00\n",
      "Population en 2014 (princ)                                  0.14\n",
      "Catégorie commune dans aire d'attraction des villes 2020    0.13\n",
      "Tranche détaillée d'aire d'attraction des villes 2020       0.13\n",
      "Libellé degré de densité                                    0.13\n",
      "APL aux médecins généralistes (sans borne d'âge)            0.02\n",
      "densité 4 niveaux                                           0.13\n",
      "dtype: float64\n"
     ]
    }
   ],
   "source": [
    "print('Number of rows :', variables_etude_work.shape[0])\n",
    "print('Number of columns :', variables_etude_work.shape[1])\n",
    "print()\n",
    "\n",
    "# Dataset statistics\n",
    "print('Basics statistics :')\n",
    "summary_stats_all = variables_etude_work.describe(include='all')\n",
    "display(summary_stats_all)\n",
    "print()\n",
    "\n",
    "# Missing values percentage\n",
    "missing_percentages = (variables_etude_work.isna().mean() * 100).round(2)\n",
    "print('Percentage of missing values: ')\n",
    "print(missing_percentages)"
   ]
  },
  {
   "cell_type": "code",
   "execution_count": 33,
   "metadata": {},
   "outputs": [],
   "source": [
    "variables_etude_work.dropna(inplace= True)"
   ]
  },
  {
   "cell_type": "code",
   "execution_count": 34,
   "metadata": {},
   "outputs": [],
   "source": [
    "variables_etude_work.drop('Code commune', inplace = True, axis = 1)"
   ]
  },
  {
   "cell_type": "code",
   "execution_count": 35,
   "metadata": {},
   "outputs": [
    {
     "name": "stdout",
     "output_type": "stream",
     "text": [
      "Separating labels from features...\n",
      "...Done.\n",
      "\n",
      "Y : \n",
      "0    2.293\n",
      "1    2.600\n",
      "2    4.079\n",
      "3    4.378\n",
      "4    1.069\n",
      "Name: APL aux médecins généralistes (sans borne d'âge), dtype: float64\n",
      "\n",
      "X :\n",
      "    region_geojson_name  Population en 2014 (princ)  \\\n",
      "0  Auvergne-Rhône-Alpes                       767.0   \n",
      "1  Auvergne-Rhône-Alpes                       239.0   \n",
      "2  Auvergne-Rhône-Alpes                     14022.0   \n",
      "3  Auvergne-Rhône-Alpes                      1627.0   \n",
      "4  Auvergne-Rhône-Alpes                       109.0   \n",
      "\n",
      "  Catégorie commune dans aire d'attraction des villes 2020  \\\n",
      "0                             Commune de la couronne         \n",
      "1                  Commune hors attraction des pôles         \n",
      "2                                     Commune-centre         \n",
      "3                             Commune de la couronne         \n",
      "4                             Commune de la couronne         \n",
      "\n",
      "  Tranche détaillée d'aire d'attraction des villes 2020  \\\n",
      "0                  Aire de moins de 10 000 habitants      \n",
      "1                 Commune hors attraction des villes      \n",
      "2         Aire de 30 000 à moins de 50 000 habitants      \n",
      "3  Aire de 1 000 000 d’habitants ou plus (hors Pa...      \n",
      "4         Aire de 20 000 à moins de 30 000 habitants      \n",
      "\n",
      "         Libellé degré de densité                 densité 4 niveaux  \n",
      "0        Rural à habitat dispersé                 Commune peu dense  \n",
      "1        Rural à habitat dispersé            Commune très peu dense  \n",
      "2  Centres urbains intermédiaires  Commune de densité intermédiaire  \n",
      "3                   Bourgs ruraux                 Commune peu dense  \n",
      "4        Rural à habitat dispersé            Commune très peu dense  \n"
     ]
    }
   ],
   "source": [
    "# Separate target variable Y from features X\n",
    "print(\"Separating labels from features...\")\n",
    "target_variable = \"APL aux médecins généralistes (sans borne d'âge)\"\n",
    "\n",
    "X = variables_etude_work.drop(target_variable, axis = 1)\n",
    "Y = variables_etude_work.loc[:,target_variable]\n",
    "\n",
    "print(\"...Done.\")\n",
    "print()\n",
    "\n",
    "print('Y : ')\n",
    "print(Y.head())\n",
    "print()\n",
    "print('X :')\n",
    "print(X.head())"
   ]
  },
  {
   "cell_type": "code",
   "execution_count": 36,
   "metadata": {},
   "outputs": [
    {
     "name": "stdout",
     "output_type": "stream",
     "text": [
      "Dividing into train and test sets...\n",
      "...Done.\n",
      "\n"
     ]
    }
   ],
   "source": [
    "# Divide dataset Train set & Test set \n",
    "print(\"Dividing into train and test sets...\")\n",
    "X_train, X_test, Y_train, Y_test = train_test_split(X, Y, test_size=0.2, random_state=42)\n",
    "print(\"...Done.\")\n",
    "print()"
   ]
  },
  {
   "cell_type": "code",
   "execution_count": 37,
   "metadata": {},
   "outputs": [
    {
     "name": "stdout",
     "output_type": "stream",
     "text": [
      "Found numeric features  ['Population en 2014 (princ)']\n",
      "Found categorical features  ['region_geojson_name', \"Catégorie commune dans aire d'attraction des villes 2020\", \"Tranche détaillée d'aire d'attraction des villes 2020\", 'Libellé degré de densité', 'densité 4 niveaux']\n"
     ]
    }
   ],
   "source": [
    "# Automatically detect names of numeric/categorical columns\n",
    "numeric_features = []\n",
    "categorical_features = []\n",
    "for i, t in X.dtypes.items():\n",
    "    if ('float' in str(t)) or ('int' in str(t)):\n",
    "        numeric_features.append(i)\n",
    "    else:\n",
    "        categorical_features.append(i)\n",
    "print('Found numeric features ', numeric_features)\n",
    "print('Found categorical features ', categorical_features)"
   ]
  },
  {
   "cell_type": "code",
   "execution_count": 38,
   "metadata": {},
   "outputs": [],
   "source": [
    "#Multiple Transformations preprocessing\n",
    "\n",
    "# Create pipeline for numeric features\n",
    "numeric_transformer = Pipeline(steps=[\n",
    "    ('scaler', StandardScaler())\n",
    "])\n",
    "\n",
    "# Create pipeline for categorical features\n",
    "categorical_transformer = Pipeline(\n",
    "    steps=[\n",
    "    ('encoder', OneHotEncoder(drop='first', handle_unknown='ignore')) # first column will be dropped to avoid creating correlations between features\n",
    "    ])\n",
    "\n",
    "# Use ColumnTransformer to make a preprocessor object that describes all the treatments to be done\n",
    "preprocessor = ColumnTransformer(\n",
    "    transformers=[\n",
    "        (\"num\", numeric_transformer, numeric_features),\n",
    "        (\"cat\", categorical_transformer, categorical_features),\n",
    "    ]\n",
    ")"
   ]
  },
  {
   "cell_type": "code",
   "execution_count": 39,
   "metadata": {},
   "outputs": [
    {
     "name": "stdout",
     "output_type": "stream",
     "text": [
      "Performing preprocessings on train set...\n",
      "        region_geojson_name  Population en 2014 (princ)  \\\n",
      "2418   Auvergne-Rhône-Alpes                       270.0   \n",
      "17535  Auvergne-Rhône-Alpes                      5669.0   \n",
      "13603             Occitanie                       178.0   \n",
      "15876  Auvergne-Rhône-Alpes                       957.0   \n",
      "27871    Nouvelle-Aquitaine                      6575.0   \n",
      "\n",
      "      Catégorie commune dans aire d'attraction des villes 2020  \\\n",
      "2418                   Commune hors attraction des pôles         \n",
      "17535                             Commune de la couronne         \n",
      "13603                             Commune de la couronne         \n",
      "15876                  Commune hors attraction des pôles         \n",
      "27871                             Commune de la couronne         \n",
      "\n",
      "      Tranche détaillée d'aire d'attraction des villes 2020  \\\n",
      "2418                  Commune hors attraction des villes      \n",
      "17535       Aire de 400 000 à moins de 500 000 habitants      \n",
      "13603  Aire de 1 000 000 d’habitants ou plus (hors Pa...      \n",
      "15876                 Commune hors attraction des villes      \n",
      "27871       Aire de 200 000 à moins de 300 000 habitants      \n",
      "\n",
      "            Libellé degré de densité                 densité 4 niveaux  \n",
      "2418   Rural à habitat très dispersé            Commune très peu dense  \n",
      "17535             Ceintures urbaines  Commune de densité intermédiaire  \n",
      "13603  Rural à habitat très dispersé            Commune très peu dense  \n",
      "15876       Rural à habitat dispersé                 Commune peu dense  \n",
      "27871             Ceintures urbaines  Commune de densité intermédiaire  \n",
      "...Done.\n",
      "  (0, 0)\t-0.19243184556414164\n",
      "  (0, 15)\t1.0\n",
      "  (0, 32)\t1.0\n",
      "  (0, 38)\t1.0\n",
      "  (0, 41)\t1.0\n",
      "  (1, 0)\t0.5249035728745958\n",
      "  (1, 14)\t1.0\n",
      "  (1, 25)\t1.0\n",
      "  (1, 33)\t1.0\n",
      "  (2, 0)\t-0.20465537927341446\n",
      "  (2, 9)\t1.0\n",
      "  (2, 14)\t1.0\n",
      "  (2, 38)\t1.0\n",
      "  (2, 41)\t1.0\n",
      "  (3, 0)\t-0.10115393623511543\n",
      "  (3, 15)\t1.0\n",
      "  (3, 32)\t1.0\n",
      "  (3, 37)\t1.0\n",
      "  (3, 40)\t1.0\n",
      "  (4, 0)\t0.6452788070115649\n",
      "  (4, 8)\t1.0\n",
      "  (4, 14)\t1.0\n",
      "  (4, 22)\t1.0\n",
      "  (4, 33)\t1.0\n",
      "\n",
      "Performing preprocessings on test set...\n",
      "           region_geojson_name  Population en 2014 (princ)  \\\n",
      "30397  Bourgogne-Franche-Comté                      1589.0   \n",
      "28893                Occitanie                       261.0   \n",
      "5846      Auvergne-Rhône-Alpes                       278.0   \n",
      "16443  Bourgogne-Franche-Comté                       183.0   \n",
      "7762   Bourgogne-Franche-Comté                       109.0   \n",
      "\n",
      "      Catégorie commune dans aire d'attraction des villes 2020  \\\n",
      "30397                             Commune de la couronne         \n",
      "28893                             Commune de la couronne         \n",
      "5846                              Commune de la couronne         \n",
      "16443                             Commune de la couronne         \n",
      "7762                              Commune de la couronne         \n",
      "\n",
      "      Tranche détaillée d'aire d'attraction des villes 2020  \\\n",
      "30397         Aire de 20 000 à moins de 30 000 habitants      \n",
      "28893       Aire de 400 000 à moins de 500 000 habitants      \n",
      "5846         Aire de 75 000 à moins de 100 000 habitants      \n",
      "16443       Aire de 125 000 à moins de 150 000 habitants      \n",
      "7762          Aire de 50 000 à moins de 75 000 habitants      \n",
      "\n",
      "            Libellé degré de densité       densité 4 niveaux  \n",
      "30397       Rural à habitat dispersé       Commune peu dense  \n",
      "28893       Rural à habitat dispersé       Commune peu dense  \n",
      "5846   Rural à habitat très dispersé       Commune peu dense  \n",
      "16443  Rural à habitat très dispersé  Commune très peu dense  \n",
      "7762        Rural à habitat dispersé       Commune peu dense  \n",
      "...Done.\n",
      "  (0, 0)\t-0.017183574232284886\n",
      "  (0, 1)\t1.0\n",
      "  (0, 14)\t1.0\n",
      "  (0, 21)\t1.0\n",
      "  (0, 37)\t1.0\n",
      "  (0, 40)\t1.0\n",
      "  (1, 0)\t-0.19362762603570094\n",
      "  (1, 9)\t1.0\n",
      "  (1, 14)\t1.0\n",
      "  (1, 25)\t1.0\n",
      "  (1, 37)\t1.0\n",
      "  (1, 40)\t1.0\n",
      "  (2, 0)\t-0.19136892958942228\n",
      "  (2, 14)\t1.0\n",
      "  (2, 29)\t1.0\n",
      "  (2, 38)\t1.0\n",
      "  (2, 40)\t1.0\n",
      "  (3, 0)\t-0.20399105678921484\n",
      "  (3, 1)\t1.0\n",
      "  (3, 14)\t1.0\n",
      "  (3, 19)\t1.0\n",
      "  (3, 38)\t1.0\n",
      "  (3, 41)\t1.0\n",
      "  (4, 0)\t-0.21382302955536905\n",
      "  (4, 1)\t1.0\n",
      "  (4, 14)\t1.0\n",
      "  (4, 26)\t1.0\n",
      "  (4, 37)\t1.0\n",
      "  (4, 40)\t1.0\n",
      "\n"
     ]
    }
   ],
   "source": [
    "# Preprocessings on train set\n",
    "print(\"Performing preprocessings on train set...\")\n",
    "print(X_train.head())\n",
    "X_train = preprocessor.fit_transform(X_train)\n",
    "print('...Done.')\n",
    "print(X_train[0:5,:])\n",
    "print()\n",
    "\n",
    "# Preprocessings on test set\n",
    "print(\"Performing preprocessings on test set...\")\n",
    "print(X_test.head())\n",
    "X_test = preprocessor.transform(X_test) # Don't fit again !!\n",
    "print('...Done.')\n",
    "print(X_test[0:5,:])\n",
    "print()"
   ]
  },
  {
   "cell_type": "markdown",
   "metadata": {},
   "source": [
    "Linear regression "
   ]
  },
  {
   "cell_type": "code",
   "execution_count": 40,
   "metadata": {},
   "outputs": [
    {
     "name": "stdout",
     "output_type": "stream",
     "text": [
      "Training model...\n",
      "...Done.\n"
     ]
    }
   ],
   "source": [
    "# Train model\n",
    "model = LinearRegression() # or LniearRegression pour regression lineaire par exemple\n",
    "print(\"Training model...\")\n",
    "model.fit(X_train, Y_train)  # Training is always done on train set !!\n",
    "print(\"...Done.\")"
   ]
  },
  {
   "cell_type": "code",
   "execution_count": 41,
   "metadata": {},
   "outputs": [
    {
     "name": "stdout",
     "output_type": "stream",
     "text": [
      "R2 score on training set :  0.19058583704241172\n",
      "R2 score on test set :  0.1875988784026037\n"
     ]
    }
   ],
   "source": [
    "# Print R^2 scores\n",
    "print(\"R2 score on training set : \", model.score(X_train, Y_train))\n",
    "print(\"R2 score on test set : \", model.score(X_test, Y_test))"
   ]
  },
  {
   "cell_type": "code",
   "execution_count": 42,
   "metadata": {},
   "outputs": [
    {
     "name": "stdout",
     "output_type": "stream",
     "text": [
      "Names of columns corresponding to each coefficient:  ['Population en 2014 (princ)', 'region_geojson_name_Bourgogne-Franche-Comté', 'region_geojson_name_Bretagne', 'region_geojson_name_Centre-Val de Loire', 'region_geojson_name_Corse', 'region_geojson_name_Grand Est', 'region_geojson_name_Hauts-de-France', 'region_geojson_name_Normandie', 'region_geojson_name_Nouvelle-Aquitaine', 'region_geojson_name_Occitanie', 'region_geojson_name_Pays de la Loire', \"region_geojson_name_Provence-Alpes-Côte d'Azur\", 'region_geojson_name_Île-de-France', \"Catégorie commune dans aire d'attraction des villes 2020_Commune d'un pôle secondaire\", \"Catégorie commune dans aire d'attraction des villes 2020_Commune de la couronne\", \"Catégorie commune dans aire d'attraction des villes 2020_Commune hors attraction des pôles\", \"Catégorie commune dans aire d'attraction des villes 2020_Commune-centre\", \"Tranche détaillée d'aire d'attraction des villes 2020_Aire de 10 000 à moins de 20 000 habitants\", \"Tranche détaillée d'aire d'attraction des villes 2020_Aire de 100 000 à moins de 125 000 habitants\", \"Tranche détaillée d'aire d'attraction des villes 2020_Aire de 125 000 à moins de 150 000 habitants\", \"Tranche détaillée d'aire d'attraction des villes 2020_Aire de 150 000 à moins de 200 000 habitants\", \"Tranche détaillée d'aire d'attraction des villes 2020_Aire de 20 000 à moins de 30 000 habitants\", \"Tranche détaillée d'aire d'attraction des villes 2020_Aire de 200 000 à moins de 300 000 habitants\", \"Tranche détaillée d'aire d'attraction des villes 2020_Aire de 30 000 à moins de 50 000 habitants\", \"Tranche détaillée d'aire d'attraction des villes 2020_Aire de 300 000 à moins de 400 000 habitants\", \"Tranche détaillée d'aire d'attraction des villes 2020_Aire de 400 000 à moins de 500 000 habitants\", \"Tranche détaillée d'aire d'attraction des villes 2020_Aire de 50 000 à moins de 75 000 habitants\", \"Tranche détaillée d'aire d'attraction des villes 2020_Aire de 500 000 à moins de 700 000 habitants\", \"Tranche détaillée d'aire d'attraction des villes 2020_Aire de 700 000 à moins de 1 000 000 d’habitants\", \"Tranche détaillée d'aire d'attraction des villes 2020_Aire de 75 000 à moins de 100 000 habitants\", \"Tranche détaillée d'aire d'attraction des villes 2020_Aire de Paris\", \"Tranche détaillée d'aire d'attraction des villes 2020_Aire de moins de 10 000 habitants\", \"Tranche détaillée d'aire d'attraction des villes 2020_Commune hors attraction des villes\", 'Libellé degré de densité_Ceintures urbaines', 'Libellé degré de densité_Centres urbains intermédiaires', 'Libellé degré de densité_Grands centres urbains', 'Libellé degré de densité_Petites villes', 'Libellé degré de densité_Rural à habitat dispersé', 'Libellé degré de densité_Rural à habitat très dispersé', 'densité 4 niveaux_Commune densément peuplée', 'densité 4 niveaux_Commune peu dense', 'densité 4 niveaux_Commune très peu dense']\n"
     ]
    }
   ],
   "source": [
    "column_names = []\n",
    "for name, step, features_list in preprocessor.transformers_: # loop over steps of ColumnTransformer\n",
    "    if name == 'num': # if pipeline is for numeric variables\n",
    "        features = features_list # just get the names of columns to which it has been applied\n",
    "    else: # if pipeline is for categorical variables\n",
    "        features = step.get_feature_names_out() # get output columns names from OneHotEncoder\n",
    "    column_names.extend(features) # concatenate features names\n",
    "        \n",
    "print(\"Names of columns corresponding to each coefficient: \", column_names)"
   ]
  },
  {
   "cell_type": "code",
   "execution_count": 48,
   "metadata": {},
   "outputs": [],
   "source": [
    "# Create a pandas DataFrame\n",
    "feature_importance = pd.DataFrame(index = column_names, data = model.coef_, columns=[\"feature_importances\"])\n",
    "feature_importance = feature_importance.sort_values(by = 'feature_importances', ascending= False, key=abs)"
   ]
  },
  {
   "cell_type": "code",
   "execution_count": 50,
   "metadata": {},
   "outputs": [
    {
     "data": {
      "text/html": [
       "<div>\n",
       "<style scoped>\n",
       "    .dataframe tbody tr th:only-of-type {\n",
       "        vertical-align: middle;\n",
       "    }\n",
       "\n",
       "    .dataframe tbody tr th {\n",
       "        vertical-align: top;\n",
       "    }\n",
       "\n",
       "    .dataframe thead th {\n",
       "        text-align: right;\n",
       "    }\n",
       "</style>\n",
       "<table border=\"1\" class=\"dataframe\">\n",
       "  <thead>\n",
       "    <tr style=\"text-align: right;\">\n",
       "      <th></th>\n",
       "      <th>feature_importances</th>\n",
       "    </tr>\n",
       "  </thead>\n",
       "  <tbody>\n",
       "    <tr>\n",
       "      <th>Libellé degré de densité_Grands centres urbains</th>\n",
       "      <td>0.860906</td>\n",
       "    </tr>\n",
       "    <tr>\n",
       "      <th>Tranche détaillée d'aire d'attraction des villes 2020_Aire de Paris</th>\n",
       "      <td>-0.760008</td>\n",
       "    </tr>\n",
       "    <tr>\n",
       "      <th>Libellé degré de densité_Rural à habitat très dispersé</th>\n",
       "      <td>-0.685959</td>\n",
       "    </tr>\n",
       "    <tr>\n",
       "      <th>region_geojson_name_Nouvelle-Aquitaine</th>\n",
       "      <td>0.684467</td>\n",
       "    </tr>\n",
       "    <tr>\n",
       "      <th>densité 4 niveaux_Commune très peu dense</th>\n",
       "      <td>-0.683703</td>\n",
       "    </tr>\n",
       "    <tr>\n",
       "      <th>region_geojson_name_Occitanie</th>\n",
       "      <td>0.669078</td>\n",
       "    </tr>\n",
       "    <tr>\n",
       "      <th>region_geojson_name_Hauts-de-France</th>\n",
       "      <td>0.633532</td>\n",
       "    </tr>\n",
       "    <tr>\n",
       "      <th>region_geojson_name_Bourgogne-Franche-Comté</th>\n",
       "      <td>0.421180</td>\n",
       "    </tr>\n",
       "    <tr>\n",
       "      <th>Libellé degré de densité_Centres urbains intermédiaires</th>\n",
       "      <td>0.421004</td>\n",
       "    </tr>\n",
       "    <tr>\n",
       "      <th>region_geojson_name_Grand Est</th>\n",
       "      <td>0.420342</td>\n",
       "    </tr>\n",
       "    <tr>\n",
       "      <th>Catégorie commune dans aire d'attraction des villes 2020_Commune d'un pôle secondaire</th>\n",
       "      <td>-0.415602</td>\n",
       "    </tr>\n",
       "    <tr>\n",
       "      <th>region_geojson_name_Bretagne</th>\n",
       "      <td>0.384069</td>\n",
       "    </tr>\n",
       "    <tr>\n",
       "      <th>Tranche détaillée d'aire d'attraction des villes 2020_Aire de 150 000 à moins de 200 000 habitants</th>\n",
       "      <td>-0.383916</td>\n",
       "    </tr>\n",
       "    <tr>\n",
       "      <th>Tranche détaillée d'aire d'attraction des villes 2020_Aire de 100 000 à moins de 125 000 habitants</th>\n",
       "      <td>-0.379697</td>\n",
       "    </tr>\n",
       "    <tr>\n",
       "      <th>Tranche détaillée d'aire d'attraction des villes 2020_Aire de 125 000 à moins de 150 000 habitants</th>\n",
       "      <td>-0.367551</td>\n",
       "    </tr>\n",
       "  </tbody>\n",
       "</table>\n",
       "</div>"
      ],
      "text/plain": [
       "                                                    feature_importances\n",
       "Libellé degré de densité_Grands centres urbains                0.860906\n",
       "Tranche détaillée d'aire d'attraction des ville...            -0.760008\n",
       "Libellé degré de densité_Rural à habitat très d...            -0.685959\n",
       "region_geojson_name_Nouvelle-Aquitaine                         0.684467\n",
       "densité 4 niveaux_Commune très peu dense                      -0.683703\n",
       "region_geojson_name_Occitanie                                  0.669078\n",
       "region_geojson_name_Hauts-de-France                            0.633532\n",
       "region_geojson_name_Bourgogne-Franche-Comté                    0.421180\n",
       "Libellé degré de densité_Centres urbains interm...             0.421004\n",
       "region_geojson_name_Grand Est                                  0.420342\n",
       "Catégorie commune dans aire d'attraction des vi...            -0.415602\n",
       "region_geojson_name_Bretagne                                   0.384069\n",
       "Tranche détaillée d'aire d'attraction des ville...            -0.383916\n",
       "Tranche détaillée d'aire d'attraction des ville...            -0.379697\n",
       "Tranche détaillée d'aire d'attraction des ville...            -0.367551"
      ]
     },
     "execution_count": 50,
     "metadata": {},
     "output_type": "execute_result"
    }
   ],
   "source": [
    "feature_importance.head(15)"
   ]
  },
  {
   "cell_type": "code",
   "execution_count": 49,
   "metadata": {},
   "outputs": [
    {
     "data": {
      "application/vnd.plotly.v1+json": {
       "config": {
        "plotlyServerURL": "https://plot.ly"
       },
       "data": [
        {
         "alignmentgroup": "True",
         "hovertemplate": "variable=feature_importances<br>value=%{x}<br>index=%{y}<extra></extra>",
         "legendgroup": "feature_importances",
         "marker": {
          "color": "#636efa",
          "pattern": {
           "shape": ""
          }
         },
         "name": "feature_importances",
         "offsetgroup": "feature_importances",
         "orientation": "h",
         "showlegend": true,
         "textposition": "auto",
         "type": "bar",
         "x": [
          0.8609058701966729,
          -0.7600075604257724,
          -0.6859592010424271,
          0.6844671530973863,
          -0.6837027166676023,
          0.6690784792663619,
          0.633532466475438,
          0.4211804218834081,
          0.42100357706785996,
          0.4203415713861812,
          -0.4156017211662912,
          0.3840689801158053,
          -0.38391626645563987,
          -0.37969742308942933,
          -0.36755107173800333,
          0.34867058745475,
          0.3406191737328627,
          0.32718654850826945,
          -0.3258406310435963,
          -0.3086126953305074,
          -0.28875140156774015,
          -0.2810383922188978,
          -0.20282757606689902,
          -0.1568601256990452,
          -0.15570828316336185,
          -0.14536063002533853,
          -0.1406185113462516,
          -0.13521005202360553,
          -0.12206084777174958,
          -0.10857135864805872,
          0.09838930657032083,
          -0.09416822137205631,
          -0.09416822137205631,
          -0.085954718050799,
          -0.058740720637586355,
          0.0561160646077708,
          -0.055804142077869205,
          -0.0131843202746047,
          0.01298785392685668,
          0.0064302272539354995,
          0.004462740679580297,
          -0.0015586159081708041
         ],
         "xaxis": "x",
         "y": [
          "Libellé degré de densité_Grands centres urbains",
          "Tranche détaillée d'aire d'attraction des villes 2020_Aire de Paris",
          "Libellé degré de densité_Rural à habitat très dispersé",
          "region_geojson_name_Nouvelle-Aquitaine",
          "densité 4 niveaux_Commune très peu dense",
          "region_geojson_name_Occitanie",
          "region_geojson_name_Hauts-de-France",
          "region_geojson_name_Bourgogne-Franche-Comté",
          "Libellé degré de densité_Centres urbains intermédiaires",
          "region_geojson_name_Grand Est",
          "Catégorie commune dans aire d'attraction des villes 2020_Commune d'un pôle secondaire",
          "region_geojson_name_Bretagne",
          "Tranche détaillée d'aire d'attraction des villes 2020_Aire de 150 000 à moins de 200 000 habitants",
          "Tranche détaillée d'aire d'attraction des villes 2020_Aire de 100 000 à moins de 125 000 habitants",
          "Tranche détaillée d'aire d'attraction des villes 2020_Aire de 125 000 à moins de 150 000 habitants",
          "region_geojson_name_Provence-Alpes-Côte d'Azur",
          "Libellé degré de densité_Ceintures urbaines",
          "region_geojson_name_Normandie",
          "Tranche détaillée d'aire d'attraction des villes 2020_Aire de 400 000 à moins de 500 000 habitants",
          "Libellé degré de densité_Rural à habitat dispersé",
          "region_geojson_name_Corse",
          "densité 4 niveaux_Commune peu dense",
          "Tranche détaillée d'aire d'attraction des villes 2020_Aire de 500 000 à moins de 700 000 habitants",
          "Tranche détaillée d'aire d'attraction des villes 2020_Aire de 200 000 à moins de 300 000 habitants",
          "Tranche détaillée d'aire d'attraction des villes 2020_Aire de 20 000 à moins de 30 000 habitants",
          "Tranche détaillée d'aire d'attraction des villes 2020_Aire de 700 000 à moins de 1 000 000 d’habitants",
          "Tranche détaillée d'aire d'attraction des villes 2020_Aire de 50 000 à moins de 75 000 habitants",
          "Tranche détaillée d'aire d'attraction des villes 2020_Aire de 30 000 à moins de 50 000 habitants",
          "Tranche détaillée d'aire d'attraction des villes 2020_Aire de 75 000 à moins de 100 000 habitants",
          "densité 4 niveaux_Commune densément peuplée",
          "Tranche détaillée d'aire d'attraction des villes 2020_Aire de moins de 10 000 habitants",
          "Catégorie commune dans aire d'attraction des villes 2020_Commune hors attraction des pôles",
          "Tranche détaillée d'aire d'attraction des villes 2020_Commune hors attraction des villes",
          "Catégorie commune dans aire d'attraction des villes 2020_Commune-centre",
          "Tranche détaillée d'aire d'attraction des villes 2020_Aire de 300 000 à moins de 400 000 habitants",
          "region_geojson_name_Pays de la Loire",
          "region_geojson_name_Île-de-France",
          "Catégorie commune dans aire d'attraction des villes 2020_Commune de la couronne",
          "Population en 2014 (princ)",
          "region_geojson_name_Centre-Val de Loire",
          "Tranche détaillée d'aire d'attraction des villes 2020_Aire de 10 000 à moins de 20 000 habitants",
          "Libellé degré de densité_Petites villes"
         ],
         "yaxis": "y"
        }
       ],
       "layout": {
        "barmode": "relative",
        "height": 2000,
        "legend": {
         "title": {
          "text": "variable"
         },
         "tracegroupgap": 0
        },
        "margin": {
         "l": 50,
         "t": 60
        },
        "showlegend": false,
        "template": {
         "data": {
          "bar": [
           {
            "error_x": {
             "color": "#2a3f5f"
            },
            "error_y": {
             "color": "#2a3f5f"
            },
            "marker": {
             "line": {
              "color": "#E5ECF6",
              "width": 0.5
             },
             "pattern": {
              "fillmode": "overlay",
              "size": 10,
              "solidity": 0.2
             }
            },
            "type": "bar"
           }
          ],
          "barpolar": [
           {
            "marker": {
             "line": {
              "color": "#E5ECF6",
              "width": 0.5
             },
             "pattern": {
              "fillmode": "overlay",
              "size": 10,
              "solidity": 0.2
             }
            },
            "type": "barpolar"
           }
          ],
          "carpet": [
           {
            "aaxis": {
             "endlinecolor": "#2a3f5f",
             "gridcolor": "white",
             "linecolor": "white",
             "minorgridcolor": "white",
             "startlinecolor": "#2a3f5f"
            },
            "baxis": {
             "endlinecolor": "#2a3f5f",
             "gridcolor": "white",
             "linecolor": "white",
             "minorgridcolor": "white",
             "startlinecolor": "#2a3f5f"
            },
            "type": "carpet"
           }
          ],
          "choropleth": [
           {
            "colorbar": {
             "outlinewidth": 0,
             "ticks": ""
            },
            "type": "choropleth"
           }
          ],
          "contour": [
           {
            "colorbar": {
             "outlinewidth": 0,
             "ticks": ""
            },
            "colorscale": [
             [
              0,
              "#0d0887"
             ],
             [
              0.1111111111111111,
              "#46039f"
             ],
             [
              0.2222222222222222,
              "#7201a8"
             ],
             [
              0.3333333333333333,
              "#9c179e"
             ],
             [
              0.4444444444444444,
              "#bd3786"
             ],
             [
              0.5555555555555556,
              "#d8576b"
             ],
             [
              0.6666666666666666,
              "#ed7953"
             ],
             [
              0.7777777777777778,
              "#fb9f3a"
             ],
             [
              0.8888888888888888,
              "#fdca26"
             ],
             [
              1,
              "#f0f921"
             ]
            ],
            "type": "contour"
           }
          ],
          "contourcarpet": [
           {
            "colorbar": {
             "outlinewidth": 0,
             "ticks": ""
            },
            "type": "contourcarpet"
           }
          ],
          "heatmap": [
           {
            "colorbar": {
             "outlinewidth": 0,
             "ticks": ""
            },
            "colorscale": [
             [
              0,
              "#0d0887"
             ],
             [
              0.1111111111111111,
              "#46039f"
             ],
             [
              0.2222222222222222,
              "#7201a8"
             ],
             [
              0.3333333333333333,
              "#9c179e"
             ],
             [
              0.4444444444444444,
              "#bd3786"
             ],
             [
              0.5555555555555556,
              "#d8576b"
             ],
             [
              0.6666666666666666,
              "#ed7953"
             ],
             [
              0.7777777777777778,
              "#fb9f3a"
             ],
             [
              0.8888888888888888,
              "#fdca26"
             ],
             [
              1,
              "#f0f921"
             ]
            ],
            "type": "heatmap"
           }
          ],
          "heatmapgl": [
           {
            "colorbar": {
             "outlinewidth": 0,
             "ticks": ""
            },
            "colorscale": [
             [
              0,
              "#0d0887"
             ],
             [
              0.1111111111111111,
              "#46039f"
             ],
             [
              0.2222222222222222,
              "#7201a8"
             ],
             [
              0.3333333333333333,
              "#9c179e"
             ],
             [
              0.4444444444444444,
              "#bd3786"
             ],
             [
              0.5555555555555556,
              "#d8576b"
             ],
             [
              0.6666666666666666,
              "#ed7953"
             ],
             [
              0.7777777777777778,
              "#fb9f3a"
             ],
             [
              0.8888888888888888,
              "#fdca26"
             ],
             [
              1,
              "#f0f921"
             ]
            ],
            "type": "heatmapgl"
           }
          ],
          "histogram": [
           {
            "marker": {
             "pattern": {
              "fillmode": "overlay",
              "size": 10,
              "solidity": 0.2
             }
            },
            "type": "histogram"
           }
          ],
          "histogram2d": [
           {
            "colorbar": {
             "outlinewidth": 0,
             "ticks": ""
            },
            "colorscale": [
             [
              0,
              "#0d0887"
             ],
             [
              0.1111111111111111,
              "#46039f"
             ],
             [
              0.2222222222222222,
              "#7201a8"
             ],
             [
              0.3333333333333333,
              "#9c179e"
             ],
             [
              0.4444444444444444,
              "#bd3786"
             ],
             [
              0.5555555555555556,
              "#d8576b"
             ],
             [
              0.6666666666666666,
              "#ed7953"
             ],
             [
              0.7777777777777778,
              "#fb9f3a"
             ],
             [
              0.8888888888888888,
              "#fdca26"
             ],
             [
              1,
              "#f0f921"
             ]
            ],
            "type": "histogram2d"
           }
          ],
          "histogram2dcontour": [
           {
            "colorbar": {
             "outlinewidth": 0,
             "ticks": ""
            },
            "colorscale": [
             [
              0,
              "#0d0887"
             ],
             [
              0.1111111111111111,
              "#46039f"
             ],
             [
              0.2222222222222222,
              "#7201a8"
             ],
             [
              0.3333333333333333,
              "#9c179e"
             ],
             [
              0.4444444444444444,
              "#bd3786"
             ],
             [
              0.5555555555555556,
              "#d8576b"
             ],
             [
              0.6666666666666666,
              "#ed7953"
             ],
             [
              0.7777777777777778,
              "#fb9f3a"
             ],
             [
              0.8888888888888888,
              "#fdca26"
             ],
             [
              1,
              "#f0f921"
             ]
            ],
            "type": "histogram2dcontour"
           }
          ],
          "mesh3d": [
           {
            "colorbar": {
             "outlinewidth": 0,
             "ticks": ""
            },
            "type": "mesh3d"
           }
          ],
          "parcoords": [
           {
            "line": {
             "colorbar": {
              "outlinewidth": 0,
              "ticks": ""
             }
            },
            "type": "parcoords"
           }
          ],
          "pie": [
           {
            "automargin": true,
            "type": "pie"
           }
          ],
          "scatter": [
           {
            "fillpattern": {
             "fillmode": "overlay",
             "size": 10,
             "solidity": 0.2
            },
            "type": "scatter"
           }
          ],
          "scatter3d": [
           {
            "line": {
             "colorbar": {
              "outlinewidth": 0,
              "ticks": ""
             }
            },
            "marker": {
             "colorbar": {
              "outlinewidth": 0,
              "ticks": ""
             }
            },
            "type": "scatter3d"
           }
          ],
          "scattercarpet": [
           {
            "marker": {
             "colorbar": {
              "outlinewidth": 0,
              "ticks": ""
             }
            },
            "type": "scattercarpet"
           }
          ],
          "scattergeo": [
           {
            "marker": {
             "colorbar": {
              "outlinewidth": 0,
              "ticks": ""
             }
            },
            "type": "scattergeo"
           }
          ],
          "scattergl": [
           {
            "marker": {
             "colorbar": {
              "outlinewidth": 0,
              "ticks": ""
             }
            },
            "type": "scattergl"
           }
          ],
          "scattermapbox": [
           {
            "marker": {
             "colorbar": {
              "outlinewidth": 0,
              "ticks": ""
             }
            },
            "type": "scattermapbox"
           }
          ],
          "scatterpolar": [
           {
            "marker": {
             "colorbar": {
              "outlinewidth": 0,
              "ticks": ""
             }
            },
            "type": "scatterpolar"
           }
          ],
          "scatterpolargl": [
           {
            "marker": {
             "colorbar": {
              "outlinewidth": 0,
              "ticks": ""
             }
            },
            "type": "scatterpolargl"
           }
          ],
          "scatterternary": [
           {
            "marker": {
             "colorbar": {
              "outlinewidth": 0,
              "ticks": ""
             }
            },
            "type": "scatterternary"
           }
          ],
          "surface": [
           {
            "colorbar": {
             "outlinewidth": 0,
             "ticks": ""
            },
            "colorscale": [
             [
              0,
              "#0d0887"
             ],
             [
              0.1111111111111111,
              "#46039f"
             ],
             [
              0.2222222222222222,
              "#7201a8"
             ],
             [
              0.3333333333333333,
              "#9c179e"
             ],
             [
              0.4444444444444444,
              "#bd3786"
             ],
             [
              0.5555555555555556,
              "#d8576b"
             ],
             [
              0.6666666666666666,
              "#ed7953"
             ],
             [
              0.7777777777777778,
              "#fb9f3a"
             ],
             [
              0.8888888888888888,
              "#fdca26"
             ],
             [
              1,
              "#f0f921"
             ]
            ],
            "type": "surface"
           }
          ],
          "table": [
           {
            "cells": {
             "fill": {
              "color": "#EBF0F8"
             },
             "line": {
              "color": "white"
             }
            },
            "header": {
             "fill": {
              "color": "#C8D4E3"
             },
             "line": {
              "color": "white"
             }
            },
            "type": "table"
           }
          ]
         },
         "layout": {
          "annotationdefaults": {
           "arrowcolor": "#2a3f5f",
           "arrowhead": 0,
           "arrowwidth": 1
          },
          "autotypenumbers": "strict",
          "coloraxis": {
           "colorbar": {
            "outlinewidth": 0,
            "ticks": ""
           }
          },
          "colorscale": {
           "diverging": [
            [
             0,
             "#8e0152"
            ],
            [
             0.1,
             "#c51b7d"
            ],
            [
             0.2,
             "#de77ae"
            ],
            [
             0.3,
             "#f1b6da"
            ],
            [
             0.4,
             "#fde0ef"
            ],
            [
             0.5,
             "#f7f7f7"
            ],
            [
             0.6,
             "#e6f5d0"
            ],
            [
             0.7,
             "#b8e186"
            ],
            [
             0.8,
             "#7fbc41"
            ],
            [
             0.9,
             "#4d9221"
            ],
            [
             1,
             "#276419"
            ]
           ],
           "sequential": [
            [
             0,
             "#0d0887"
            ],
            [
             0.1111111111111111,
             "#46039f"
            ],
            [
             0.2222222222222222,
             "#7201a8"
            ],
            [
             0.3333333333333333,
             "#9c179e"
            ],
            [
             0.4444444444444444,
             "#bd3786"
            ],
            [
             0.5555555555555556,
             "#d8576b"
            ],
            [
             0.6666666666666666,
             "#ed7953"
            ],
            [
             0.7777777777777778,
             "#fb9f3a"
            ],
            [
             0.8888888888888888,
             "#fdca26"
            ],
            [
             1,
             "#f0f921"
            ]
           ],
           "sequentialminus": [
            [
             0,
             "#0d0887"
            ],
            [
             0.1111111111111111,
             "#46039f"
            ],
            [
             0.2222222222222222,
             "#7201a8"
            ],
            [
             0.3333333333333333,
             "#9c179e"
            ],
            [
             0.4444444444444444,
             "#bd3786"
            ],
            [
             0.5555555555555556,
             "#d8576b"
            ],
            [
             0.6666666666666666,
             "#ed7953"
            ],
            [
             0.7777777777777778,
             "#fb9f3a"
            ],
            [
             0.8888888888888888,
             "#fdca26"
            ],
            [
             1,
             "#f0f921"
            ]
           ]
          },
          "colorway": [
           "#636efa",
           "#EF553B",
           "#00cc96",
           "#ab63fa",
           "#FFA15A",
           "#19d3f3",
           "#FF6692",
           "#B6E880",
           "#FF97FF",
           "#FECB52"
          ],
          "font": {
           "color": "#2a3f5f"
          },
          "geo": {
           "bgcolor": "white",
           "lakecolor": "white",
           "landcolor": "#E5ECF6",
           "showlakes": true,
           "showland": true,
           "subunitcolor": "white"
          },
          "hoverlabel": {
           "align": "left"
          },
          "hovermode": "closest",
          "mapbox": {
           "style": "light"
          },
          "paper_bgcolor": "white",
          "plot_bgcolor": "#E5ECF6",
          "polar": {
           "angularaxis": {
            "gridcolor": "white",
            "linecolor": "white",
            "ticks": ""
           },
           "bgcolor": "#E5ECF6",
           "radialaxis": {
            "gridcolor": "white",
            "linecolor": "white",
            "ticks": ""
           }
          },
          "scene": {
           "xaxis": {
            "backgroundcolor": "#E5ECF6",
            "gridcolor": "white",
            "gridwidth": 2,
            "linecolor": "white",
            "showbackground": true,
            "ticks": "",
            "zerolinecolor": "white"
           },
           "yaxis": {
            "backgroundcolor": "#E5ECF6",
            "gridcolor": "white",
            "gridwidth": 2,
            "linecolor": "white",
            "showbackground": true,
            "ticks": "",
            "zerolinecolor": "white"
           },
           "zaxis": {
            "backgroundcolor": "#E5ECF6",
            "gridcolor": "white",
            "gridwidth": 2,
            "linecolor": "white",
            "showbackground": true,
            "ticks": "",
            "zerolinecolor": "white"
           }
          },
          "shapedefaults": {
           "line": {
            "color": "#2a3f5f"
           }
          },
          "ternary": {
           "aaxis": {
            "gridcolor": "white",
            "linecolor": "white",
            "ticks": ""
           },
           "baxis": {
            "gridcolor": "white",
            "linecolor": "white",
            "ticks": ""
           },
           "bgcolor": "#E5ECF6",
           "caxis": {
            "gridcolor": "white",
            "linecolor": "white",
            "ticks": ""
           }
          },
          "title": {
           "x": 0.05
          },
          "xaxis": {
           "automargin": true,
           "gridcolor": "white",
           "linecolor": "white",
           "ticks": "",
           "title": {
            "standoff": 15
           },
           "zerolinecolor": "white",
           "zerolinewidth": 2
          },
          "yaxis": {
           "automargin": true,
           "gridcolor": "white",
           "linecolor": "white",
           "ticks": "",
           "title": {
            "standoff": 15
           },
           "zerolinecolor": "white",
           "zerolinewidth": 2
          }
         }
        },
        "width": 2500,
        "xaxis": {
         "anchor": "y",
         "domain": [
          0,
          1
         ],
         "title": {
          "text": "value"
         }
        },
        "yaxis": {
         "anchor": "x",
         "domain": [
          0,
          1
         ],
         "title": {
          "text": "index"
         }
        }
       }
      }
     },
     "metadata": {},
     "output_type": "display_data"
    }
   ],
   "source": [
    "# Plot coefficients\n",
    "fig = px.bar(feature_importance, orientation = 'h')\n",
    "fig.update_layout(height=2000, width=2500, showlegend = False, margin = {'l': 50}, ) # to avoid cropping of column names\n",
    "fig.show()"
   ]
  },
  {
   "cell_type": "markdown",
   "metadata": {},
   "source": [
    "Random Forest "
   ]
  },
  {
   "cell_type": "code",
   "execution_count": 51,
   "metadata": {},
   "outputs": [],
   "source": [
    "# Instanciate RandomForestRegressor\n",
    "rf = RandomForestRegressor()"
   ]
  },
  {
   "cell_type": "code",
   "execution_count": 52,
   "metadata": {},
   "outputs": [
    {
     "data": {
      "text/html": [
       "<style>#sk-container-id-2 {color: black;}#sk-container-id-2 pre{padding: 0;}#sk-container-id-2 div.sk-toggleable {background-color: white;}#sk-container-id-2 label.sk-toggleable__label {cursor: pointer;display: block;width: 100%;margin-bottom: 0;padding: 0.3em;box-sizing: border-box;text-align: center;}#sk-container-id-2 label.sk-toggleable__label-arrow:before {content: \"▸\";float: left;margin-right: 0.25em;color: #696969;}#sk-container-id-2 label.sk-toggleable__label-arrow:hover:before {color: black;}#sk-container-id-2 div.sk-estimator:hover label.sk-toggleable__label-arrow:before {color: black;}#sk-container-id-2 div.sk-toggleable__content {max-height: 0;max-width: 0;overflow: hidden;text-align: left;background-color: #f0f8ff;}#sk-container-id-2 div.sk-toggleable__content pre {margin: 0.2em;color: black;border-radius: 0.25em;background-color: #f0f8ff;}#sk-container-id-2 input.sk-toggleable__control:checked~div.sk-toggleable__content {max-height: 200px;max-width: 100%;overflow: auto;}#sk-container-id-2 input.sk-toggleable__control:checked~label.sk-toggleable__label-arrow:before {content: \"▾\";}#sk-container-id-2 div.sk-estimator input.sk-toggleable__control:checked~label.sk-toggleable__label {background-color: #d4ebff;}#sk-container-id-2 div.sk-label input.sk-toggleable__control:checked~label.sk-toggleable__label {background-color: #d4ebff;}#sk-container-id-2 input.sk-hidden--visually {border: 0;clip: rect(1px 1px 1px 1px);clip: rect(1px, 1px, 1px, 1px);height: 1px;margin: -1px;overflow: hidden;padding: 0;position: absolute;width: 1px;}#sk-container-id-2 div.sk-estimator {font-family: monospace;background-color: #f0f8ff;border: 1px dotted black;border-radius: 0.25em;box-sizing: border-box;margin-bottom: 0.5em;}#sk-container-id-2 div.sk-estimator:hover {background-color: #d4ebff;}#sk-container-id-2 div.sk-parallel-item::after {content: \"\";width: 100%;border-bottom: 1px solid gray;flex-grow: 1;}#sk-container-id-2 div.sk-label:hover label.sk-toggleable__label {background-color: #d4ebff;}#sk-container-id-2 div.sk-serial::before {content: \"\";position: absolute;border-left: 1px solid gray;box-sizing: border-box;top: 0;bottom: 0;left: 50%;z-index: 0;}#sk-container-id-2 div.sk-serial {display: flex;flex-direction: column;align-items: center;background-color: white;padding-right: 0.2em;padding-left: 0.2em;position: relative;}#sk-container-id-2 div.sk-item {position: relative;z-index: 1;}#sk-container-id-2 div.sk-parallel {display: flex;align-items: stretch;justify-content: center;background-color: white;position: relative;}#sk-container-id-2 div.sk-item::before, #sk-container-id-2 div.sk-parallel-item::before {content: \"\";position: absolute;border-left: 1px solid gray;box-sizing: border-box;top: 0;bottom: 0;left: 50%;z-index: -1;}#sk-container-id-2 div.sk-parallel-item {display: flex;flex-direction: column;z-index: 1;position: relative;background-color: white;}#sk-container-id-2 div.sk-parallel-item:first-child::after {align-self: flex-end;width: 50%;}#sk-container-id-2 div.sk-parallel-item:last-child::after {align-self: flex-start;width: 50%;}#sk-container-id-2 div.sk-parallel-item:only-child::after {width: 0;}#sk-container-id-2 div.sk-dashed-wrapped {border: 1px dashed gray;margin: 0 0.4em 0.5em 0.4em;box-sizing: border-box;padding-bottom: 0.4em;background-color: white;}#sk-container-id-2 div.sk-label label {font-family: monospace;font-weight: bold;display: inline-block;line-height: 1.2em;}#sk-container-id-2 div.sk-label-container {text-align: center;}#sk-container-id-2 div.sk-container {/* jupyter's `normalize.less` sets `[hidden] { display: none; }` but bootstrap.min.css set `[hidden] { display: none !important; }` so we also need the `!important` here to be able to override the default hidden behavior on the sphinx rendered scikit-learn.org. See: https://github.com/scikit-learn/scikit-learn/issues/21755 */display: inline-block !important;position: relative;}#sk-container-id-2 div.sk-text-repr-fallback {display: none;}</style><div id=\"sk-container-id-2\" class=\"sk-top-container\"><div class=\"sk-text-repr-fallback\"><pre>RandomForestRegressor()</pre><b>In a Jupyter environment, please rerun this cell to show the HTML representation or trust the notebook. <br />On GitHub, the HTML representation is unable to render, please try loading this page with nbviewer.org.</b></div><div class=\"sk-container\" hidden><div class=\"sk-item\"><div class=\"sk-estimator sk-toggleable\"><input class=\"sk-toggleable__control sk-hidden--visually\" id=\"sk-estimator-id-2\" type=\"checkbox\" checked><label for=\"sk-estimator-id-2\" class=\"sk-toggleable__label sk-toggleable__label-arrow\">RandomForestRegressor</label><div class=\"sk-toggleable__content\"><pre>RandomForestRegressor()</pre></div></div></div></div></div>"
      ],
      "text/plain": [
       "RandomForestRegressor()"
      ]
     },
     "execution_count": 52,
     "metadata": {},
     "output_type": "execute_result"
    }
   ],
   "source": [
    "rf.fit(X_train, Y_train)"
   ]
  },
  {
   "cell_type": "code",
   "execution_count": 24,
   "metadata": {},
   "outputs": [
    {
     "name": "stdout",
     "output_type": "stream",
     "text": [
      "R2 score on training set :  0.7989110855923712\n",
      "R2 score on test set :  0.019121214500856132\n"
     ]
    }
   ],
   "source": [
    "# Print R^2 scores\n",
    "print(\"R2 score on training set : \", rf.score(X_train, Y_train))\n",
    "print(\"R2 score on test set : \", rf.score(X_test, Y_test))"
   ]
  },
  {
   "cell_type": "code",
   "execution_count": null,
   "metadata": {},
   "outputs": [],
   "source": []
  }
 ],
 "metadata": {
  "kernelspec": {
   "display_name": "base",
   "language": "python",
   "name": "python3"
  },
  "language_info": {
   "codemirror_mode": {
    "name": "ipython",
    "version": 3
   },
   "file_extension": ".py",
   "mimetype": "text/x-python",
   "name": "python",
   "nbconvert_exporter": "python",
   "pygments_lexer": "ipython3",
   "version": "3.10.13"
  }
 },
 "nbformat": 4,
 "nbformat_minor": 2
}
