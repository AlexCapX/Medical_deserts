{
 "cells": [
  {
   "cell_type": "code",
   "execution_count": 1,
   "metadata": {},
   "outputs": [],
   "source": [
    "# Import librairies\n",
    "\n",
    "import numpy as np\n",
    "import pandas as pd\n",
    "\n",
    "from sklearn.model_selection import train_test_split\n",
    "from sklearn.impute import SimpleImputer\n",
    "from sklearn.preprocessing import  OneHotEncoder, StandardScaler\n",
    "from sklearn.compose import ColumnTransformer\n",
    "from sklearn.ensemble import RandomForestRegressor\n",
    "from sklearn.metrics import r2_score\n",
    "from sklearn.model_selection import GridSearchCV\n",
    "from sklearn.metrics import mean_absolute_error\n",
    "\n",
    "import warnings\n",
    "warnings.filterwarnings(\"ignore\", category=DeprecationWarning) # to avoid deprecation warnings\n",
    "\n",
    "import plotly.express as px\n",
    "import plotly.graph_objects as go\n",
    "import plotly.io as pio\n",
    "\n",
    "import plotly.figure_factory as ff"
   ]
  },
  {
   "cell_type": "code",
   "execution_count": 2,
   "metadata": {},
   "outputs": [],
   "source": [
    "pd.set_option(\"display.max_columns\", None)"
   ]
  },
  {
   "cell_type": "code",
   "execution_count": 3,
   "metadata": {},
   "outputs": [
    {
     "data": {
      "text/plain": [
       "(38590, 90)"
      ]
     },
     "execution_count": 3,
     "metadata": {},
     "output_type": "execute_result"
    }
   ],
   "source": [
    "# URL of the CSV file of INSEE data\n",
    "insee_url = 'https://medical-deserts-project.s3.eu-north-1.amazonaws.com/insee_clean.csv'\n",
    "\n",
    "# Read the CSV file from the URL into a DataFrame\n",
    "insee_df_original = pd.read_csv(insee_url, sep = ',', encoding='utf-8')\n",
    "insee_df_original.shape"
   ]
  },
  {
   "cell_type": "code",
   "execution_count": 4,
   "metadata": {},
   "outputs": [],
   "source": [
    "insee_df = insee_df_original.copy()"
   ]
  },
  {
   "cell_type": "code",
   "execution_count": 5,
   "metadata": {},
   "outputs": [
    {
     "data": {
      "text/plain": [
       "(38590, 88)"
      ]
     },
     "execution_count": 5,
     "metadata": {},
     "output_type": "execute_result"
    }
   ],
   "source": [
    "# Remove useless columns\n",
    "insee_df = insee_df.drop([\"APL aux médecins généralistes de 65 ans et moins\", \"APL aux médecins généralistes de 62 ans et moins\"], axis=1)\n",
    "\n",
    "# APL column at the end of dataset\n",
    "insee_df[\"APL aux médecins généralistes (sans borne d'âge)\"] = insee_df.pop(\"APL aux médecins généralistes (sans borne d'âge)\")\n",
    "insee_df.rename(columns={\"APL aux médecins généralistes (sans borne d'âge)\": \"APL\"}, inplace=True)\n",
    "insee_df.shape"
   ]
  },
  {
   "cell_type": "code",
   "execution_count": 6,
   "metadata": {},
   "outputs": [],
   "source": [
    "insee_df.drop_duplicates(inplace = True)"
   ]
  },
  {
   "cell_type": "code",
   "execution_count": 7,
   "metadata": {},
   "outputs": [],
   "source": [
    "to_drop = [\"Nb pharmaciens Libéraux BV\" ,\"Nb Entreprises Secteur Services\", \"Nb Entreprises Secteur Commerce\", \"Nb Ménages\", \"Nb Résidences Principales\", \"Nb Occupants Résidence Principale\", \"Nb Création Commerces\", \"Nb Création Enteprises\", \"PIB Régionnal\", \"Nb de Commerce\", \"Nb Santé, action sociale\", \"Population en 2014 (princ)\", \"Pop 60-74 ans en 2014 (princ)\", \"Pop 75-89 ans en 2014 (princ)\", \"Nb Logement Secondaire et Occasionnel\"]\n",
    "\n",
    "# Remove columns to be dropped\n",
    "insee_df = insee_df.drop(columns=to_drop)"
   ]
  },
  {
   "cell_type": "code",
   "execution_count": 8,
   "metadata": {},
   "outputs": [
    {
     "data": {
      "text/plain": [
       "(34760, 73)"
      ]
     },
     "execution_count": 8,
     "metadata": {},
     "output_type": "execute_result"
    }
   ],
   "source": [
    "insee_df.shape"
   ]
  },
  {
   "cell_type": "markdown",
   "metadata": {},
   "source": [
    "## RF avec les meilleurs hyperparamètres sur toutes les features "
   ]
  },
  {
   "cell_type": "code",
   "execution_count": 9,
   "metadata": {},
   "outputs": [],
   "source": [
    "# X, y split \n",
    "X = insee_df.loc[:, insee_df.columns != \"APL\"]\n",
    "y = insee_df.loc[:, \"APL\"]"
   ]
  },
  {
   "cell_type": "code",
   "execution_count": 10,
   "metadata": {},
   "outputs": [
    {
     "name": "stdout",
     "output_type": "stream",
     "text": [
      "Found numeric features  ['Dynamique Entrepreneuriale', 'Dynamique Entrepreneuriale Service et Commerce', 'Synergie Médicale COMMUNE', 'Nb Omnipraticiens BV', 'Nb Infirmiers Libéraux BV', 'Nb dentistes Libéraux BV', 'Densité Médicale BV', 'Score équipement de santé BV', 'Indice Démographique', 'Nb propriétaire', 'Nb Logement', 'Nb Résidences Secondaires', 'Nb Log Vacants', 'Nb Entreprises Secteur Construction', 'Nb Entreprises Secteur Industrie', 'Nb Création Industrielles', 'Nb Création Construction', 'Nb Création Services', 'Moyenne Revenus Fiscaux Départementaux', 'Moyenne Revenus Fiscaux Régionaux', 'Dep Moyenne Salaires Horaires', 'Dep Moyenne Salaires Cadre Horaires', 'Dep Moyenne Salaires Prof Intermédiaire Horaires', 'Dep Moyenne Salaires Employé Horaires', 'Dep Moyenne Salaires Ouvrié Horaires', 'Reg Moyenne Salaires Horaires', 'Reg Moyenne Salaires Cadre Horaires', 'Reg Moyenne Salaires Prof Intermédiaire Horaires', 'Reg Moyenne Salaires Employé Horaires', 'Reg Moyenne Salaires Ouvrié Horaires', 'Valeur ajoutée régionale', 'Nb Hotel', 'Capacité Hotel', 'Nb Camping', 'Capacité Camping', 'Taux Propriété', 'Dynamique Démographique INSEE', 'Capacité Fisc', 'Moyenne Revnus fiscaux', 'Nb Education, santé, action sociale', 'Nb Services personnels et domestiques', 'Nb Industries des biens intermédiaires', 'Nb de Services aux particuliers', 'Nb institution de Education, santé, action sociale, administration', 'Score Croissance Entrepreneuriale', 'latitude', 'longitude', 'Pop 0-14 ans en 2014 (princ)', 'Pop 15-29 ans en 2014 (princ)', 'Pop 30-44 ans en 2014 (princ)', 'Pop 45-59 ans en 2014 (princ)', 'Pop 15 ans ou plus en 2014 (compl)', 'Pop 15 ans ou plus Agriculteurs exploitants en 2014 (compl)', 'Pop 15 ans ou plus Artisans, Comm., Chefs entr. en 2014 (compl)', 'Pop 15 ans ou plus Cadres, Prof. intel. sup. en 2014 (compl)', 'Pop 15 ans ou plus Prof. intermédiaires  en 2014 (compl)', 'Pop 15 ans ou plus Employés en 2014 (compl)', 'Pop 15 ans ou plus Ouvriers en 2014 (compl)', 'Pop 15 ans ou plus Retraités  en 2014 (compl)', 'Pop 15 ans ou plus Autres en 2014 (compl)', 'taux chômage(15-64 ans)']\n",
      "Found categorical features  ['SEG Croissance POP', 'Urbanité Ruralité', 'Dynamique Démographique BV', 'Environnement Démographique', 'Fidélité', 'Seg Cap Fiscale', 'Seg Dyn Entre', 'DYN SetC', \"Catégorie commune dans aire d'attraction des villes 2020\", \"Tranche détaillée d'aire d'attraction des villes 2020\", 'Libellé degré de densité']\n"
     ]
    }
   ],
   "source": [
    "# Automatically detect names of numeric/categorical columns\n",
    "numeric_features = []\n",
    "categorical_features = []\n",
    "for i,t in X.dtypes.items():\n",
    "    if ('float' in str(t)) or ('int' in str(t)) :\n",
    "        numeric_features.append(i)\n",
    "    else :\n",
    "        categorical_features.append(i)\n",
    "\n",
    "print('Found numeric features ', numeric_features)\n",
    "print('Found categorical features ', categorical_features)"
   ]
  },
  {
   "cell_type": "code",
   "execution_count": null,
   "metadata": {},
   "outputs": [],
   "source": []
  },
  {
   "cell_type": "code",
   "execution_count": 11,
   "metadata": {},
   "outputs": [],
   "source": [
    "# Train_test_split \n",
    "from sklearn.model_selection import train_test_split\n",
    "\n",
    "X_train, X_test, y_train, y_test = train_test_split(X, y, random_state=0, test_size=0.2)\n"
   ]
  },
  {
   "cell_type": "code",
   "execution_count": 12,
   "metadata": {},
   "outputs": [],
   "source": [
    "#categorical_transformer = OneHotEncoder(drop='first')\n",
    "from sklearn.pipeline import Pipeline\n",
    "\n",
    "categorical_transformer = Pipeline(steps=[\n",
    "    ('encoder', OneHotEncoder(drop='first', handle_unknown='ignore'))])\n",
    "\n",
    "numeric_transformer = StandardScaler()\n",
    "\n",
    "preprocessor = ColumnTransformer(\n",
    "        transformers=[\n",
    "        ('num', numeric_transformer, numeric_features),\n",
    "        ('cat', categorical_transformer, categorical_features)])"
   ]
  },
  {
   "cell_type": "code",
   "execution_count": 13,
   "metadata": {},
   "outputs": [
    {
     "data": {
      "text/plain": [
       "array([[-0.02231907,  0.0064759 , -0.00263147, ...,  0.        ,\n",
       "         1.        ,  0.        ],\n",
       "       [-0.19154912, -0.15064951, -0.09054271, ...,  0.        ,\n",
       "         0.        ,  1.        ],\n",
       "       [-0.202126  , -0.148864  , -0.25284038, ...,  0.        ,\n",
       "         0.        ,  1.        ],\n",
       "       ...,\n",
       "       [ 0.14426677, -0.1274378 ,  0.95762974, ...,  0.        ,\n",
       "         1.        ,  0.        ],\n",
       "       [-0.16775114, -0.13100884,  0.18671581, ...,  0.        ,\n",
       "         1.        ,  0.        ],\n",
       "       [-0.18626068, -0.13993642, -0.3069396 , ...,  0.        ,\n",
       "         1.        ,  0.        ]])"
      ]
     },
     "execution_count": 13,
     "metadata": {},
     "output_type": "execute_result"
    }
   ],
   "source": [
    "# Fit and transform X_train\n",
    "X_train = preprocessor.fit_transform(X_train)\n",
    "# Apply on X_test\n",
    "X_test = preprocessor.transform(X_test)\n",
    "\n",
    "# Visualize X_std_train\n",
    "X_train"
   ]
  },
  {
   "cell_type": "code",
   "execution_count": 14,
   "metadata": {},
   "outputs": [],
   "source": [
    "rf = RandomForestRegressor(max_depth = 18, min_samples_leaf = 2, min_samples_split= 2, n_estimators= 80)"
   ]
  },
  {
   "cell_type": "code",
   "execution_count": 15,
   "metadata": {},
   "outputs": [
    {
     "data": {
      "text/html": [
       "<style>#sk-container-id-1 {color: black;}#sk-container-id-1 pre{padding: 0;}#sk-container-id-1 div.sk-toggleable {background-color: white;}#sk-container-id-1 label.sk-toggleable__label {cursor: pointer;display: block;width: 100%;margin-bottom: 0;padding: 0.3em;box-sizing: border-box;text-align: center;}#sk-container-id-1 label.sk-toggleable__label-arrow:before {content: \"▸\";float: left;margin-right: 0.25em;color: #696969;}#sk-container-id-1 label.sk-toggleable__label-arrow:hover:before {color: black;}#sk-container-id-1 div.sk-estimator:hover label.sk-toggleable__label-arrow:before {color: black;}#sk-container-id-1 div.sk-toggleable__content {max-height: 0;max-width: 0;overflow: hidden;text-align: left;background-color: #f0f8ff;}#sk-container-id-1 div.sk-toggleable__content pre {margin: 0.2em;color: black;border-radius: 0.25em;background-color: #f0f8ff;}#sk-container-id-1 input.sk-toggleable__control:checked~div.sk-toggleable__content {max-height: 200px;max-width: 100%;overflow: auto;}#sk-container-id-1 input.sk-toggleable__control:checked~label.sk-toggleable__label-arrow:before {content: \"▾\";}#sk-container-id-1 div.sk-estimator input.sk-toggleable__control:checked~label.sk-toggleable__label {background-color: #d4ebff;}#sk-container-id-1 div.sk-label input.sk-toggleable__control:checked~label.sk-toggleable__label {background-color: #d4ebff;}#sk-container-id-1 input.sk-hidden--visually {border: 0;clip: rect(1px 1px 1px 1px);clip: rect(1px, 1px, 1px, 1px);height: 1px;margin: -1px;overflow: hidden;padding: 0;position: absolute;width: 1px;}#sk-container-id-1 div.sk-estimator {font-family: monospace;background-color: #f0f8ff;border: 1px dotted black;border-radius: 0.25em;box-sizing: border-box;margin-bottom: 0.5em;}#sk-container-id-1 div.sk-estimator:hover {background-color: #d4ebff;}#sk-container-id-1 div.sk-parallel-item::after {content: \"\";width: 100%;border-bottom: 1px solid gray;flex-grow: 1;}#sk-container-id-1 div.sk-label:hover label.sk-toggleable__label {background-color: #d4ebff;}#sk-container-id-1 div.sk-serial::before {content: \"\";position: absolute;border-left: 1px solid gray;box-sizing: border-box;top: 0;bottom: 0;left: 50%;z-index: 0;}#sk-container-id-1 div.sk-serial {display: flex;flex-direction: column;align-items: center;background-color: white;padding-right: 0.2em;padding-left: 0.2em;position: relative;}#sk-container-id-1 div.sk-item {position: relative;z-index: 1;}#sk-container-id-1 div.sk-parallel {display: flex;align-items: stretch;justify-content: center;background-color: white;position: relative;}#sk-container-id-1 div.sk-item::before, #sk-container-id-1 div.sk-parallel-item::before {content: \"\";position: absolute;border-left: 1px solid gray;box-sizing: border-box;top: 0;bottom: 0;left: 50%;z-index: -1;}#sk-container-id-1 div.sk-parallel-item {display: flex;flex-direction: column;z-index: 1;position: relative;background-color: white;}#sk-container-id-1 div.sk-parallel-item:first-child::after {align-self: flex-end;width: 50%;}#sk-container-id-1 div.sk-parallel-item:last-child::after {align-self: flex-start;width: 50%;}#sk-container-id-1 div.sk-parallel-item:only-child::after {width: 0;}#sk-container-id-1 div.sk-dashed-wrapped {border: 1px dashed gray;margin: 0 0.4em 0.5em 0.4em;box-sizing: border-box;padding-bottom: 0.4em;background-color: white;}#sk-container-id-1 div.sk-label label {font-family: monospace;font-weight: bold;display: inline-block;line-height: 1.2em;}#sk-container-id-1 div.sk-label-container {text-align: center;}#sk-container-id-1 div.sk-container {/* jupyter's `normalize.less` sets `[hidden] { display: none; }` but bootstrap.min.css set `[hidden] { display: none !important; }` so we also need the `!important` here to be able to override the default hidden behavior on the sphinx rendered scikit-learn.org. See: https://github.com/scikit-learn/scikit-learn/issues/21755 */display: inline-block !important;position: relative;}#sk-container-id-1 div.sk-text-repr-fallback {display: none;}</style><div id=\"sk-container-id-1\" class=\"sk-top-container\"><div class=\"sk-text-repr-fallback\"><pre>RandomForestRegressor(max_depth=18, min_samples_leaf=2, n_estimators=80)</pre><b>In a Jupyter environment, please rerun this cell to show the HTML representation or trust the notebook. <br />On GitHub, the HTML representation is unable to render, please try loading this page with nbviewer.org.</b></div><div class=\"sk-container\" hidden><div class=\"sk-item\"><div class=\"sk-estimator sk-toggleable\"><input class=\"sk-toggleable__control sk-hidden--visually\" id=\"sk-estimator-id-1\" type=\"checkbox\" checked><label for=\"sk-estimator-id-1\" class=\"sk-toggleable__label sk-toggleable__label-arrow\">RandomForestRegressor</label><div class=\"sk-toggleable__content\"><pre>RandomForestRegressor(max_depth=18, min_samples_leaf=2, n_estimators=80)</pre></div></div></div></div></div>"
      ],
      "text/plain": [
       "RandomForestRegressor(max_depth=18, min_samples_leaf=2, n_estimators=80)"
      ]
     },
     "execution_count": 15,
     "metadata": {},
     "output_type": "execute_result"
    }
   ],
   "source": [
    "rf.fit(X_train, y_train)"
   ]
  },
  {
   "cell_type": "code",
   "execution_count": 16,
   "metadata": {},
   "outputs": [
    {
     "name": "stdout",
     "output_type": "stream",
     "text": [
      "R2 score on training set :  0.8030395862731291\n",
      "R2 score on test set :  0.4021296013439084\n"
     ]
    }
   ],
   "source": [
    "# Print R^2 scores\n",
    "print(\"R2 score on training set : \", rf.score(X_train, y_train))\n",
    "print(\"R2 score on test set : \", rf.score(X_test, y_test))"
   ]
  },
  {
   "cell_type": "code",
   "execution_count": 17,
   "metadata": {},
   "outputs": [
    {
     "name": "stdout",
     "output_type": "stream",
     "text": [
      "Names of columns corresponding to each coefficient:  ['Dynamique Entrepreneuriale', 'Dynamique Entrepreneuriale Service et Commerce', 'Synergie Médicale COMMUNE', 'Nb Omnipraticiens BV', 'Nb Infirmiers Libéraux BV', 'Nb dentistes Libéraux BV', 'Densité Médicale BV', 'Score équipement de santé BV', 'Indice Démographique', 'Nb propriétaire', 'Nb Logement', 'Nb Résidences Secondaires', 'Nb Log Vacants', 'Nb Entreprises Secteur Construction', 'Nb Entreprises Secteur Industrie', 'Nb Création Industrielles', 'Nb Création Construction', 'Nb Création Services', 'Moyenne Revenus Fiscaux Départementaux', 'Moyenne Revenus Fiscaux Régionaux', 'Dep Moyenne Salaires Horaires', 'Dep Moyenne Salaires Cadre Horaires', 'Dep Moyenne Salaires Prof Intermédiaire Horaires', 'Dep Moyenne Salaires Employé Horaires', 'Dep Moyenne Salaires Ouvrié Horaires', 'Reg Moyenne Salaires Horaires', 'Reg Moyenne Salaires Cadre Horaires', 'Reg Moyenne Salaires Prof Intermédiaire Horaires', 'Reg Moyenne Salaires Employé Horaires', 'Reg Moyenne Salaires Ouvrié Horaires', 'Valeur ajoutée régionale', 'Nb Hotel', 'Capacité Hotel', 'Nb Camping', 'Capacité Camping', 'Taux Propriété', 'Dynamique Démographique INSEE', 'Capacité Fisc', 'Moyenne Revnus fiscaux', 'Nb Education, santé, action sociale', 'Nb Services personnels et domestiques', 'Nb Industries des biens intermédiaires', 'Nb de Services aux particuliers', 'Nb institution de Education, santé, action sociale, administration', 'Score Croissance Entrepreneuriale', 'latitude', 'longitude', 'Pop 0-14 ans en 2014 (princ)', 'Pop 15-29 ans en 2014 (princ)', 'Pop 30-44 ans en 2014 (princ)', 'Pop 45-59 ans en 2014 (princ)', 'Pop 15 ans ou plus en 2014 (compl)', 'Pop 15 ans ou plus Agriculteurs exploitants en 2014 (compl)', 'Pop 15 ans ou plus Artisans, Comm., Chefs entr. en 2014 (compl)', 'Pop 15 ans ou plus Cadres, Prof. intel. sup. en 2014 (compl)', 'Pop 15 ans ou plus Prof. intermédiaires  en 2014 (compl)', 'Pop 15 ans ou plus Employés en 2014 (compl)', 'Pop 15 ans ou plus Ouvriers en 2014 (compl)', 'Pop 15 ans ou plus Retraités  en 2014 (compl)', 'Pop 15 ans ou plus Autres en 2014 (compl)', 'taux chômage(15-64 ans)', 'SEG Croissance POP_en déclin démographique', 'Urbanité Ruralité_Com < 200 m habts', 'Urbanité Ruralité_Com < 50 m habts', 'Urbanité Ruralité_Com > 200 m habts', 'Urbanité Ruralité_Com rurale < 2 000 m habts', 'Urbanité Ruralité_Com rurale > 2 000 habts', 'Dynamique Démographique BV_2.Accroissement par excédent naturel', 'Dynamique Démographique BV_3.Accroissement par excédent migratoire', 'Dynamique Démographique BV_4.Déclin par déficit naturel et migratoire', 'Dynamique Démographique BV_5.Déclin par déficit naturel', 'Dynamique Démographique BV_6.Déclin par déficit migratoire', 'Dynamique Démographique BV_Grande Ville', 'Environnement Démographique_Bassin Résidentiel en croissance démographique', 'Environnement Démographique_Bassin Résidentiel en déclin démographique', 'Environnement Démographique_Bassin Urbain en croissance démographique', 'Environnement Démographique_Bassin diversifié en croissance démographique', 'Environnement Démographique_Bassin diversifié en déclin démographique', 'Environnement Démographique_Bassins Agroalimentaire en croissance démographique', 'Fidélité_Pop Sédentaire', 'Seg Cap Fiscale_Fiscalité moyenne', 'Seg Cap Fiscale_Fiscalité élevée', 'Seg Dyn Entre_Faible dynamique', 'Seg Dyn Entre_Moyenne dynamique', 'DYN SetC_Dynamique Serv et Com', 'DYN SetC_Faible Dynamique Serv et Com', \"Catégorie commune dans aire d'attraction des villes 2020_Commune d'un pôle secondaire\", \"Catégorie commune dans aire d'attraction des villes 2020_Commune de la couronne\", \"Catégorie commune dans aire d'attraction des villes 2020_Commune hors attraction des pôles\", \"Catégorie commune dans aire d'attraction des villes 2020_Commune-centre\", \"Tranche détaillée d'aire d'attraction des villes 2020_Aire de 10 000 à moins de 20 000 habitants\", \"Tranche détaillée d'aire d'attraction des villes 2020_Aire de 100 000 à moins de 125 000 habitants\", \"Tranche détaillée d'aire d'attraction des villes 2020_Aire de 125 000 à moins de 150 000 habitants\", \"Tranche détaillée d'aire d'attraction des villes 2020_Aire de 150 000 à moins de 200 000 habitants\", \"Tranche détaillée d'aire d'attraction des villes 2020_Aire de 20 000 à moins de 30 000 habitants\", \"Tranche détaillée d'aire d'attraction des villes 2020_Aire de 200 000 à moins de 300 000 habitants\", \"Tranche détaillée d'aire d'attraction des villes 2020_Aire de 30 000 à moins de 50 000 habitants\", \"Tranche détaillée d'aire d'attraction des villes 2020_Aire de 300 000 à moins de 400 000 habitants\", \"Tranche détaillée d'aire d'attraction des villes 2020_Aire de 400 000 à moins de 500 000 habitants\", \"Tranche détaillée d'aire d'attraction des villes 2020_Aire de 50 000 à moins de 75 000 habitants\", \"Tranche détaillée d'aire d'attraction des villes 2020_Aire de 500 000 à moins de 700 000 habitants\", \"Tranche détaillée d'aire d'attraction des villes 2020_Aire de 700 000 à moins de 1 000 000 d’habitants\", \"Tranche détaillée d'aire d'attraction des villes 2020_Aire de 75 000 à moins de 100 000 habitants\", \"Tranche détaillée d'aire d'attraction des villes 2020_Aire de Paris\", \"Tranche détaillée d'aire d'attraction des villes 2020_Aire de moins de 10 000 habitants\", \"Tranche détaillée d'aire d'attraction des villes 2020_Commune hors attraction des villes\", 'Libellé degré de densité_Ceintures urbaines', 'Libellé degré de densité_Centres urbains intermédiaires', 'Libellé degré de densité_Grands centres urbains', 'Libellé degré de densité_Petites villes', 'Libellé degré de densité_Rural à habitat dispersé', 'Libellé degré de densité_Rural à habitat très dispersé']\n"
     ]
    }
   ],
   "source": [
    "column_names = []\n",
    "for name, step, features_list in preprocessor.transformers_: # loop over steps of ColumnTransformer\n",
    "    if name == 'num': # if pipeline is for numeric variables\n",
    "        features = features_list # just get the names of columns to which it has been applied\n",
    "    else: # if pipeline is for categorical variables\n",
    "        features = step.get_feature_names_out() # get output columns names from OneHotEncoder\n",
    "    column_names.extend(features) # concatenate features names\n",
    "        \n",
    "print(\"Names of columns corresponding to each coefficient: \", column_names)"
   ]
  },
  {
   "cell_type": "code",
   "execution_count": 18,
   "metadata": {},
   "outputs": [],
   "source": [
    "feature_importance = pd.DataFrame(index = column_names, data = rf.feature_importances_, columns=[\"feature_importances\"])\n",
    "feature_importance = feature_importance.sort_values(by = 'feature_importances')"
   ]
  },
  {
   "cell_type": "code",
   "execution_count": 19,
   "metadata": {},
   "outputs": [
    {
     "data": {
      "application/vnd.plotly.v1+json": {
       "config": {
        "plotlyServerURL": "https://plot.ly"
       },
       "data": [
        {
         "alignmentgroup": "True",
         "hovertemplate": "variable=feature_importances<br>value=%{x}<br>index=%{y}<extra></extra>",
         "legendgroup": "feature_importances",
         "marker": {
          "color": "#636efa",
          "pattern": {
           "shape": ""
          }
         },
         "name": "feature_importances",
         "offsetgroup": "feature_importances",
         "orientation": "h",
         "showlegend": true,
         "textposition": "auto",
         "type": "bar",
         "x": [
          0,
          0,
          0,
          0.000013477767081835246,
          0.000018176520061923874,
          0.0000321393137705163,
          0.000036036099265764735,
          0.000055513957299719166,
          0.00011684636942675686,
          0.00014936814079067603,
          0.0001921005006954779,
          0.00019291182729855473,
          0.000306853913491568,
          0.0003415202037958411,
          0.00034653265776831446,
          0.0004658113546245868,
          0.00047450715656848316,
          0.0005386620586058809,
          0.0006027442063197989,
          0.0006537828614461059,
          0.0006660328285015303,
          0.0006749516460764278,
          0.0006978821780241885,
          0.0007814828176559646,
          0.0008136058031077538,
          0.0008499114291476079,
          0.0008980753746000708,
          0.0009005652401228106,
          0.0009086046223478626,
          0.0009413120055504858,
          0.0009555583561788818,
          0.000969983409662236,
          0.000996776748861153,
          0.0010111798297743192,
          0.0010311846373449152,
          0.0010453393253171378,
          0.0011657167184550743,
          0.0011958571720098745,
          0.001197347253530881,
          0.001284381576556427,
          0.0013216346905880227,
          0.0013804307089173699,
          0.0015305149465674704,
          0.0015990985410249668,
          0.0016921361737395565,
          0.0018769365896277612,
          0.0020512030092943827,
          0.002124349595052442,
          0.0022137479940042416,
          0.0023108295214455087,
          0.0023342863589433807,
          0.0024657003725321435,
          0.002515312937294475,
          0.002595394223824254,
          0.0026268973651031365,
          0.0027537231947207144,
          0.0029348366778342893,
          0.0036836246016425283,
          0.0037010939544134735,
          0.004123719849482361,
          0.004391283589670278,
          0.004676646435673364,
          0.004981063709283818,
          0.0058790438417574324,
          0.005963752206908922,
          0.006097496284528362,
          0.006697187844881554,
          0.0068913126033711535,
          0.007147903402754908,
          0.007577914893001567,
          0.007705066728163068,
          0.008411688595525208,
          0.008624517173005943,
          0.008917753685236307,
          0.00895222373623537,
          0.009058141113583103,
          0.009141100602826347,
          0.009630041782049922,
          0.010215058886998748,
          0.010256101509351825,
          0.010454177591418534,
          0.010696544278776341,
          0.011455254848813953,
          0.011663205277050781,
          0.012110310452710356,
          0.013117604519837359,
          0.013181228757668828,
          0.013312300405158059,
          0.013632584398061618,
          0.013970280031029009,
          0.013976119253866878,
          0.014209325754319931,
          0.014656831562022878,
          0.014757501934686229,
          0.014765328991724395,
          0.015002327374769236,
          0.015005171962685821,
          0.0151124087271662,
          0.015274076435228452,
          0.015718953553854484,
          0.015989480969378862,
          0.017635561995955014,
          0.018365330166322212,
          0.019864544542410593,
          0.026528728092273496,
          0.0277494292860307,
          0.03162955271626889,
          0.05104749679849883,
          0.06274561696191379,
          0.06293175365122133,
          0.07467415749001731,
          0.09619330740686252
         ],
         "xaxis": "x",
         "y": [
          "SEG Croissance POP_en déclin démographique",
          "Environnement Démographique_Bassin Résidentiel en déclin démographique",
          "Environnement Démographique_Bassin diversifié en déclin démographique",
          "Catégorie commune dans aire d'attraction des villes 2020_Commune d'un pôle secondaire",
          "Seg Cap Fiscale_Fiscalité élevée",
          "DYN SetC_Faible Dynamique Serv et Com",
          "Catégorie commune dans aire d'attraction des villes 2020_Commune-centre",
          "Seg Dyn Entre_Faible dynamique",
          "Seg Cap Fiscale_Fiscalité moyenne",
          "Libellé degré de densité_Centres urbains intermédiaires",
          "DYN SetC_Dynamique Serv et Com",
          "Environnement Démographique_Bassin diversifié en croissance démographique",
          "Urbanité Ruralité_Com rurale > 2 000 habts",
          "Libellé degré de densité_Petites villes",
          "Seg Dyn Entre_Moyenne dynamique",
          "Dynamique Démographique BV_Grande Ville",
          "Environnement Démographique_Bassins Agroalimentaire en croissance démographique",
          "Environnement Démographique_Bassin Urbain en croissance démographique",
          "Tranche détaillée d'aire d'attraction des villes 2020_Aire de 500 000 à moins de 700 000 habitants",
          "Urbanité Ruralité_Com > 200 m habts",
          "Tranche détaillée d'aire d'attraction des villes 2020_Aire de 125 000 à moins de 150 000 habitants",
          "Tranche détaillée d'aire d'attraction des villes 2020_Aire de 300 000 à moins de 400 000 habitants",
          "Fidélité_Pop Sédentaire",
          "Dynamique Démographique BV_2.Accroissement par excédent naturel",
          "Tranche détaillée d'aire d'attraction des villes 2020_Aire de 700 000 à moins de 1 000 000 d’habitants",
          "Catégorie commune dans aire d'attraction des villes 2020_Commune hors attraction des pôles",
          "Tranche détaillée d'aire d'attraction des villes 2020_Aire de 400 000 à moins de 500 000 habitants",
          "Tranche détaillée d'aire d'attraction des villes 2020_Aire de 150 000 à moins de 200 000 habitants",
          "Tranche détaillée d'aire d'attraction des villes 2020_Commune hors attraction des villes",
          "Tranche détaillée d'aire d'attraction des villes 2020_Aire de 100 000 à moins de 125 000 habitants",
          "Dynamique Démographique BV_6.Déclin par déficit migratoire",
          "Urbanité Ruralité_Com < 50 m habts",
          "Tranche détaillée d'aire d'attraction des villes 2020_Aire de 30 000 à moins de 50 000 habitants",
          "Tranche détaillée d'aire d'attraction des villes 2020_Aire de 50 000 à moins de 75 000 habitants",
          "Nb Camping",
          "Urbanité Ruralité_Com < 200 m habts",
          "Tranche détaillée d'aire d'attraction des villes 2020_Aire de 20 000 à moins de 30 000 habitants",
          "Nb institution de Education, santé, action sociale, administration",
          "Dynamique Démographique BV_5.Déclin par déficit naturel",
          "Catégorie commune dans aire d'attraction des villes 2020_Commune de la couronne",
          "Tranche détaillée d'aire d'attraction des villes 2020_Aire de 200 000 à moins de 300 000 habitants",
          "Tranche détaillée d'aire d'attraction des villes 2020_Aire de moins de 10 000 habitants",
          "Dynamique Démographique BV_4.Déclin par déficit naturel et migratoire",
          "Libellé degré de densité_Rural à habitat dispersé",
          "Dynamique Démographique BV_3.Accroissement par excédent migratoire",
          "Reg Moyenne Salaires Ouvrié Horaires",
          "Valeur ajoutée régionale",
          "Reg Moyenne Salaires Cadre Horaires",
          "Nb Création Industrielles",
          "Libellé degré de densité_Ceintures urbaines",
          "Nb Hotel",
          "Environnement Démographique_Bassin Résidentiel en croissance démographique",
          "Tranche détaillée d'aire d'attraction des villes 2020_Aire de 75 000 à moins de 100 000 habitants",
          "Reg Moyenne Salaires Prof Intermédiaire Horaires",
          "Moyenne Revenus Fiscaux Régionaux",
          "Tranche détaillée d'aire d'attraction des villes 2020_Aire de Paris",
          "Tranche détaillée d'aire d'attraction des villes 2020_Aire de 10 000 à moins de 20 000 habitants",
          "Nb Création Construction",
          "Nb Services personnels et domestiques",
          "Reg Moyenne Salaires Horaires",
          "Capacité Camping",
          "Libellé degré de densité_Grands centres urbains",
          "Nb Création Services",
          "Nb de Services aux particuliers",
          "Nb Education, santé, action sociale",
          "Score équipement de santé BV",
          "Dep Moyenne Salaires Horaires",
          "Nb Industries des biens intermédiaires",
          "Libellé degré de densité_Rural à habitat très dispersé",
          "Moyenne Revnus fiscaux",
          "Dep Moyenne Salaires Ouvrié Horaires",
          "Dep Moyenne Salaires Prof Intermédiaire Horaires",
          "Moyenne Revenus Fiscaux Départementaux",
          "Dep Moyenne Salaires Cadre Horaires",
          "Dynamique Démographique INSEE",
          "Score Croissance Entrepreneuriale",
          "Capacité Hotel",
          "Pop 15 ans ou plus en 2014 (compl)",
          "Nb Entreprises Secteur Construction",
          "Nb Entreprises Secteur Industrie",
          "Nb Logement",
          "Nb dentistes Libéraux BV",
          "Indice Démographique",
          "Nb propriétaire",
          "Urbanité Ruralité_Com rurale < 2 000 m habts",
          "Pop 15 ans ou plus Artisans, Comm., Chefs entr. en 2014 (compl)",
          "Pop 15 ans ou plus Autres en 2014 (compl)",
          "Nb Infirmiers Libéraux BV",
          "Reg Moyenne Salaires Employé Horaires",
          "Pop 15-29 ans en 2014 (princ)",
          "Pop 45-59 ans en 2014 (princ)",
          "Pop 15 ans ou plus Agriculteurs exploitants en 2014 (compl)",
          "Dep Moyenne Salaires Employé Horaires",
          "Nb Omnipraticiens BV",
          "Capacité Fisc",
          "Pop 15 ans ou plus Cadres, Prof. intel. sup. en 2014 (compl)",
          "Pop 30-44 ans en 2014 (princ)",
          "Pop 15 ans ou plus Ouvriers en 2014 (compl)",
          "Pop 0-14 ans en 2014 (princ)",
          "Dynamique Entrepreneuriale",
          "Nb Log Vacants",
          "Pop 15 ans ou plus Employés en 2014 (compl)",
          "Pop 15 ans ou plus Retraités  en 2014 (compl)",
          "Pop 15 ans ou plus Prof. intermédiaires  en 2014 (compl)",
          "Synergie Médicale COMMUNE",
          "taux chômage(15-64 ans)",
          "Nb Résidences Secondaires",
          "Densité Médicale BV",
          "Taux Propriété",
          "longitude",
          "latitude",
          "Dynamique Entrepreneuriale Service et Commerce"
         ],
         "yaxis": "y"
        }
       ],
       "layout": {
        "barmode": "relative",
        "height": 2000,
        "legend": {
         "title": {
          "text": "variable"
         },
         "tracegroupgap": 0
        },
        "margin": {
         "l": 50,
         "t": 60
        },
        "showlegend": false,
        "template": {
         "data": {
          "bar": [
           {
            "error_x": {
             "color": "#2a3f5f"
            },
            "error_y": {
             "color": "#2a3f5f"
            },
            "marker": {
             "line": {
              "color": "#E5ECF6",
              "width": 0.5
             },
             "pattern": {
              "fillmode": "overlay",
              "size": 10,
              "solidity": 0.2
             }
            },
            "type": "bar"
           }
          ],
          "barpolar": [
           {
            "marker": {
             "line": {
              "color": "#E5ECF6",
              "width": 0.5
             },
             "pattern": {
              "fillmode": "overlay",
              "size": 10,
              "solidity": 0.2
             }
            },
            "type": "barpolar"
           }
          ],
          "carpet": [
           {
            "aaxis": {
             "endlinecolor": "#2a3f5f",
             "gridcolor": "white",
             "linecolor": "white",
             "minorgridcolor": "white",
             "startlinecolor": "#2a3f5f"
            },
            "baxis": {
             "endlinecolor": "#2a3f5f",
             "gridcolor": "white",
             "linecolor": "white",
             "minorgridcolor": "white",
             "startlinecolor": "#2a3f5f"
            },
            "type": "carpet"
           }
          ],
          "choropleth": [
           {
            "colorbar": {
             "outlinewidth": 0,
             "ticks": ""
            },
            "type": "choropleth"
           }
          ],
          "contour": [
           {
            "colorbar": {
             "outlinewidth": 0,
             "ticks": ""
            },
            "colorscale": [
             [
              0,
              "#0d0887"
             ],
             [
              0.1111111111111111,
              "#46039f"
             ],
             [
              0.2222222222222222,
              "#7201a8"
             ],
             [
              0.3333333333333333,
              "#9c179e"
             ],
             [
              0.4444444444444444,
              "#bd3786"
             ],
             [
              0.5555555555555556,
              "#d8576b"
             ],
             [
              0.6666666666666666,
              "#ed7953"
             ],
             [
              0.7777777777777778,
              "#fb9f3a"
             ],
             [
              0.8888888888888888,
              "#fdca26"
             ],
             [
              1,
              "#f0f921"
             ]
            ],
            "type": "contour"
           }
          ],
          "contourcarpet": [
           {
            "colorbar": {
             "outlinewidth": 0,
             "ticks": ""
            },
            "type": "contourcarpet"
           }
          ],
          "heatmap": [
           {
            "colorbar": {
             "outlinewidth": 0,
             "ticks": ""
            },
            "colorscale": [
             [
              0,
              "#0d0887"
             ],
             [
              0.1111111111111111,
              "#46039f"
             ],
             [
              0.2222222222222222,
              "#7201a8"
             ],
             [
              0.3333333333333333,
              "#9c179e"
             ],
             [
              0.4444444444444444,
              "#bd3786"
             ],
             [
              0.5555555555555556,
              "#d8576b"
             ],
             [
              0.6666666666666666,
              "#ed7953"
             ],
             [
              0.7777777777777778,
              "#fb9f3a"
             ],
             [
              0.8888888888888888,
              "#fdca26"
             ],
             [
              1,
              "#f0f921"
             ]
            ],
            "type": "heatmap"
           }
          ],
          "heatmapgl": [
           {
            "colorbar": {
             "outlinewidth": 0,
             "ticks": ""
            },
            "colorscale": [
             [
              0,
              "#0d0887"
             ],
             [
              0.1111111111111111,
              "#46039f"
             ],
             [
              0.2222222222222222,
              "#7201a8"
             ],
             [
              0.3333333333333333,
              "#9c179e"
             ],
             [
              0.4444444444444444,
              "#bd3786"
             ],
             [
              0.5555555555555556,
              "#d8576b"
             ],
             [
              0.6666666666666666,
              "#ed7953"
             ],
             [
              0.7777777777777778,
              "#fb9f3a"
             ],
             [
              0.8888888888888888,
              "#fdca26"
             ],
             [
              1,
              "#f0f921"
             ]
            ],
            "type": "heatmapgl"
           }
          ],
          "histogram": [
           {
            "marker": {
             "pattern": {
              "fillmode": "overlay",
              "size": 10,
              "solidity": 0.2
             }
            },
            "type": "histogram"
           }
          ],
          "histogram2d": [
           {
            "colorbar": {
             "outlinewidth": 0,
             "ticks": ""
            },
            "colorscale": [
             [
              0,
              "#0d0887"
             ],
             [
              0.1111111111111111,
              "#46039f"
             ],
             [
              0.2222222222222222,
              "#7201a8"
             ],
             [
              0.3333333333333333,
              "#9c179e"
             ],
             [
              0.4444444444444444,
              "#bd3786"
             ],
             [
              0.5555555555555556,
              "#d8576b"
             ],
             [
              0.6666666666666666,
              "#ed7953"
             ],
             [
              0.7777777777777778,
              "#fb9f3a"
             ],
             [
              0.8888888888888888,
              "#fdca26"
             ],
             [
              1,
              "#f0f921"
             ]
            ],
            "type": "histogram2d"
           }
          ],
          "histogram2dcontour": [
           {
            "colorbar": {
             "outlinewidth": 0,
             "ticks": ""
            },
            "colorscale": [
             [
              0,
              "#0d0887"
             ],
             [
              0.1111111111111111,
              "#46039f"
             ],
             [
              0.2222222222222222,
              "#7201a8"
             ],
             [
              0.3333333333333333,
              "#9c179e"
             ],
             [
              0.4444444444444444,
              "#bd3786"
             ],
             [
              0.5555555555555556,
              "#d8576b"
             ],
             [
              0.6666666666666666,
              "#ed7953"
             ],
             [
              0.7777777777777778,
              "#fb9f3a"
             ],
             [
              0.8888888888888888,
              "#fdca26"
             ],
             [
              1,
              "#f0f921"
             ]
            ],
            "type": "histogram2dcontour"
           }
          ],
          "mesh3d": [
           {
            "colorbar": {
             "outlinewidth": 0,
             "ticks": ""
            },
            "type": "mesh3d"
           }
          ],
          "parcoords": [
           {
            "line": {
             "colorbar": {
              "outlinewidth": 0,
              "ticks": ""
             }
            },
            "type": "parcoords"
           }
          ],
          "pie": [
           {
            "automargin": true,
            "type": "pie"
           }
          ],
          "scatter": [
           {
            "fillpattern": {
             "fillmode": "overlay",
             "size": 10,
             "solidity": 0.2
            },
            "type": "scatter"
           }
          ],
          "scatter3d": [
           {
            "line": {
             "colorbar": {
              "outlinewidth": 0,
              "ticks": ""
             }
            },
            "marker": {
             "colorbar": {
              "outlinewidth": 0,
              "ticks": ""
             }
            },
            "type": "scatter3d"
           }
          ],
          "scattercarpet": [
           {
            "marker": {
             "colorbar": {
              "outlinewidth": 0,
              "ticks": ""
             }
            },
            "type": "scattercarpet"
           }
          ],
          "scattergeo": [
           {
            "marker": {
             "colorbar": {
              "outlinewidth": 0,
              "ticks": ""
             }
            },
            "type": "scattergeo"
           }
          ],
          "scattergl": [
           {
            "marker": {
             "colorbar": {
              "outlinewidth": 0,
              "ticks": ""
             }
            },
            "type": "scattergl"
           }
          ],
          "scattermapbox": [
           {
            "marker": {
             "colorbar": {
              "outlinewidth": 0,
              "ticks": ""
             }
            },
            "type": "scattermapbox"
           }
          ],
          "scatterpolar": [
           {
            "marker": {
             "colorbar": {
              "outlinewidth": 0,
              "ticks": ""
             }
            },
            "type": "scatterpolar"
           }
          ],
          "scatterpolargl": [
           {
            "marker": {
             "colorbar": {
              "outlinewidth": 0,
              "ticks": ""
             }
            },
            "type": "scatterpolargl"
           }
          ],
          "scatterternary": [
           {
            "marker": {
             "colorbar": {
              "outlinewidth": 0,
              "ticks": ""
             }
            },
            "type": "scatterternary"
           }
          ],
          "surface": [
           {
            "colorbar": {
             "outlinewidth": 0,
             "ticks": ""
            },
            "colorscale": [
             [
              0,
              "#0d0887"
             ],
             [
              0.1111111111111111,
              "#46039f"
             ],
             [
              0.2222222222222222,
              "#7201a8"
             ],
             [
              0.3333333333333333,
              "#9c179e"
             ],
             [
              0.4444444444444444,
              "#bd3786"
             ],
             [
              0.5555555555555556,
              "#d8576b"
             ],
             [
              0.6666666666666666,
              "#ed7953"
             ],
             [
              0.7777777777777778,
              "#fb9f3a"
             ],
             [
              0.8888888888888888,
              "#fdca26"
             ],
             [
              1,
              "#f0f921"
             ]
            ],
            "type": "surface"
           }
          ],
          "table": [
           {
            "cells": {
             "fill": {
              "color": "#EBF0F8"
             },
             "line": {
              "color": "white"
             }
            },
            "header": {
             "fill": {
              "color": "#C8D4E3"
             },
             "line": {
              "color": "white"
             }
            },
            "type": "table"
           }
          ]
         },
         "layout": {
          "annotationdefaults": {
           "arrowcolor": "#2a3f5f",
           "arrowhead": 0,
           "arrowwidth": 1
          },
          "autotypenumbers": "strict",
          "coloraxis": {
           "colorbar": {
            "outlinewidth": 0,
            "ticks": ""
           }
          },
          "colorscale": {
           "diverging": [
            [
             0,
             "#8e0152"
            ],
            [
             0.1,
             "#c51b7d"
            ],
            [
             0.2,
             "#de77ae"
            ],
            [
             0.3,
             "#f1b6da"
            ],
            [
             0.4,
             "#fde0ef"
            ],
            [
             0.5,
             "#f7f7f7"
            ],
            [
             0.6,
             "#e6f5d0"
            ],
            [
             0.7,
             "#b8e186"
            ],
            [
             0.8,
             "#7fbc41"
            ],
            [
             0.9,
             "#4d9221"
            ],
            [
             1,
             "#276419"
            ]
           ],
           "sequential": [
            [
             0,
             "#0d0887"
            ],
            [
             0.1111111111111111,
             "#46039f"
            ],
            [
             0.2222222222222222,
             "#7201a8"
            ],
            [
             0.3333333333333333,
             "#9c179e"
            ],
            [
             0.4444444444444444,
             "#bd3786"
            ],
            [
             0.5555555555555556,
             "#d8576b"
            ],
            [
             0.6666666666666666,
             "#ed7953"
            ],
            [
             0.7777777777777778,
             "#fb9f3a"
            ],
            [
             0.8888888888888888,
             "#fdca26"
            ],
            [
             1,
             "#f0f921"
            ]
           ],
           "sequentialminus": [
            [
             0,
             "#0d0887"
            ],
            [
             0.1111111111111111,
             "#46039f"
            ],
            [
             0.2222222222222222,
             "#7201a8"
            ],
            [
             0.3333333333333333,
             "#9c179e"
            ],
            [
             0.4444444444444444,
             "#bd3786"
            ],
            [
             0.5555555555555556,
             "#d8576b"
            ],
            [
             0.6666666666666666,
             "#ed7953"
            ],
            [
             0.7777777777777778,
             "#fb9f3a"
            ],
            [
             0.8888888888888888,
             "#fdca26"
            ],
            [
             1,
             "#f0f921"
            ]
           ]
          },
          "colorway": [
           "#636efa",
           "#EF553B",
           "#00cc96",
           "#ab63fa",
           "#FFA15A",
           "#19d3f3",
           "#FF6692",
           "#B6E880",
           "#FF97FF",
           "#FECB52"
          ],
          "font": {
           "color": "#2a3f5f"
          },
          "geo": {
           "bgcolor": "white",
           "lakecolor": "white",
           "landcolor": "#E5ECF6",
           "showlakes": true,
           "showland": true,
           "subunitcolor": "white"
          },
          "hoverlabel": {
           "align": "left"
          },
          "hovermode": "closest",
          "mapbox": {
           "style": "light"
          },
          "paper_bgcolor": "white",
          "plot_bgcolor": "#E5ECF6",
          "polar": {
           "angularaxis": {
            "gridcolor": "white",
            "linecolor": "white",
            "ticks": ""
           },
           "bgcolor": "#E5ECF6",
           "radialaxis": {
            "gridcolor": "white",
            "linecolor": "white",
            "ticks": ""
           }
          },
          "scene": {
           "xaxis": {
            "backgroundcolor": "#E5ECF6",
            "gridcolor": "white",
            "gridwidth": 2,
            "linecolor": "white",
            "showbackground": true,
            "ticks": "",
            "zerolinecolor": "white"
           },
           "yaxis": {
            "backgroundcolor": "#E5ECF6",
            "gridcolor": "white",
            "gridwidth": 2,
            "linecolor": "white",
            "showbackground": true,
            "ticks": "",
            "zerolinecolor": "white"
           },
           "zaxis": {
            "backgroundcolor": "#E5ECF6",
            "gridcolor": "white",
            "gridwidth": 2,
            "linecolor": "white",
            "showbackground": true,
            "ticks": "",
            "zerolinecolor": "white"
           }
          },
          "shapedefaults": {
           "line": {
            "color": "#2a3f5f"
           }
          },
          "ternary": {
           "aaxis": {
            "gridcolor": "white",
            "linecolor": "white",
            "ticks": ""
           },
           "baxis": {
            "gridcolor": "white",
            "linecolor": "white",
            "ticks": ""
           },
           "bgcolor": "#E5ECF6",
           "caxis": {
            "gridcolor": "white",
            "linecolor": "white",
            "ticks": ""
           }
          },
          "title": {
           "x": 0.05
          },
          "xaxis": {
           "automargin": true,
           "gridcolor": "white",
           "linecolor": "white",
           "ticks": "",
           "title": {
            "standoff": 15
           },
           "zerolinecolor": "white",
           "zerolinewidth": 2
          },
          "yaxis": {
           "automargin": true,
           "gridcolor": "white",
           "linecolor": "white",
           "ticks": "",
           "title": {
            "standoff": 15
           },
           "zerolinecolor": "white",
           "zerolinewidth": 2
          }
         }
        },
        "width": 2500,
        "xaxis": {
         "anchor": "y",
         "domain": [
          0,
          1
         ],
         "title": {
          "text": "value"
         }
        },
        "yaxis": {
         "anchor": "x",
         "domain": [
          0,
          1
         ],
         "title": {
          "text": "index"
         }
        }
       }
      }
     },
     "metadata": {},
     "output_type": "display_data"
    }
   ],
   "source": [
    "# Plot coefficients\n",
    "fig = px.bar(feature_importance, orientation = 'h')\n",
    "fig.update_layout(height=2000, width=2500, showlegend = False, margin = {'l': 50}, ) # to avoid cropping of column names\n",
    "fig.show()"
   ]
  },
  {
   "cell_type": "code",
   "execution_count": 26,
   "metadata": {},
   "outputs": [],
   "source": [
    "feature_importance.sort_values(by = 'feature_importances', ascending = False, inplace = True)"
   ]
  },
  {
   "cell_type": "code",
   "execution_count": 27,
   "metadata": {},
   "outputs": [],
   "source": [
    "best30_features = feature_importance[:30]"
   ]
  },
  {
   "cell_type": "code",
   "execution_count": 29,
   "metadata": {},
   "outputs": [],
   "source": [
    "best30_features = best30_features.index"
   ]
  },
  {
   "cell_type": "code",
   "execution_count": 32,
   "metadata": {},
   "outputs": [],
   "source": [
    "best30_features = [x.split('_')[0] for x in best30_features]"
   ]
  },
  {
   "cell_type": "code",
   "execution_count": 33,
   "metadata": {},
   "outputs": [
    {
     "data": {
      "text/plain": [
       "['Dynamique Entrepreneuriale Service et Commerce',\n",
       " 'latitude',\n",
       " 'longitude',\n",
       " 'Taux Propriété',\n",
       " 'Densité Médicale BV',\n",
       " 'Nb Résidences Secondaires',\n",
       " 'taux chômage(15-64 ans)',\n",
       " 'Synergie Médicale COMMUNE',\n",
       " 'Pop 15 ans ou plus Prof. intermédiaires  en 2014 (compl)',\n",
       " 'Pop 15 ans ou plus Retraités  en 2014 (compl)',\n",
       " 'Pop 15 ans ou plus Employés en 2014 (compl)',\n",
       " 'Nb Log Vacants',\n",
       " 'Dynamique Entrepreneuriale',\n",
       " 'Pop 0-14 ans en 2014 (princ)',\n",
       " 'Pop 15 ans ou plus Ouvriers en 2014 (compl)',\n",
       " 'Pop 30-44 ans en 2014 (princ)',\n",
       " 'Pop 15 ans ou plus Cadres, Prof. intel. sup. en 2014 (compl)',\n",
       " 'Capacité Fisc',\n",
       " 'Nb Omnipraticiens BV',\n",
       " 'Dep Moyenne Salaires Employé Horaires',\n",
       " 'Pop 15 ans ou plus Agriculteurs exploitants en 2014 (compl)',\n",
       " 'Pop 45-59 ans en 2014 (princ)',\n",
       " 'Pop 15-29 ans en 2014 (princ)',\n",
       " 'Reg Moyenne Salaires Employé Horaires',\n",
       " 'Nb Infirmiers Libéraux BV',\n",
       " 'Pop 15 ans ou plus Autres en 2014 (compl)',\n",
       " 'Pop 15 ans ou plus Artisans, Comm., Chefs entr. en 2014 (compl)',\n",
       " 'Urbanité Ruralité',\n",
       " 'Nb propriétaire',\n",
       " 'Indice Démographique']"
      ]
     },
     "execution_count": 33,
     "metadata": {},
     "output_type": "execute_result"
    }
   ],
   "source": [
    "best30_features"
   ]
  },
  {
   "cell_type": "markdown",
   "metadata": {},
   "source": [
    "## RF avec les best features de claudine "
   ]
  },
  {
   "cell_type": "code",
   "execution_count": 36,
   "metadata": {},
   "outputs": [],
   "source": [
    "# X, y split \n",
    "\n",
    "X = insee_df.loc[:, best30_features]\n",
    "y = insee_df.loc[:, \"APL\"]\n",
    "\n",
    "# X = X.select_dtypes(exclude=[\"object\"])\n",
    "\n",
    "\n",
    "#Avec les best features de claudine : \n",
    "# Train_test_split \n",
    "from sklearn.model_selection import train_test_split\n",
    "\n",
    "X_train, X_test, y_train, y_test = train_test_split(X, y, random_state=0, test_size=0.2)\n"
   ]
  },
  {
   "cell_type": "code",
   "execution_count": 37,
   "metadata": {},
   "outputs": [
    {
     "name": "stdout",
     "output_type": "stream",
     "text": [
      "Found numeric features  ['Dynamique Entrepreneuriale Service et Commerce', 'latitude', 'longitude', 'Taux Propriété', 'Densité Médicale BV', 'Nb Résidences Secondaires', 'taux chômage(15-64 ans)', 'Synergie Médicale COMMUNE', 'Pop 15 ans ou plus Prof. intermédiaires  en 2014 (compl)', 'Pop 15 ans ou plus Retraités  en 2014 (compl)', 'Pop 15 ans ou plus Employés en 2014 (compl)', 'Nb Log Vacants', 'Dynamique Entrepreneuriale', 'Pop 0-14 ans en 2014 (princ)', 'Pop 15 ans ou plus Ouvriers en 2014 (compl)', 'Pop 30-44 ans en 2014 (princ)', 'Pop 15 ans ou plus Cadres, Prof. intel. sup. en 2014 (compl)', 'Capacité Fisc', 'Nb Omnipraticiens BV', 'Dep Moyenne Salaires Employé Horaires', 'Pop 15 ans ou plus Agriculteurs exploitants en 2014 (compl)', 'Pop 45-59 ans en 2014 (princ)', 'Pop 15-29 ans en 2014 (princ)', 'Reg Moyenne Salaires Employé Horaires', 'Nb Infirmiers Libéraux BV', 'Pop 15 ans ou plus Autres en 2014 (compl)', 'Pop 15 ans ou plus Artisans, Comm., Chefs entr. en 2014 (compl)', 'Nb propriétaire', 'Indice Démographique']\n",
      "Found categorical features  ['Urbanité Ruralité']\n"
     ]
    }
   ],
   "source": [
    "# Automatically detect names of numeric/categorical columns\n",
    "numeric_features = []\n",
    "categorical_features = []\n",
    "for i,t in X.dtypes.items():\n",
    "    if ('float' in str(t)) or ('int' in str(t)) :\n",
    "        numeric_features.append(i)\n",
    "    else :\n",
    "        categorical_features.append(i)\n",
    "\n",
    "print('Found numeric features ', numeric_features)\n",
    "print('Found categorical features ', categorical_features)"
   ]
  },
  {
   "cell_type": "code",
   "execution_count": 38,
   "metadata": {},
   "outputs": [],
   "source": [
    "#categorical_transformer = OneHotEncoder(drop='first')\n",
    "from sklearn.pipeline import Pipeline\n",
    "\n",
    "categorical_transformer = Pipeline(steps=[\n",
    "    ('encoder', OneHotEncoder(drop='first', handle_unknown='ignore'))])\n",
    "\n",
    "numeric_transformer = StandardScaler()\n",
    "\n",
    "preprocessor = ColumnTransformer(\n",
    "        transformers=[\n",
    "        ('num', numeric_transformer, numeric_features),\n",
    "        ('cat', categorical_transformer, categorical_features)])"
   ]
  },
  {
   "cell_type": "code",
   "execution_count": 39,
   "metadata": {},
   "outputs": [],
   "source": [
    "# Train_test_split \n",
    "from sklearn.model_selection import train_test_split\n",
    "\n",
    "X_train, X_test, y_train, y_test = train_test_split(X, y, random_state=0, test_size=0.2)\n"
   ]
  },
  {
   "cell_type": "code",
   "execution_count": 40,
   "metadata": {},
   "outputs": [
    {
     "data": {
      "text/plain": [
       "array([[ 0.0064759 , -1.40621685, -1.57839888, ...,  0.        ,\n",
       "         1.        ,  0.        ],\n",
       "       [-0.15064951,  1.00360727, -0.96135134, ...,  0.        ,\n",
       "         1.        ,  0.        ],\n",
       "       [-0.148864  ,  0.71634156, -1.0928393 , ...,  0.        ,\n",
       "         1.        ,  0.        ],\n",
       "       ...,\n",
       "       [-0.1274378 ,  0.77616326,  0.0775988 , ...,  0.        ,\n",
       "         1.        ,  0.        ],\n",
       "       [-0.13100884,  0.7802653 ,  1.64548557, ...,  0.        ,\n",
       "         1.        ,  0.        ],\n",
       "       [-0.13993642,  1.06605536,  0.66664637, ...,  0.        ,\n",
       "         1.        ,  0.        ]])"
      ]
     },
     "execution_count": 40,
     "metadata": {},
     "output_type": "execute_result"
    }
   ],
   "source": [
    "# Fit and transform X_train\n",
    "X_train = preprocessor.fit_transform(X_train)\n",
    "# Apply on X_test\n",
    "X_test = preprocessor.transform(X_test)\n",
    "\n",
    "# Visualize X_std_train\n",
    "X_train"
   ]
  },
  {
   "cell_type": "code",
   "execution_count": 41,
   "metadata": {},
   "outputs": [],
   "source": [
    "# Instanciate RandomForestRegressor\n",
    "rf = RandomForestRegressor(max_depth = 18, min_samples_leaf = 2, min_samples_split=2, n_estimators= 80)"
   ]
  },
  {
   "cell_type": "code",
   "execution_count": 42,
   "metadata": {},
   "outputs": [
    {
     "data": {
      "text/html": [
       "<style>#sk-container-id-2 {color: black;}#sk-container-id-2 pre{padding: 0;}#sk-container-id-2 div.sk-toggleable {background-color: white;}#sk-container-id-2 label.sk-toggleable__label {cursor: pointer;display: block;width: 100%;margin-bottom: 0;padding: 0.3em;box-sizing: border-box;text-align: center;}#sk-container-id-2 label.sk-toggleable__label-arrow:before {content: \"▸\";float: left;margin-right: 0.25em;color: #696969;}#sk-container-id-2 label.sk-toggleable__label-arrow:hover:before {color: black;}#sk-container-id-2 div.sk-estimator:hover label.sk-toggleable__label-arrow:before {color: black;}#sk-container-id-2 div.sk-toggleable__content {max-height: 0;max-width: 0;overflow: hidden;text-align: left;background-color: #f0f8ff;}#sk-container-id-2 div.sk-toggleable__content pre {margin: 0.2em;color: black;border-radius: 0.25em;background-color: #f0f8ff;}#sk-container-id-2 input.sk-toggleable__control:checked~div.sk-toggleable__content {max-height: 200px;max-width: 100%;overflow: auto;}#sk-container-id-2 input.sk-toggleable__control:checked~label.sk-toggleable__label-arrow:before {content: \"▾\";}#sk-container-id-2 div.sk-estimator input.sk-toggleable__control:checked~label.sk-toggleable__label {background-color: #d4ebff;}#sk-container-id-2 div.sk-label input.sk-toggleable__control:checked~label.sk-toggleable__label {background-color: #d4ebff;}#sk-container-id-2 input.sk-hidden--visually {border: 0;clip: rect(1px 1px 1px 1px);clip: rect(1px, 1px, 1px, 1px);height: 1px;margin: -1px;overflow: hidden;padding: 0;position: absolute;width: 1px;}#sk-container-id-2 div.sk-estimator {font-family: monospace;background-color: #f0f8ff;border: 1px dotted black;border-radius: 0.25em;box-sizing: border-box;margin-bottom: 0.5em;}#sk-container-id-2 div.sk-estimator:hover {background-color: #d4ebff;}#sk-container-id-2 div.sk-parallel-item::after {content: \"\";width: 100%;border-bottom: 1px solid gray;flex-grow: 1;}#sk-container-id-2 div.sk-label:hover label.sk-toggleable__label {background-color: #d4ebff;}#sk-container-id-2 div.sk-serial::before {content: \"\";position: absolute;border-left: 1px solid gray;box-sizing: border-box;top: 0;bottom: 0;left: 50%;z-index: 0;}#sk-container-id-2 div.sk-serial {display: flex;flex-direction: column;align-items: center;background-color: white;padding-right: 0.2em;padding-left: 0.2em;position: relative;}#sk-container-id-2 div.sk-item {position: relative;z-index: 1;}#sk-container-id-2 div.sk-parallel {display: flex;align-items: stretch;justify-content: center;background-color: white;position: relative;}#sk-container-id-2 div.sk-item::before, #sk-container-id-2 div.sk-parallel-item::before {content: \"\";position: absolute;border-left: 1px solid gray;box-sizing: border-box;top: 0;bottom: 0;left: 50%;z-index: -1;}#sk-container-id-2 div.sk-parallel-item {display: flex;flex-direction: column;z-index: 1;position: relative;background-color: white;}#sk-container-id-2 div.sk-parallel-item:first-child::after {align-self: flex-end;width: 50%;}#sk-container-id-2 div.sk-parallel-item:last-child::after {align-self: flex-start;width: 50%;}#sk-container-id-2 div.sk-parallel-item:only-child::after {width: 0;}#sk-container-id-2 div.sk-dashed-wrapped {border: 1px dashed gray;margin: 0 0.4em 0.5em 0.4em;box-sizing: border-box;padding-bottom: 0.4em;background-color: white;}#sk-container-id-2 div.sk-label label {font-family: monospace;font-weight: bold;display: inline-block;line-height: 1.2em;}#sk-container-id-2 div.sk-label-container {text-align: center;}#sk-container-id-2 div.sk-container {/* jupyter's `normalize.less` sets `[hidden] { display: none; }` but bootstrap.min.css set `[hidden] { display: none !important; }` so we also need the `!important` here to be able to override the default hidden behavior on the sphinx rendered scikit-learn.org. See: https://github.com/scikit-learn/scikit-learn/issues/21755 */display: inline-block !important;position: relative;}#sk-container-id-2 div.sk-text-repr-fallback {display: none;}</style><div id=\"sk-container-id-2\" class=\"sk-top-container\"><div class=\"sk-text-repr-fallback\"><pre>RandomForestRegressor(max_depth=18, min_samples_leaf=2, n_estimators=80)</pre><b>In a Jupyter environment, please rerun this cell to show the HTML representation or trust the notebook. <br />On GitHub, the HTML representation is unable to render, please try loading this page with nbviewer.org.</b></div><div class=\"sk-container\" hidden><div class=\"sk-item\"><div class=\"sk-estimator sk-toggleable\"><input class=\"sk-toggleable__control sk-hidden--visually\" id=\"sk-estimator-id-2\" type=\"checkbox\" checked><label for=\"sk-estimator-id-2\" class=\"sk-toggleable__label sk-toggleable__label-arrow\">RandomForestRegressor</label><div class=\"sk-toggleable__content\"><pre>RandomForestRegressor(max_depth=18, min_samples_leaf=2, n_estimators=80)</pre></div></div></div></div></div>"
      ],
      "text/plain": [
       "RandomForestRegressor(max_depth=18, min_samples_leaf=2, n_estimators=80)"
      ]
     },
     "execution_count": 42,
     "metadata": {},
     "output_type": "execute_result"
    }
   ],
   "source": [
    "rf.fit(X_train, y_train)"
   ]
  },
  {
   "cell_type": "code",
   "execution_count": 43,
   "metadata": {},
   "outputs": [
    {
     "name": "stdout",
     "output_type": "stream",
     "text": [
      "R2 score on training set :  0.7997839247587135\n",
      "R2 score on test set :  0.3813396666754284\n"
     ]
    }
   ],
   "source": [
    "# Print R^2 scores\n",
    "print(\"R2 score on training set : \", rf.score(X_train, y_train))\n",
    "print(\"R2 score on test set : \", rf.score(X_test, y_test))"
   ]
  },
  {
   "cell_type": "markdown",
   "metadata": {},
   "source": [
    "Score RF (max_depth=18, min_samples_leaf=2, n_estimators=80) on 30 best features:\n",
    "\n",
    "R2 score on training set :  0.7997839247587135\n",
    "\n",
    "R2 score on test set :  0.3813396666754284"
   ]
  },
  {
   "cell_type": "markdown",
   "metadata": {},
   "source": [
    "# Grid search Random Forest on 30 best features : "
   ]
  },
  {
   "cell_type": "code",
   "execution_count": 44,
   "metadata": {},
   "outputs": [
    {
     "name": "stdout",
     "output_type": "stream",
     "text": [
      "Grid search...\n",
      "Fitting 3 folds for each of 81 candidates, totalling 243 fits\n",
      "[CV] END max_depth=16, min_samples_leaf=1, min_samples_split=1, n_estimators=60; total time=   0.0s\n",
      "[CV] END max_depth=16, min_samples_leaf=1, min_samples_split=1, n_estimators=60; total time=   0.0s\n",
      "[CV] END max_depth=16, min_samples_leaf=1, min_samples_split=1, n_estimators=60; total time=   0.0s\n",
      "[CV] END max_depth=16, min_samples_leaf=1, min_samples_split=1, n_estimators=80; total time=   0.0s\n",
      "[CV] END max_depth=16, min_samples_leaf=1, min_samples_split=1, n_estimators=80; total time=   0.0s\n",
      "[CV] END max_depth=16, min_samples_leaf=1, min_samples_split=1, n_estimators=80; total time=   0.0s\n",
      "[CV] END max_depth=16, min_samples_leaf=1, min_samples_split=1, n_estimators=100; total time=   0.0s\n",
      "[CV] END max_depth=16, min_samples_leaf=1, min_samples_split=1, n_estimators=100; total time=   0.0s\n",
      "[CV] END max_depth=16, min_samples_leaf=1, min_samples_split=1, n_estimators=100; total time=   0.0s\n",
      "[CV] END max_depth=16, min_samples_leaf=1, min_samples_split=2, n_estimators=60; total time=  55.9s\n",
      "[CV] END max_depth=16, min_samples_leaf=1, min_samples_split=2, n_estimators=60; total time=  51.1s\n",
      "[CV] END max_depth=16, min_samples_leaf=1, min_samples_split=2, n_estimators=60; total time=  52.5s\n",
      "[CV] END max_depth=16, min_samples_leaf=1, min_samples_split=2, n_estimators=80; total time= 1.3min\n",
      "[CV] END max_depth=16, min_samples_leaf=1, min_samples_split=2, n_estimators=80; total time= 1.4min\n",
      "[CV] END max_depth=16, min_samples_leaf=1, min_samples_split=2, n_estimators=80; total time= 1.5min\n",
      "[CV] END max_depth=16, min_samples_leaf=1, min_samples_split=2, n_estimators=100; total time= 1.8min\n",
      "[CV] END max_depth=16, min_samples_leaf=1, min_samples_split=2, n_estimators=100; total time= 1.9min\n",
      "[CV] END max_depth=16, min_samples_leaf=1, min_samples_split=2, n_estimators=100; total time= 1.7min\n",
      "[CV] END max_depth=16, min_samples_leaf=1, min_samples_split=4, n_estimators=60; total time=  59.1s\n",
      "[CV] END max_depth=16, min_samples_leaf=1, min_samples_split=4, n_estimators=60; total time= 1.0min\n",
      "[CV] END max_depth=16, min_samples_leaf=1, min_samples_split=4, n_estimators=60; total time= 1.0min\n",
      "[CV] END max_depth=16, min_samples_leaf=1, min_samples_split=4, n_estimators=80; total time= 1.3min\n",
      "[CV] END max_depth=16, min_samples_leaf=1, min_samples_split=4, n_estimators=80; total time= 1.3min\n",
      "[CV] END max_depth=16, min_samples_leaf=1, min_samples_split=4, n_estimators=80; total time= 1.3min\n",
      "[CV] END max_depth=16, min_samples_leaf=1, min_samples_split=4, n_estimators=100; total time= 1.7min\n",
      "[CV] END max_depth=16, min_samples_leaf=1, min_samples_split=4, n_estimators=100; total time= 1.7min\n",
      "[CV] END max_depth=16, min_samples_leaf=1, min_samples_split=4, n_estimators=100; total time= 1.7min\n",
      "[CV] END max_depth=16, min_samples_leaf=2, min_samples_split=1, n_estimators=60; total time=   0.0s\n",
      "[CV] END max_depth=16, min_samples_leaf=2, min_samples_split=1, n_estimators=60; total time=   0.0s\n",
      "[CV] END max_depth=16, min_samples_leaf=2, min_samples_split=1, n_estimators=60; total time=   0.0s\n",
      "[CV] END max_depth=16, min_samples_leaf=2, min_samples_split=1, n_estimators=80; total time=   0.0s\n",
      "[CV] END max_depth=16, min_samples_leaf=2, min_samples_split=1, n_estimators=80; total time=   0.0s\n",
      "[CV] END max_depth=16, min_samples_leaf=2, min_samples_split=1, n_estimators=80; total time=   0.0s\n",
      "[CV] END max_depth=16, min_samples_leaf=2, min_samples_split=1, n_estimators=100; total time=   0.0s\n",
      "[CV] END max_depth=16, min_samples_leaf=2, min_samples_split=1, n_estimators=100; total time=   0.0s\n",
      "[CV] END max_depth=16, min_samples_leaf=2, min_samples_split=1, n_estimators=100; total time=   0.0s\n",
      "[CV] END max_depth=16, min_samples_leaf=2, min_samples_split=2, n_estimators=60; total time= 1.0min\n",
      "[CV] END max_depth=16, min_samples_leaf=2, min_samples_split=2, n_estimators=60; total time=  54.7s\n",
      "[CV] END max_depth=16, min_samples_leaf=2, min_samples_split=2, n_estimators=60; total time=  49.9s\n",
      "[CV] END max_depth=16, min_samples_leaf=2, min_samples_split=2, n_estimators=80; total time= 1.3min\n",
      "[CV] END max_depth=16, min_samples_leaf=2, min_samples_split=2, n_estimators=80; total time= 1.4min\n",
      "[CV] END max_depth=16, min_samples_leaf=2, min_samples_split=2, n_estimators=80; total time= 1.2min\n",
      "[CV] END max_depth=16, min_samples_leaf=2, min_samples_split=2, n_estimators=100; total time= 1.5min\n",
      "[CV] END max_depth=16, min_samples_leaf=2, min_samples_split=2, n_estimators=100; total time= 1.4min\n",
      "[CV] END max_depth=16, min_samples_leaf=2, min_samples_split=2, n_estimators=100; total time= 1.3min\n",
      "[CV] END max_depth=16, min_samples_leaf=2, min_samples_split=4, n_estimators=60; total time=  51.8s\n",
      "[CV] END max_depth=16, min_samples_leaf=2, min_samples_split=4, n_estimators=60; total time=  50.9s\n",
      "[CV] END max_depth=16, min_samples_leaf=2, min_samples_split=4, n_estimators=60; total time=  53.1s\n",
      "[CV] END max_depth=16, min_samples_leaf=2, min_samples_split=4, n_estimators=80; total time= 1.1min\n",
      "[CV] END max_depth=16, min_samples_leaf=2, min_samples_split=4, n_estimators=80; total time= 1.3min\n",
      "[CV] END max_depth=16, min_samples_leaf=2, min_samples_split=4, n_estimators=80; total time= 1.3min\n",
      "[CV] END max_depth=16, min_samples_leaf=2, min_samples_split=4, n_estimators=100; total time= 1.5min\n",
      "[CV] END max_depth=16, min_samples_leaf=2, min_samples_split=4, n_estimators=100; total time= 1.5min\n",
      "[CV] END max_depth=16, min_samples_leaf=2, min_samples_split=4, n_estimators=100; total time= 1.7min\n",
      "[CV] END max_depth=16, min_samples_leaf=4, min_samples_split=1, n_estimators=60; total time=   0.0s\n",
      "[CV] END max_depth=16, min_samples_leaf=4, min_samples_split=1, n_estimators=60; total time=   0.0s\n",
      "[CV] END max_depth=16, min_samples_leaf=4, min_samples_split=1, n_estimators=60; total time=   0.0s\n",
      "[CV] END max_depth=16, min_samples_leaf=4, min_samples_split=1, n_estimators=80; total time=   0.0s\n",
      "[CV] END max_depth=16, min_samples_leaf=4, min_samples_split=1, n_estimators=80; total time=   0.0s\n",
      "[CV] END max_depth=16, min_samples_leaf=4, min_samples_split=1, n_estimators=80; total time=   0.0s\n",
      "[CV] END max_depth=16, min_samples_leaf=4, min_samples_split=1, n_estimators=100; total time=   0.0s\n",
      "[CV] END max_depth=16, min_samples_leaf=4, min_samples_split=1, n_estimators=100; total time=   0.0s\n",
      "[CV] END max_depth=16, min_samples_leaf=4, min_samples_split=1, n_estimators=100; total time=   0.0s\n",
      "[CV] END max_depth=16, min_samples_leaf=4, min_samples_split=2, n_estimators=60; total time=  52.1s\n",
      "[CV] END max_depth=16, min_samples_leaf=4, min_samples_split=2, n_estimators=60; total time=  48.3s\n",
      "[CV] END max_depth=16, min_samples_leaf=4, min_samples_split=2, n_estimators=60; total time=  56.6s\n",
      "[CV] END max_depth=16, min_samples_leaf=4, min_samples_split=2, n_estimators=80; total time= 1.3min\n",
      "[CV] END max_depth=16, min_samples_leaf=4, min_samples_split=2, n_estimators=80; total time= 1.4min\n",
      "[CV] END max_depth=16, min_samples_leaf=4, min_samples_split=2, n_estimators=80; total time= 1.4min\n",
      "[CV] END max_depth=16, min_samples_leaf=4, min_samples_split=2, n_estimators=100; total time= 1.8min\n",
      "[CV] END max_depth=16, min_samples_leaf=4, min_samples_split=2, n_estimators=100; total time= 1.4min\n",
      "[CV] END max_depth=16, min_samples_leaf=4, min_samples_split=2, n_estimators=100; total time= 1.4min\n",
      "[CV] END max_depth=16, min_samples_leaf=4, min_samples_split=4, n_estimators=60; total time=  49.0s\n",
      "[CV] END max_depth=16, min_samples_leaf=4, min_samples_split=4, n_estimators=60; total time=  55.3s\n",
      "[CV] END max_depth=16, min_samples_leaf=4, min_samples_split=4, n_estimators=60; total time=  54.8s\n",
      "[CV] END max_depth=16, min_samples_leaf=4, min_samples_split=4, n_estimators=80; total time= 1.1min\n",
      "[CV] END max_depth=16, min_samples_leaf=4, min_samples_split=4, n_estimators=80; total time= 1.2min\n",
      "[CV] END max_depth=16, min_samples_leaf=4, min_samples_split=4, n_estimators=80; total time= 1.0min\n",
      "[CV] END max_depth=16, min_samples_leaf=4, min_samples_split=4, n_estimators=100; total time= 1.5min\n",
      "[CV] END max_depth=16, min_samples_leaf=4, min_samples_split=4, n_estimators=100; total time= 1.1min\n",
      "[CV] END max_depth=16, min_samples_leaf=4, min_samples_split=4, n_estimators=100; total time= 1.1min\n",
      "[CV] END max_depth=18, min_samples_leaf=1, min_samples_split=1, n_estimators=60; total time=   0.0s\n",
      "[CV] END max_depth=18, min_samples_leaf=1, min_samples_split=1, n_estimators=60; total time=   0.0s\n",
      "[CV] END max_depth=18, min_samples_leaf=1, min_samples_split=1, n_estimators=60; total time=   0.0s\n",
      "[CV] END max_depth=18, min_samples_leaf=1, min_samples_split=1, n_estimators=80; total time=   0.0s\n",
      "[CV] END max_depth=18, min_samples_leaf=1, min_samples_split=1, n_estimators=80; total time=   0.0s\n",
      "[CV] END max_depth=18, min_samples_leaf=1, min_samples_split=1, n_estimators=80; total time=   0.0s\n",
      "[CV] END max_depth=18, min_samples_leaf=1, min_samples_split=1, n_estimators=100; total time=   0.0s\n",
      "[CV] END max_depth=18, min_samples_leaf=1, min_samples_split=1, n_estimators=100; total time=   0.0s\n",
      "[CV] END max_depth=18, min_samples_leaf=1, min_samples_split=1, n_estimators=100; total time=   0.0s\n",
      "[CV] END max_depth=18, min_samples_leaf=1, min_samples_split=2, n_estimators=60; total time=  52.7s\n",
      "[CV] END max_depth=18, min_samples_leaf=1, min_samples_split=2, n_estimators=60; total time=  52.7s\n",
      "[CV] END max_depth=18, min_samples_leaf=1, min_samples_split=2, n_estimators=60; total time=  52.6s\n",
      "[CV] END max_depth=18, min_samples_leaf=1, min_samples_split=2, n_estimators=80; total time= 1.2min\n",
      "[CV] END max_depth=18, min_samples_leaf=1, min_samples_split=2, n_estimators=80; total time= 1.2min\n",
      "[CV] END max_depth=18, min_samples_leaf=1, min_samples_split=2, n_estimators=80; total time= 1.2min\n",
      "[CV] END max_depth=18, min_samples_leaf=1, min_samples_split=2, n_estimators=100; total time= 1.5min\n",
      "[CV] END max_depth=18, min_samples_leaf=1, min_samples_split=2, n_estimators=100; total time= 1.5min\n",
      "[CV] END max_depth=18, min_samples_leaf=1, min_samples_split=2, n_estimators=100; total time= 1.5min\n",
      "[CV] END max_depth=18, min_samples_leaf=1, min_samples_split=4, n_estimators=60; total time=  49.5s\n",
      "[CV] END max_depth=18, min_samples_leaf=1, min_samples_split=4, n_estimators=60; total time=  49.4s\n",
      "[CV] END max_depth=18, min_samples_leaf=1, min_samples_split=4, n_estimators=60; total time=  49.2s\n",
      "[CV] END max_depth=18, min_samples_leaf=1, min_samples_split=4, n_estimators=80; total time= 1.1min\n",
      "[CV] END max_depth=18, min_samples_leaf=1, min_samples_split=4, n_estimators=80; total time= 1.1min\n",
      "[CV] END max_depth=18, min_samples_leaf=1, min_samples_split=4, n_estimators=80; total time= 1.1min\n",
      "[CV] END max_depth=18, min_samples_leaf=1, min_samples_split=4, n_estimators=100; total time= 1.4min\n",
      "[CV] END max_depth=18, min_samples_leaf=1, min_samples_split=4, n_estimators=100; total time= 1.4min\n",
      "[CV] END max_depth=18, min_samples_leaf=1, min_samples_split=4, n_estimators=100; total time= 1.4min\n",
      "[CV] END max_depth=18, min_samples_leaf=2, min_samples_split=1, n_estimators=60; total time=   0.0s\n",
      "[CV] END max_depth=18, min_samples_leaf=2, min_samples_split=1, n_estimators=60; total time=   0.0s\n",
      "[CV] END max_depth=18, min_samples_leaf=2, min_samples_split=1, n_estimators=60; total time=   0.0s\n",
      "[CV] END max_depth=18, min_samples_leaf=2, min_samples_split=1, n_estimators=80; total time=   0.0s\n",
      "[CV] END max_depth=18, min_samples_leaf=2, min_samples_split=1, n_estimators=80; total time=   0.0s\n",
      "[CV] END max_depth=18, min_samples_leaf=2, min_samples_split=1, n_estimators=80; total time=   0.0s\n",
      "[CV] END max_depth=18, min_samples_leaf=2, min_samples_split=1, n_estimators=100; total time=   0.0s\n",
      "[CV] END max_depth=18, min_samples_leaf=2, min_samples_split=1, n_estimators=100; total time=   0.0s\n",
      "[CV] END max_depth=18, min_samples_leaf=2, min_samples_split=1, n_estimators=100; total time=   0.0s\n",
      "[CV] END max_depth=18, min_samples_leaf=2, min_samples_split=2, n_estimators=60; total time=  46.7s\n",
      "[CV] END max_depth=18, min_samples_leaf=2, min_samples_split=2, n_estimators=60; total time=  46.8s\n",
      "[CV] END max_depth=18, min_samples_leaf=2, min_samples_split=2, n_estimators=60; total time=  46.3s\n",
      "[CV] END max_depth=18, min_samples_leaf=2, min_samples_split=2, n_estimators=80; total time= 1.0min\n",
      "[CV] END max_depth=18, min_samples_leaf=2, min_samples_split=2, n_estimators=80; total time= 1.0min\n",
      "[CV] END max_depth=18, min_samples_leaf=2, min_samples_split=2, n_estimators=80; total time= 1.0min\n",
      "[CV] END max_depth=18, min_samples_leaf=2, min_samples_split=2, n_estimators=100; total time= 1.3min\n",
      "[CV] END max_depth=18, min_samples_leaf=2, min_samples_split=2, n_estimators=100; total time= 1.3min\n",
      "[CV] END max_depth=18, min_samples_leaf=2, min_samples_split=2, n_estimators=100; total time= 1.3min\n",
      "[CV] END max_depth=18, min_samples_leaf=2, min_samples_split=4, n_estimators=60; total time=  46.9s\n",
      "[CV] END max_depth=18, min_samples_leaf=2, min_samples_split=4, n_estimators=60; total time=  46.7s\n",
      "[CV] END max_depth=18, min_samples_leaf=2, min_samples_split=4, n_estimators=60; total time=  46.6s\n",
      "[CV] END max_depth=18, min_samples_leaf=2, min_samples_split=4, n_estimators=80; total time= 1.0min\n",
      "[CV] END max_depth=18, min_samples_leaf=2, min_samples_split=4, n_estimators=80; total time= 1.1min\n",
      "[CV] END max_depth=18, min_samples_leaf=2, min_samples_split=4, n_estimators=80; total time= 1.1min\n",
      "[CV] END max_depth=18, min_samples_leaf=2, min_samples_split=4, n_estimators=100; total time= 1.3min\n",
      "[CV] END max_depth=18, min_samples_leaf=2, min_samples_split=4, n_estimators=100; total time= 1.3min\n",
      "[CV] END max_depth=18, min_samples_leaf=2, min_samples_split=4, n_estimators=100; total time= 2.0min\n",
      "[CV] END max_depth=18, min_samples_leaf=4, min_samples_split=1, n_estimators=60; total time=   0.0s\n",
      "[CV] END max_depth=18, min_samples_leaf=4, min_samples_split=1, n_estimators=60; total time=   0.0s\n",
      "[CV] END max_depth=18, min_samples_leaf=4, min_samples_split=1, n_estimators=60; total time=   0.0s\n",
      "[CV] END max_depth=18, min_samples_leaf=4, min_samples_split=1, n_estimators=80; total time=   0.0s\n",
      "[CV] END max_depth=18, min_samples_leaf=4, min_samples_split=1, n_estimators=80; total time=   0.0s\n",
      "[CV] END max_depth=18, min_samples_leaf=4, min_samples_split=1, n_estimators=80; total time=   0.0s\n",
      "[CV] END max_depth=18, min_samples_leaf=4, min_samples_split=1, n_estimators=100; total time=   0.0s\n",
      "[CV] END max_depth=18, min_samples_leaf=4, min_samples_split=1, n_estimators=100; total time=   0.0s\n",
      "[CV] END max_depth=18, min_samples_leaf=4, min_samples_split=1, n_estimators=100; total time=   0.0s\n",
      "[CV] END max_depth=18, min_samples_leaf=4, min_samples_split=2, n_estimators=60; total time=  57.2s\n",
      "[CV] END max_depth=18, min_samples_leaf=4, min_samples_split=2, n_estimators=60; total time=  51.7s\n",
      "[CV] END max_depth=18, min_samples_leaf=4, min_samples_split=2, n_estimators=60; total time=  51.2s\n",
      "[CV] END max_depth=18, min_samples_leaf=4, min_samples_split=2, n_estimators=80; total time= 1.1min\n",
      "[CV] END max_depth=18, min_samples_leaf=4, min_samples_split=2, n_estimators=80; total time= 1.2min\n",
      "[CV] END max_depth=18, min_samples_leaf=4, min_samples_split=2, n_estimators=80; total time= 1.3min\n",
      "[CV] END max_depth=18, min_samples_leaf=4, min_samples_split=2, n_estimators=100; total time= 1.6min\n",
      "[CV] END max_depth=18, min_samples_leaf=4, min_samples_split=2, n_estimators=100; total time= 1.5min\n",
      "[CV] END max_depth=18, min_samples_leaf=4, min_samples_split=2, n_estimators=100; total time= 1.3min\n",
      "[CV] END max_depth=18, min_samples_leaf=4, min_samples_split=4, n_estimators=60; total time=  44.2s\n",
      "[CV] END max_depth=18, min_samples_leaf=4, min_samples_split=4, n_estimators=60; total time=  45.3s\n",
      "[CV] END max_depth=18, min_samples_leaf=4, min_samples_split=4, n_estimators=60; total time=  47.7s\n",
      "[CV] END max_depth=18, min_samples_leaf=4, min_samples_split=4, n_estimators=80; total time= 1.0min\n",
      "[CV] END max_depth=18, min_samples_leaf=4, min_samples_split=4, n_estimators=80; total time= 1.0min\n",
      "[CV] END max_depth=18, min_samples_leaf=4, min_samples_split=4, n_estimators=80; total time=  55.9s\n",
      "[CV] END max_depth=18, min_samples_leaf=4, min_samples_split=4, n_estimators=100; total time= 1.2min\n",
      "[CV] END max_depth=18, min_samples_leaf=4, min_samples_split=4, n_estimators=100; total time= 1.2min\n",
      "[CV] END max_depth=18, min_samples_leaf=4, min_samples_split=4, n_estimators=100; total time= 1.2min\n",
      "[CV] END max_depth=20, min_samples_leaf=1, min_samples_split=1, n_estimators=60; total time=   0.0s\n",
      "[CV] END max_depth=20, min_samples_leaf=1, min_samples_split=1, n_estimators=60; total time=   0.0s\n",
      "[CV] END max_depth=20, min_samples_leaf=1, min_samples_split=1, n_estimators=60; total time=   0.0s\n",
      "[CV] END max_depth=20, min_samples_leaf=1, min_samples_split=1, n_estimators=80; total time=   0.0s\n",
      "[CV] END max_depth=20, min_samples_leaf=1, min_samples_split=1, n_estimators=80; total time=   0.0s\n",
      "[CV] END max_depth=20, min_samples_leaf=1, min_samples_split=1, n_estimators=80; total time=   0.0s\n",
      "[CV] END max_depth=20, min_samples_leaf=1, min_samples_split=1, n_estimators=100; total time=   0.0s\n",
      "[CV] END max_depth=20, min_samples_leaf=1, min_samples_split=1, n_estimators=100; total time=   0.0s\n",
      "[CV] END max_depth=20, min_samples_leaf=1, min_samples_split=1, n_estimators=100; total time=   0.0s\n",
      "[CV] END max_depth=20, min_samples_leaf=1, min_samples_split=2, n_estimators=60; total time= 1.0min\n",
      "[CV] END max_depth=20, min_samples_leaf=1, min_samples_split=2, n_estimators=60; total time= 1.0min\n",
      "[CV] END max_depth=20, min_samples_leaf=1, min_samples_split=2, n_estimators=60; total time= 1.0min\n",
      "[CV] END max_depth=20, min_samples_leaf=1, min_samples_split=2, n_estimators=80; total time= 1.4min\n",
      "[CV] END max_depth=20, min_samples_leaf=1, min_samples_split=2, n_estimators=80; total time= 1.3min\n",
      "[CV] END max_depth=20, min_samples_leaf=1, min_samples_split=2, n_estimators=80; total time= 1.4min\n",
      "[CV] END max_depth=20, min_samples_leaf=1, min_samples_split=2, n_estimators=100; total time= 1.7min\n",
      "[CV] END max_depth=20, min_samples_leaf=1, min_samples_split=2, n_estimators=100; total time= 1.7min\n",
      "[CV] END max_depth=20, min_samples_leaf=1, min_samples_split=2, n_estimators=100; total time= 1.8min\n",
      "[CV] END max_depth=20, min_samples_leaf=1, min_samples_split=4, n_estimators=60; total time=  58.5s\n",
      "[CV] END max_depth=20, min_samples_leaf=1, min_samples_split=4, n_estimators=60; total time=  55.3s\n",
      "[CV] END max_depth=20, min_samples_leaf=1, min_samples_split=4, n_estimators=60; total time= 1.0min\n",
      "[CV] END max_depth=20, min_samples_leaf=1, min_samples_split=4, n_estimators=80; total time= 1.3min\n",
      "[CV] END max_depth=20, min_samples_leaf=1, min_samples_split=4, n_estimators=80; total time= 1.3min\n",
      "[CV] END max_depth=20, min_samples_leaf=1, min_samples_split=4, n_estimators=80; total time= 1.4min\n",
      "[CV] END max_depth=20, min_samples_leaf=1, min_samples_split=4, n_estimators=100; total time= 1.6min\n",
      "[CV] END max_depth=20, min_samples_leaf=1, min_samples_split=4, n_estimators=100; total time= 1.5min\n",
      "[CV] END max_depth=20, min_samples_leaf=1, min_samples_split=4, n_estimators=100; total time= 1.5min\n",
      "[CV] END max_depth=20, min_samples_leaf=2, min_samples_split=1, n_estimators=60; total time=   0.0s\n",
      "[CV] END max_depth=20, min_samples_leaf=2, min_samples_split=1, n_estimators=60; total time=   0.0s\n",
      "[CV] END max_depth=20, min_samples_leaf=2, min_samples_split=1, n_estimators=60; total time=   0.0s\n",
      "[CV] END max_depth=20, min_samples_leaf=2, min_samples_split=1, n_estimators=80; total time=   0.0s\n",
      "[CV] END max_depth=20, min_samples_leaf=2, min_samples_split=1, n_estimators=80; total time=   0.0s\n",
      "[CV] END max_depth=20, min_samples_leaf=2, min_samples_split=1, n_estimators=80; total time=   0.0s\n",
      "[CV] END max_depth=20, min_samples_leaf=2, min_samples_split=1, n_estimators=100; total time=   0.0s\n",
      "[CV] END max_depth=20, min_samples_leaf=2, min_samples_split=1, n_estimators=100; total time=   0.0s\n",
      "[CV] END max_depth=20, min_samples_leaf=2, min_samples_split=1, n_estimators=100; total time=   0.0s\n",
      "[CV] END max_depth=20, min_samples_leaf=2, min_samples_split=2, n_estimators=60; total time=  53.7s\n",
      "[CV] END max_depth=20, min_samples_leaf=2, min_samples_split=2, n_estimators=60; total time=  54.4s\n",
      "[CV] END max_depth=20, min_samples_leaf=2, min_samples_split=2, n_estimators=60; total time=  51.6s\n",
      "[CV] END max_depth=20, min_samples_leaf=2, min_samples_split=2, n_estimators=80; total time= 1.2min\n",
      "[CV] END max_depth=20, min_samples_leaf=2, min_samples_split=2, n_estimators=80; total time= 1.2min\n",
      "[CV] END max_depth=20, min_samples_leaf=2, min_samples_split=2, n_estimators=80; total time= 1.2min\n",
      "[CV] END max_depth=20, min_samples_leaf=2, min_samples_split=2, n_estimators=100; total time= 1.5min\n",
      "[CV] END max_depth=20, min_samples_leaf=2, min_samples_split=2, n_estimators=100; total time= 1.5min\n",
      "[CV] END max_depth=20, min_samples_leaf=2, min_samples_split=2, n_estimators=100; total time= 1.5min\n",
      "[CV] END max_depth=20, min_samples_leaf=2, min_samples_split=4, n_estimators=60; total time= 1.1min\n",
      "[CV] END max_depth=20, min_samples_leaf=2, min_samples_split=4, n_estimators=60; total time=  50.6s\n",
      "[CV] END max_depth=20, min_samples_leaf=2, min_samples_split=4, n_estimators=60; total time=  50.1s\n",
      "[CV] END max_depth=20, min_samples_leaf=2, min_samples_split=4, n_estimators=80; total time= 1.2min\n",
      "[CV] END max_depth=20, min_samples_leaf=2, min_samples_split=4, n_estimators=80; total time= 1.2min\n",
      "[CV] END max_depth=20, min_samples_leaf=2, min_samples_split=4, n_estimators=80; total time= 1.2min\n",
      "[CV] END max_depth=20, min_samples_leaf=2, min_samples_split=4, n_estimators=100; total time= 1.5min\n",
      "[CV] END max_depth=20, min_samples_leaf=2, min_samples_split=4, n_estimators=100; total time= 1.7min\n",
      "[CV] END max_depth=20, min_samples_leaf=2, min_samples_split=4, n_estimators=100; total time= 1.5min\n",
      "[CV] END max_depth=20, min_samples_leaf=4, min_samples_split=1, n_estimators=60; total time=   0.0s\n",
      "[CV] END max_depth=20, min_samples_leaf=4, min_samples_split=1, n_estimators=60; total time=   0.0s\n",
      "[CV] END max_depth=20, min_samples_leaf=4, min_samples_split=1, n_estimators=60; total time=   0.0s\n",
      "[CV] END max_depth=20, min_samples_leaf=4, min_samples_split=1, n_estimators=80; total time=   0.0s\n",
      "[CV] END max_depth=20, min_samples_leaf=4, min_samples_split=1, n_estimators=80; total time=   0.0s\n",
      "[CV] END max_depth=20, min_samples_leaf=4, min_samples_split=1, n_estimators=80; total time=   0.0s\n",
      "[CV] END max_depth=20, min_samples_leaf=4, min_samples_split=1, n_estimators=100; total time=   0.0s\n",
      "[CV] END max_depth=20, min_samples_leaf=4, min_samples_split=1, n_estimators=100; total time=   0.0s\n",
      "[CV] END max_depth=20, min_samples_leaf=4, min_samples_split=1, n_estimators=100; total time=   0.0s\n",
      "[CV] END max_depth=20, min_samples_leaf=4, min_samples_split=2, n_estimators=60; total time=  49.5s\n",
      "[CV] END max_depth=20, min_samples_leaf=4, min_samples_split=2, n_estimators=60; total time=  46.7s\n",
      "[CV] END max_depth=20, min_samples_leaf=4, min_samples_split=2, n_estimators=60; total time=  47.5s\n",
      "[CV] END max_depth=20, min_samples_leaf=4, min_samples_split=2, n_estimators=80; total time= 1.1min\n",
      "[CV] END max_depth=20, min_samples_leaf=4, min_samples_split=2, n_estimators=80; total time= 1.1min\n",
      "[CV] END max_depth=20, min_samples_leaf=4, min_samples_split=2, n_estimators=80; total time= 1.0min\n",
      "[CV] END max_depth=20, min_samples_leaf=4, min_samples_split=2, n_estimators=100; total time= 1.3min\n",
      "[CV] END max_depth=20, min_samples_leaf=4, min_samples_split=2, n_estimators=100; total time= 1.3min\n",
      "[CV] END max_depth=20, min_samples_leaf=4, min_samples_split=2, n_estimators=100; total time= 1.3min\n",
      "[CV] END max_depth=20, min_samples_leaf=4, min_samples_split=4, n_estimators=60; total time=  46.8s\n",
      "[CV] END max_depth=20, min_samples_leaf=4, min_samples_split=4, n_estimators=60; total time=  59.4s\n",
      "[CV] END max_depth=20, min_samples_leaf=4, min_samples_split=4, n_estimators=60; total time= 1.0min\n",
      "[CV] END max_depth=20, min_samples_leaf=4, min_samples_split=4, n_estimators=80; total time= 1.3min\n",
      "[CV] END max_depth=20, min_samples_leaf=4, min_samples_split=4, n_estimators=80; total time= 1.3min\n",
      "[CV] END max_depth=20, min_samples_leaf=4, min_samples_split=4, n_estimators=80; total time= 1.3min\n",
      "[CV] END max_depth=20, min_samples_leaf=4, min_samples_split=4, n_estimators=100; total time= 1.6min\n",
      "[CV] END max_depth=20, min_samples_leaf=4, min_samples_split=4, n_estimators=100; total time= 1.7min\n",
      "[CV] END max_depth=20, min_samples_leaf=4, min_samples_split=4, n_estimators=100; total time= 1.7min\n"
     ]
    },
    {
     "name": "stderr",
     "output_type": "stream",
     "text": [
      "c:\\Users\\utilisateur\\anaconda3\\lib\\site-packages\\sklearn\\model_selection\\_validation.py:425: FitFailedWarning:\n",
      "\n",
      "\n",
      "81 fits failed out of a total of 243.\n",
      "The score on these train-test partitions for these parameters will be set to nan.\n",
      "If these failures are not expected, you can try to debug them by setting error_score='raise'.\n",
      "\n",
      "Below are more details about the failures:\n",
      "--------------------------------------------------------------------------------\n",
      "81 fits failed with the following error:\n",
      "Traceback (most recent call last):\n",
      "  File \"c:\\Users\\utilisateur\\anaconda3\\lib\\site-packages\\sklearn\\model_selection\\_validation.py\", line 729, in _fit_and_score\n",
      "    estimator.fit(X_train, y_train, **fit_params)\n",
      "  File \"c:\\Users\\utilisateur\\anaconda3\\lib\\site-packages\\sklearn\\base.py\", line 1145, in wrapper\n",
      "    estimator._validate_params()\n",
      "  File \"c:\\Users\\utilisateur\\anaconda3\\lib\\site-packages\\sklearn\\base.py\", line 638, in _validate_params\n",
      "    validate_parameter_constraints(\n",
      "  File \"c:\\Users\\utilisateur\\anaconda3\\lib\\site-packages\\sklearn\\utils\\_param_validation.py\", line 95, in validate_parameter_constraints\n",
      "    raise InvalidParameterError(\n",
      "sklearn.utils._param_validation.InvalidParameterError: The 'min_samples_split' parameter of RandomForestRegressor must be an int in the range [2, inf) or a float in the range (0.0, 1.0]. Got 1 instead.\n",
      "\n",
      "\n",
      "c:\\Users\\utilisateur\\anaconda3\\lib\\site-packages\\sklearn\\model_selection\\_search.py:979: UserWarning:\n",
      "\n",
      "One or more of the test scores are non-finite: [       nan        nan        nan 0.32972637 0.33057895 0.33142009\n",
      " 0.32616592 0.32661695 0.33141389        nan        nan        nan\n",
      " 0.33089461 0.33361606 0.33479223 0.32866493 0.33273168 0.33340757\n",
      "        nan        nan        nan 0.32940091 0.33419214 0.33515727\n",
      " 0.332349   0.33521658 0.33619995        nan        nan        nan\n",
      " 0.32981013 0.33264612 0.33549987 0.33338367 0.33445044 0.3365652\n",
      "        nan        nan        nan 0.33308603 0.33539026 0.33778866\n",
      " 0.33172508 0.33602126 0.33692346        nan        nan        nan\n",
      " 0.33653758 0.33633287 0.33727506 0.33632466 0.33599868 0.33788392\n",
      "        nan        nan        nan 0.33275876 0.33635506 0.33695004\n",
      " 0.33303043 0.33601926 0.33915423        nan        nan        nan\n",
      " 0.33506137 0.33854785 0.33852664 0.33679013 0.33955976 0.34104323\n",
      "        nan        nan        nan 0.33441802 0.34062698 0.33877566\n",
      " 0.33520625 0.33864027 0.33837447]\n",
      "\n"
     ]
    },
    {
     "name": "stdout",
     "output_type": "stream",
     "text": [
      "...Done.\n",
      "Best hyperparameters :  {'max_depth': 20, 'min_samples_leaf': 2, 'min_samples_split': 4, 'n_estimators': 100}\n",
      "Best validation accuracy :  0.34104323151527427\n"
     ]
    }
   ],
   "source": [
    "# Perform grid search\n",
    "rf = RandomForestRegressor()\n",
    "#max_depth = 14, min_samples_leaf = 2, min_samples_split= 2, n_estimators = 80)\n",
    "\n",
    "print(\"Grid search...\")\n",
    "\n",
    "# Grid of values to be tested\n",
    "params = {\n",
    "     'max_depth': [16, 18, 20],\n",
    "     'min_samples_split': [1, 2, 4],\n",
    "     'n_estimators': [60, 80, 100],\n",
    "     'min_samples_leaf': [1, 2, 4] }\n",
    "\n",
    "gridsearch = GridSearchCV(rf, param_grid= params, cv = 3, verbose = 2) # cv : the number of folds to be used for CV\n",
    "gridsearch.fit(X_train, y_train)\n",
    "print(\"...Done.\")\n",
    "\n",
    "print(\"Best hyperparameters : \", gridsearch.best_params_)\n",
    "print(\"Best validation accuracy : \", gridsearch.best_score_)\n"
   ]
  },
  {
   "cell_type": "code",
   "execution_count": 45,
   "metadata": {},
   "outputs": [
    {
     "name": "stdout",
     "output_type": "stream",
     "text": [
      "R2 score on training set :  0.8374176267961229\n",
      "R2 score on test set :  0.3850203644448976\n"
     ]
    }
   ],
   "source": [
    "print(\"R2 score on training set : \", gridsearch.score(X_train, y_train))\n",
    "print(\"R2 score on test set : \",     gridsearch.score(X_test, y_test))"
   ]
  },
  {
   "cell_type": "code",
   "execution_count": 46,
   "metadata": {},
   "outputs": [
    {
     "name": "stdout",
     "output_type": "stream",
     "text": [
      "Names of columns corresponding to each coefficient:  ['Dynamique Entrepreneuriale Service et Commerce', 'latitude', 'longitude', 'Taux Propriété', 'Densité Médicale BV', 'Nb Résidences Secondaires', 'taux chômage(15-64 ans)', 'Synergie Médicale COMMUNE', 'Pop 15 ans ou plus Prof. intermédiaires  en 2014 (compl)', 'Pop 15 ans ou plus Retraités  en 2014 (compl)', 'Pop 15 ans ou plus Employés en 2014 (compl)', 'Nb Log Vacants', 'Dynamique Entrepreneuriale', 'Pop 0-14 ans en 2014 (princ)', 'Pop 15 ans ou plus Ouvriers en 2014 (compl)', 'Pop 30-44 ans en 2014 (princ)', 'Pop 15 ans ou plus Cadres, Prof. intel. sup. en 2014 (compl)', 'Capacité Fisc', 'Nb Omnipraticiens BV', 'Dep Moyenne Salaires Employé Horaires', 'Pop 15 ans ou plus Agriculteurs exploitants en 2014 (compl)', 'Pop 45-59 ans en 2014 (princ)', 'Pop 15-29 ans en 2014 (princ)', 'Reg Moyenne Salaires Employé Horaires', 'Nb Infirmiers Libéraux BV', 'Pop 15 ans ou plus Autres en 2014 (compl)', 'Pop 15 ans ou plus Artisans, Comm., Chefs entr. en 2014 (compl)', 'Nb propriétaire', 'Indice Démographique', 'Urbanité Ruralité_Com < 200 m habts', 'Urbanité Ruralité_Com < 50 m habts', 'Urbanité Ruralité_Com > 200 m habts', 'Urbanité Ruralité_Com rurale < 2 000 m habts', 'Urbanité Ruralité_Com rurale > 2 000 habts']\n"
     ]
    }
   ],
   "source": [
    "column_names = []\n",
    "for name, step, features_list in preprocessor.transformers_: # loop over steps of ColumnTransformer\n",
    "    if name == 'num': # if pipeline is for numeric variables\n",
    "        features = features_list # just get the names of columns to which it has been applied\n",
    "    else: # if pipeline is for categorical variables\n",
    "        features = step.get_feature_names_out() # get output columns names from OneHotEncoder\n",
    "    column_names.extend(features) # concatenate features names\n",
    "        \n",
    "print(\"Names of columns corresponding to each coefficient: \", column_names)"
   ]
  },
  {
   "cell_type": "code",
   "execution_count": 57,
   "metadata": {},
   "outputs": [],
   "source": [
    "# Create a pandas DataFrame\n",
    "feature_importance = pd.DataFrame(index = column_names, data = gridsearch.best_estimator_.feature_importances_, columns=[\"feature_importances\"])\n",
    "feature_importance = feature_importance.sort_values(by = 'feature_importances')"
   ]
  },
  {
   "cell_type": "code",
   "execution_count": 58,
   "metadata": {},
   "outputs": [
    {
     "data": {
      "text/html": [
       "<div>\n",
       "<style scoped>\n",
       "    .dataframe tbody tr th:only-of-type {\n",
       "        vertical-align: middle;\n",
       "    }\n",
       "\n",
       "    .dataframe tbody tr th {\n",
       "        vertical-align: top;\n",
       "    }\n",
       "\n",
       "    .dataframe thead th {\n",
       "        text-align: right;\n",
       "    }\n",
       "</style>\n",
       "<table border=\"1\" class=\"dataframe\">\n",
       "  <thead>\n",
       "    <tr style=\"text-align: right;\">\n",
       "      <th></th>\n",
       "      <th>feature_importances</th>\n",
       "    </tr>\n",
       "  </thead>\n",
       "  <tbody>\n",
       "    <tr>\n",
       "      <th>Urbanité Ruralité_Com rurale &gt; 2 000 habts</th>\n",
       "      <td>0.000349</td>\n",
       "    </tr>\n",
       "    <tr>\n",
       "      <th>Urbanité Ruralité_Com &lt; 50 m habts</th>\n",
       "      <td>0.000976</td>\n",
       "    </tr>\n",
       "    <tr>\n",
       "      <th>Urbanité Ruralité_Com &lt; 200 m habts</th>\n",
       "      <td>0.001445</td>\n",
       "    </tr>\n",
       "    <tr>\n",
       "      <th>Urbanité Ruralité_Com &gt; 200 m habts</th>\n",
       "      <td>0.002211</td>\n",
       "    </tr>\n",
       "    <tr>\n",
       "      <th>Urbanité Ruralité_Com rurale &lt; 2 000 m habts</th>\n",
       "      <td>0.017743</td>\n",
       "    </tr>\n",
       "    <tr>\n",
       "      <th>Nb propriétaire</th>\n",
       "      <td>0.018298</td>\n",
       "    </tr>\n",
       "    <tr>\n",
       "      <th>Indice Démographique</th>\n",
       "      <td>0.018820</td>\n",
       "    </tr>\n",
       "    <tr>\n",
       "      <th>Pop 30-44 ans en 2014 (princ)</th>\n",
       "      <td>0.019489</td>\n",
       "    </tr>\n",
       "    <tr>\n",
       "      <th>Pop 15 ans ou plus Autres en 2014 (compl)</th>\n",
       "      <td>0.019730</td>\n",
       "    </tr>\n",
       "    <tr>\n",
       "      <th>Pop 15 ans ou plus Artisans, Comm., Chefs entr. en 2014 (compl)</th>\n",
       "      <td>0.019874</td>\n",
       "    </tr>\n",
       "    <tr>\n",
       "      <th>Pop 15 ans ou plus Agriculteurs exploitants en 2014 (compl)</th>\n",
       "      <td>0.020203</td>\n",
       "    </tr>\n",
       "    <tr>\n",
       "      <th>Pop 0-14 ans en 2014 (princ)</th>\n",
       "      <td>0.020703</td>\n",
       "    </tr>\n",
       "    <tr>\n",
       "      <th>Pop 15 ans ou plus Cadres, Prof. intel. sup. en 2014 (compl)</th>\n",
       "      <td>0.020863</td>\n",
       "    </tr>\n",
       "    <tr>\n",
       "      <th>Nb Infirmiers Libéraux BV</th>\n",
       "      <td>0.020941</td>\n",
       "    </tr>\n",
       "    <tr>\n",
       "      <th>Pop 15-29 ans en 2014 (princ)</th>\n",
       "      <td>0.021222</td>\n",
       "    </tr>\n",
       "    <tr>\n",
       "      <th>Pop 15 ans ou plus Ouvriers en 2014 (compl)</th>\n",
       "      <td>0.021663</td>\n",
       "    </tr>\n",
       "    <tr>\n",
       "      <th>Pop 45-59 ans en 2014 (princ)</th>\n",
       "      <td>0.022960</td>\n",
       "    </tr>\n",
       "    <tr>\n",
       "      <th>Nb Log Vacants</th>\n",
       "      <td>0.023508</td>\n",
       "    </tr>\n",
       "    <tr>\n",
       "      <th>Nb Omnipraticiens BV</th>\n",
       "      <td>0.023694</td>\n",
       "    </tr>\n",
       "    <tr>\n",
       "      <th>Pop 15 ans ou plus Employés en 2014 (compl)</th>\n",
       "      <td>0.024214</td>\n",
       "    </tr>\n",
       "    <tr>\n",
       "      <th>Dynamique Entrepreneuriale</th>\n",
       "      <td>0.024766</td>\n",
       "    </tr>\n",
       "    <tr>\n",
       "      <th>Pop 15 ans ou plus Retraités  en 2014 (compl)</th>\n",
       "      <td>0.025586</td>\n",
       "    </tr>\n",
       "    <tr>\n",
       "      <th>Pop 15 ans ou plus Prof. intermédiaires  en 2014 (compl)</th>\n",
       "      <td>0.025838</td>\n",
       "    </tr>\n",
       "    <tr>\n",
       "      <th>Capacité Fisc</th>\n",
       "      <td>0.026827</td>\n",
       "    </tr>\n",
       "    <tr>\n",
       "      <th>Reg Moyenne Salaires Employé Horaires</th>\n",
       "      <td>0.027391</td>\n",
       "    </tr>\n",
       "    <tr>\n",
       "      <th>Dep Moyenne Salaires Employé Horaires</th>\n",
       "      <td>0.028306</td>\n",
       "    </tr>\n",
       "    <tr>\n",
       "      <th>Synergie Médicale COMMUNE</th>\n",
       "      <td>0.034600</td>\n",
       "    </tr>\n",
       "    <tr>\n",
       "      <th>taux chômage(15-64 ans)</th>\n",
       "      <td>0.035853</td>\n",
       "    </tr>\n",
       "    <tr>\n",
       "      <th>Nb Résidences Secondaires</th>\n",
       "      <td>0.041609</td>\n",
       "    </tr>\n",
       "    <tr>\n",
       "      <th>Densité Médicale BV</th>\n",
       "      <td>0.062261</td>\n",
       "    </tr>\n",
       "    <tr>\n",
       "      <th>Taux Propriété</th>\n",
       "      <td>0.064406</td>\n",
       "    </tr>\n",
       "    <tr>\n",
       "      <th>longitude</th>\n",
       "      <td>0.078005</td>\n",
       "    </tr>\n",
       "    <tr>\n",
       "      <th>Dynamique Entrepreneuriale Service et Commerce</th>\n",
       "      <td>0.091576</td>\n",
       "    </tr>\n",
       "    <tr>\n",
       "      <th>latitude</th>\n",
       "      <td>0.094070</td>\n",
       "    </tr>\n",
       "  </tbody>\n",
       "</table>\n",
       "</div>"
      ],
      "text/plain": [
       "                                                    feature_importances\n",
       "Urbanité Ruralité_Com rurale > 2 000 habts                     0.000349\n",
       "Urbanité Ruralité_Com < 50 m habts                             0.000976\n",
       "Urbanité Ruralité_Com < 200 m habts                            0.001445\n",
       "Urbanité Ruralité_Com > 200 m habts                            0.002211\n",
       "Urbanité Ruralité_Com rurale < 2 000 m habts                   0.017743\n",
       "Nb propriétaire                                                0.018298\n",
       "Indice Démographique                                           0.018820\n",
       "Pop 30-44 ans en 2014 (princ)                                  0.019489\n",
       "Pop 15 ans ou plus Autres en 2014 (compl)                      0.019730\n",
       "Pop 15 ans ou plus Artisans, Comm., Chefs entr....             0.019874\n",
       "Pop 15 ans ou plus Agriculteurs exploitants en ...             0.020203\n",
       "Pop 0-14 ans en 2014 (princ)                                   0.020703\n",
       "Pop 15 ans ou plus Cadres, Prof. intel. sup. en...             0.020863\n",
       "Nb Infirmiers Libéraux BV                                      0.020941\n",
       "Pop 15-29 ans en 2014 (princ)                                  0.021222\n",
       "Pop 15 ans ou plus Ouvriers en 2014 (compl)                    0.021663\n",
       "Pop 45-59 ans en 2014 (princ)                                  0.022960\n",
       "Nb Log Vacants                                                 0.023508\n",
       "Nb Omnipraticiens BV                                           0.023694\n",
       "Pop 15 ans ou plus Employés en 2014 (compl)                    0.024214\n",
       "Dynamique Entrepreneuriale                                     0.024766\n",
       "Pop 15 ans ou plus Retraités  en 2014 (compl)                  0.025586\n",
       "Pop 15 ans ou plus Prof. intermédiaires  en 201...             0.025838\n",
       "Capacité Fisc                                                  0.026827\n",
       "Reg Moyenne Salaires Employé Horaires                          0.027391\n",
       "Dep Moyenne Salaires Employé Horaires                          0.028306\n",
       "Synergie Médicale COMMUNE                                      0.034600\n",
       "taux chômage(15-64 ans)                                        0.035853\n",
       "Nb Résidences Secondaires                                      0.041609\n",
       "Densité Médicale BV                                            0.062261\n",
       "Taux Propriété                                                 0.064406\n",
       "longitude                                                      0.078005\n",
       "Dynamique Entrepreneuriale Service et Commerce                 0.091576\n",
       "latitude                                                       0.094070"
      ]
     },
     "execution_count": 58,
     "metadata": {},
     "output_type": "execute_result"
    }
   ],
   "source": [
    "feature_importance"
   ]
  },
  {
   "cell_type": "code",
   "execution_count": 61,
   "metadata": {},
   "outputs": [
    {
     "data": {
      "application/vnd.plotly.v1+json": {
       "config": {
        "plotlyServerURL": "https://plot.ly"
       },
       "data": [
        {
         "alignmentgroup": "True",
         "hovertemplate": "variable=feature_importances<br>value=%{x}<br>index=%{y}<extra></extra>",
         "legendgroup": "feature_importances",
         "marker": {
          "color": "#636efa",
          "pattern": {
           "shape": ""
          }
         },
         "name": "feature_importances",
         "offsetgroup": "feature_importances",
         "orientation": "h",
         "showlegend": true,
         "textposition": "auto",
         "type": "bar",
         "x": [
          0.00034871437797883396,
          0.0009760341876031861,
          0.0014453999976563644,
          0.0022114580057277637,
          0.01774344378422164,
          0.018297700882716345,
          0.018819570866078026,
          0.019488771627280174,
          0.019729964257193373,
          0.019873816224599522,
          0.020203034983426228,
          0.020702925927652185,
          0.020863266335469956,
          0.0209408180941498,
          0.021222241515205485,
          0.02166315614325444,
          0.022959951081333297,
          0.023507530321900543,
          0.023694168194342072,
          0.024214172275148008,
          0.02476610393029672,
          0.02558615357308642,
          0.025838490054834077,
          0.026827322485191263,
          0.027390668392544195,
          0.028305700595904502,
          0.034599516102906486,
          0.035853451486550385,
          0.041608507710229566,
          0.06226139610104418,
          0.06440554248506779,
          0.07800510097496643,
          0.09157632368816385,
          0.09406958333627696
         ],
         "xaxis": "x",
         "y": [
          "Urbanité Ruralité_Com rurale > 2 000 habts",
          "Urbanité Ruralité_Com < 50 m habts",
          "Urbanité Ruralité_Com < 200 m habts",
          "Urbanité Ruralité_Com > 200 m habts",
          "Urbanité Ruralité_Com rurale < 2 000 m habts",
          "Nb propriétaire",
          "Indice Démographique",
          "Pop 30-44 ans en 2014 (princ)",
          "Pop 15 ans ou plus Autres en 2014 (compl)",
          "Pop 15 ans ou plus Artisans, Comm., Chefs entr. en 2014 (compl)",
          "Pop 15 ans ou plus Agriculteurs exploitants en 2014 (compl)",
          "Pop 0-14 ans en 2014 (princ)",
          "Pop 15 ans ou plus Cadres, Prof. intel. sup. en 2014 (compl)",
          "Nb Infirmiers Libéraux BV",
          "Pop 15-29 ans en 2014 (princ)",
          "Pop 15 ans ou plus Ouvriers en 2014 (compl)",
          "Pop 45-59 ans en 2014 (princ)",
          "Nb Log Vacants",
          "Nb Omnipraticiens BV",
          "Pop 15 ans ou plus Employés en 2014 (compl)",
          "Dynamique Entrepreneuriale",
          "Pop 15 ans ou plus Retraités  en 2014 (compl)",
          "Pop 15 ans ou plus Prof. intermédiaires  en 2014 (compl)",
          "Capacité Fisc",
          "Reg Moyenne Salaires Employé Horaires",
          "Dep Moyenne Salaires Employé Horaires",
          "Synergie Médicale COMMUNE",
          "taux chômage(15-64 ans)",
          "Nb Résidences Secondaires",
          "Densité Médicale BV",
          "Taux Propriété",
          "longitude",
          "Dynamique Entrepreneuriale Service et Commerce",
          "latitude"
         ],
         "yaxis": "y"
        }
       ],
       "layout": {
        "barmode": "relative",
        "height": 1000,
        "legend": {
         "title": {
          "text": "variable"
         },
         "tracegroupgap": 0
        },
        "margin": {
         "l": 50,
         "t": 60
        },
        "showlegend": false,
        "template": {
         "data": {
          "bar": [
           {
            "error_x": {
             "color": "#2a3f5f"
            },
            "error_y": {
             "color": "#2a3f5f"
            },
            "marker": {
             "line": {
              "color": "#E5ECF6",
              "width": 0.5
             },
             "pattern": {
              "fillmode": "overlay",
              "size": 10,
              "solidity": 0.2
             }
            },
            "type": "bar"
           }
          ],
          "barpolar": [
           {
            "marker": {
             "line": {
              "color": "#E5ECF6",
              "width": 0.5
             },
             "pattern": {
              "fillmode": "overlay",
              "size": 10,
              "solidity": 0.2
             }
            },
            "type": "barpolar"
           }
          ],
          "carpet": [
           {
            "aaxis": {
             "endlinecolor": "#2a3f5f",
             "gridcolor": "white",
             "linecolor": "white",
             "minorgridcolor": "white",
             "startlinecolor": "#2a3f5f"
            },
            "baxis": {
             "endlinecolor": "#2a3f5f",
             "gridcolor": "white",
             "linecolor": "white",
             "minorgridcolor": "white",
             "startlinecolor": "#2a3f5f"
            },
            "type": "carpet"
           }
          ],
          "choropleth": [
           {
            "colorbar": {
             "outlinewidth": 0,
             "ticks": ""
            },
            "type": "choropleth"
           }
          ],
          "contour": [
           {
            "colorbar": {
             "outlinewidth": 0,
             "ticks": ""
            },
            "colorscale": [
             [
              0,
              "#0d0887"
             ],
             [
              0.1111111111111111,
              "#46039f"
             ],
             [
              0.2222222222222222,
              "#7201a8"
             ],
             [
              0.3333333333333333,
              "#9c179e"
             ],
             [
              0.4444444444444444,
              "#bd3786"
             ],
             [
              0.5555555555555556,
              "#d8576b"
             ],
             [
              0.6666666666666666,
              "#ed7953"
             ],
             [
              0.7777777777777778,
              "#fb9f3a"
             ],
             [
              0.8888888888888888,
              "#fdca26"
             ],
             [
              1,
              "#f0f921"
             ]
            ],
            "type": "contour"
           }
          ],
          "contourcarpet": [
           {
            "colorbar": {
             "outlinewidth": 0,
             "ticks": ""
            },
            "type": "contourcarpet"
           }
          ],
          "heatmap": [
           {
            "colorbar": {
             "outlinewidth": 0,
             "ticks": ""
            },
            "colorscale": [
             [
              0,
              "#0d0887"
             ],
             [
              0.1111111111111111,
              "#46039f"
             ],
             [
              0.2222222222222222,
              "#7201a8"
             ],
             [
              0.3333333333333333,
              "#9c179e"
             ],
             [
              0.4444444444444444,
              "#bd3786"
             ],
             [
              0.5555555555555556,
              "#d8576b"
             ],
             [
              0.6666666666666666,
              "#ed7953"
             ],
             [
              0.7777777777777778,
              "#fb9f3a"
             ],
             [
              0.8888888888888888,
              "#fdca26"
             ],
             [
              1,
              "#f0f921"
             ]
            ],
            "type": "heatmap"
           }
          ],
          "heatmapgl": [
           {
            "colorbar": {
             "outlinewidth": 0,
             "ticks": ""
            },
            "colorscale": [
             [
              0,
              "#0d0887"
             ],
             [
              0.1111111111111111,
              "#46039f"
             ],
             [
              0.2222222222222222,
              "#7201a8"
             ],
             [
              0.3333333333333333,
              "#9c179e"
             ],
             [
              0.4444444444444444,
              "#bd3786"
             ],
             [
              0.5555555555555556,
              "#d8576b"
             ],
             [
              0.6666666666666666,
              "#ed7953"
             ],
             [
              0.7777777777777778,
              "#fb9f3a"
             ],
             [
              0.8888888888888888,
              "#fdca26"
             ],
             [
              1,
              "#f0f921"
             ]
            ],
            "type": "heatmapgl"
           }
          ],
          "histogram": [
           {
            "marker": {
             "pattern": {
              "fillmode": "overlay",
              "size": 10,
              "solidity": 0.2
             }
            },
            "type": "histogram"
           }
          ],
          "histogram2d": [
           {
            "colorbar": {
             "outlinewidth": 0,
             "ticks": ""
            },
            "colorscale": [
             [
              0,
              "#0d0887"
             ],
             [
              0.1111111111111111,
              "#46039f"
             ],
             [
              0.2222222222222222,
              "#7201a8"
             ],
             [
              0.3333333333333333,
              "#9c179e"
             ],
             [
              0.4444444444444444,
              "#bd3786"
             ],
             [
              0.5555555555555556,
              "#d8576b"
             ],
             [
              0.6666666666666666,
              "#ed7953"
             ],
             [
              0.7777777777777778,
              "#fb9f3a"
             ],
             [
              0.8888888888888888,
              "#fdca26"
             ],
             [
              1,
              "#f0f921"
             ]
            ],
            "type": "histogram2d"
           }
          ],
          "histogram2dcontour": [
           {
            "colorbar": {
             "outlinewidth": 0,
             "ticks": ""
            },
            "colorscale": [
             [
              0,
              "#0d0887"
             ],
             [
              0.1111111111111111,
              "#46039f"
             ],
             [
              0.2222222222222222,
              "#7201a8"
             ],
             [
              0.3333333333333333,
              "#9c179e"
             ],
             [
              0.4444444444444444,
              "#bd3786"
             ],
             [
              0.5555555555555556,
              "#d8576b"
             ],
             [
              0.6666666666666666,
              "#ed7953"
             ],
             [
              0.7777777777777778,
              "#fb9f3a"
             ],
             [
              0.8888888888888888,
              "#fdca26"
             ],
             [
              1,
              "#f0f921"
             ]
            ],
            "type": "histogram2dcontour"
           }
          ],
          "mesh3d": [
           {
            "colorbar": {
             "outlinewidth": 0,
             "ticks": ""
            },
            "type": "mesh3d"
           }
          ],
          "parcoords": [
           {
            "line": {
             "colorbar": {
              "outlinewidth": 0,
              "ticks": ""
             }
            },
            "type": "parcoords"
           }
          ],
          "pie": [
           {
            "automargin": true,
            "type": "pie"
           }
          ],
          "scatter": [
           {
            "fillpattern": {
             "fillmode": "overlay",
             "size": 10,
             "solidity": 0.2
            },
            "type": "scatter"
           }
          ],
          "scatter3d": [
           {
            "line": {
             "colorbar": {
              "outlinewidth": 0,
              "ticks": ""
             }
            },
            "marker": {
             "colorbar": {
              "outlinewidth": 0,
              "ticks": ""
             }
            },
            "type": "scatter3d"
           }
          ],
          "scattercarpet": [
           {
            "marker": {
             "colorbar": {
              "outlinewidth": 0,
              "ticks": ""
             }
            },
            "type": "scattercarpet"
           }
          ],
          "scattergeo": [
           {
            "marker": {
             "colorbar": {
              "outlinewidth": 0,
              "ticks": ""
             }
            },
            "type": "scattergeo"
           }
          ],
          "scattergl": [
           {
            "marker": {
             "colorbar": {
              "outlinewidth": 0,
              "ticks": ""
             }
            },
            "type": "scattergl"
           }
          ],
          "scattermapbox": [
           {
            "marker": {
             "colorbar": {
              "outlinewidth": 0,
              "ticks": ""
             }
            },
            "type": "scattermapbox"
           }
          ],
          "scatterpolar": [
           {
            "marker": {
             "colorbar": {
              "outlinewidth": 0,
              "ticks": ""
             }
            },
            "type": "scatterpolar"
           }
          ],
          "scatterpolargl": [
           {
            "marker": {
             "colorbar": {
              "outlinewidth": 0,
              "ticks": ""
             }
            },
            "type": "scatterpolargl"
           }
          ],
          "scatterternary": [
           {
            "marker": {
             "colorbar": {
              "outlinewidth": 0,
              "ticks": ""
             }
            },
            "type": "scatterternary"
           }
          ],
          "surface": [
           {
            "colorbar": {
             "outlinewidth": 0,
             "ticks": ""
            },
            "colorscale": [
             [
              0,
              "#0d0887"
             ],
             [
              0.1111111111111111,
              "#46039f"
             ],
             [
              0.2222222222222222,
              "#7201a8"
             ],
             [
              0.3333333333333333,
              "#9c179e"
             ],
             [
              0.4444444444444444,
              "#bd3786"
             ],
             [
              0.5555555555555556,
              "#d8576b"
             ],
             [
              0.6666666666666666,
              "#ed7953"
             ],
             [
              0.7777777777777778,
              "#fb9f3a"
             ],
             [
              0.8888888888888888,
              "#fdca26"
             ],
             [
              1,
              "#f0f921"
             ]
            ],
            "type": "surface"
           }
          ],
          "table": [
           {
            "cells": {
             "fill": {
              "color": "#EBF0F8"
             },
             "line": {
              "color": "white"
             }
            },
            "header": {
             "fill": {
              "color": "#C8D4E3"
             },
             "line": {
              "color": "white"
             }
            },
            "type": "table"
           }
          ]
         },
         "layout": {
          "annotationdefaults": {
           "arrowcolor": "#2a3f5f",
           "arrowhead": 0,
           "arrowwidth": 1
          },
          "autotypenumbers": "strict",
          "coloraxis": {
           "colorbar": {
            "outlinewidth": 0,
            "ticks": ""
           }
          },
          "colorscale": {
           "diverging": [
            [
             0,
             "#8e0152"
            ],
            [
             0.1,
             "#c51b7d"
            ],
            [
             0.2,
             "#de77ae"
            ],
            [
             0.3,
             "#f1b6da"
            ],
            [
             0.4,
             "#fde0ef"
            ],
            [
             0.5,
             "#f7f7f7"
            ],
            [
             0.6,
             "#e6f5d0"
            ],
            [
             0.7,
             "#b8e186"
            ],
            [
             0.8,
             "#7fbc41"
            ],
            [
             0.9,
             "#4d9221"
            ],
            [
             1,
             "#276419"
            ]
           ],
           "sequential": [
            [
             0,
             "#0d0887"
            ],
            [
             0.1111111111111111,
             "#46039f"
            ],
            [
             0.2222222222222222,
             "#7201a8"
            ],
            [
             0.3333333333333333,
             "#9c179e"
            ],
            [
             0.4444444444444444,
             "#bd3786"
            ],
            [
             0.5555555555555556,
             "#d8576b"
            ],
            [
             0.6666666666666666,
             "#ed7953"
            ],
            [
             0.7777777777777778,
             "#fb9f3a"
            ],
            [
             0.8888888888888888,
             "#fdca26"
            ],
            [
             1,
             "#f0f921"
            ]
           ],
           "sequentialminus": [
            [
             0,
             "#0d0887"
            ],
            [
             0.1111111111111111,
             "#46039f"
            ],
            [
             0.2222222222222222,
             "#7201a8"
            ],
            [
             0.3333333333333333,
             "#9c179e"
            ],
            [
             0.4444444444444444,
             "#bd3786"
            ],
            [
             0.5555555555555556,
             "#d8576b"
            ],
            [
             0.6666666666666666,
             "#ed7953"
            ],
            [
             0.7777777777777778,
             "#fb9f3a"
            ],
            [
             0.8888888888888888,
             "#fdca26"
            ],
            [
             1,
             "#f0f921"
            ]
           ]
          },
          "colorway": [
           "#636efa",
           "#EF553B",
           "#00cc96",
           "#ab63fa",
           "#FFA15A",
           "#19d3f3",
           "#FF6692",
           "#B6E880",
           "#FF97FF",
           "#FECB52"
          ],
          "font": {
           "color": "#2a3f5f"
          },
          "geo": {
           "bgcolor": "white",
           "lakecolor": "white",
           "landcolor": "#E5ECF6",
           "showlakes": true,
           "showland": true,
           "subunitcolor": "white"
          },
          "hoverlabel": {
           "align": "left"
          },
          "hovermode": "closest",
          "mapbox": {
           "style": "light"
          },
          "paper_bgcolor": "white",
          "plot_bgcolor": "#E5ECF6",
          "polar": {
           "angularaxis": {
            "gridcolor": "white",
            "linecolor": "white",
            "ticks": ""
           },
           "bgcolor": "#E5ECF6",
           "radialaxis": {
            "gridcolor": "white",
            "linecolor": "white",
            "ticks": ""
           }
          },
          "scene": {
           "xaxis": {
            "backgroundcolor": "#E5ECF6",
            "gridcolor": "white",
            "gridwidth": 2,
            "linecolor": "white",
            "showbackground": true,
            "ticks": "",
            "zerolinecolor": "white"
           },
           "yaxis": {
            "backgroundcolor": "#E5ECF6",
            "gridcolor": "white",
            "gridwidth": 2,
            "linecolor": "white",
            "showbackground": true,
            "ticks": "",
            "zerolinecolor": "white"
           },
           "zaxis": {
            "backgroundcolor": "#E5ECF6",
            "gridcolor": "white",
            "gridwidth": 2,
            "linecolor": "white",
            "showbackground": true,
            "ticks": "",
            "zerolinecolor": "white"
           }
          },
          "shapedefaults": {
           "line": {
            "color": "#2a3f5f"
           }
          },
          "ternary": {
           "aaxis": {
            "gridcolor": "white",
            "linecolor": "white",
            "ticks": ""
           },
           "baxis": {
            "gridcolor": "white",
            "linecolor": "white",
            "ticks": ""
           },
           "bgcolor": "#E5ECF6",
           "caxis": {
            "gridcolor": "white",
            "linecolor": "white",
            "ticks": ""
           }
          },
          "title": {
           "x": 0.05
          },
          "xaxis": {
           "automargin": true,
           "gridcolor": "white",
           "linecolor": "white",
           "ticks": "",
           "title": {
            "standoff": 15
           },
           "zerolinecolor": "white",
           "zerolinewidth": 2
          },
          "yaxis": {
           "automargin": true,
           "gridcolor": "white",
           "linecolor": "white",
           "ticks": "",
           "title": {
            "standoff": 15
           },
           "zerolinecolor": "white",
           "zerolinewidth": 2
          }
         }
        },
        "width": 1500,
        "xaxis": {
         "anchor": "y",
         "domain": [
          0,
          1
         ],
         "title": {
          "text": "value"
         }
        },
        "yaxis": {
         "anchor": "x",
         "domain": [
          0,
          1
         ],
         "title": {
          "text": "index"
         }
        }
       }
      }
     },
     "metadata": {},
     "output_type": "display_data"
    }
   ],
   "source": [
    "# Plot coefficients\n",
    "fig = px.bar(feature_importance, orientation = 'h')\n",
    "fig.update_layout(height=1000, width=1500, showlegend = False, margin = {'l': 50}, ) # to avoid cropping of column names\n",
    "fig.show()"
   ]
  },
  {
   "cell_type": "markdown",
   "metadata": {},
   "source": [
    "#PCA on 30 Best features "
   ]
  },
  {
   "cell_type": "code",
   "execution_count": 62,
   "metadata": {},
   "outputs": [],
   "source": [
    "from sklearn.decomposition import PCA\n",
    "\n",
    "# Instanciate PCA with 3 components\n",
    "pca = PCA(n_components=3)\n",
    "\n",
    "# Fit transform X_std_train\n",
    "X_opt_train = pca.fit_transform(X_train)\n",
    "\n",
    "# Apply on X_std_test\n",
    "X_opt_test = pca.transform(X_test)"
   ]
  },
  {
   "cell_type": "code",
   "execution_count": 63,
   "metadata": {},
   "outputs": [
    {
     "data": {
      "text/html": [
       "<div>\n",
       "<style scoped>\n",
       "    .dataframe tbody tr th:only-of-type {\n",
       "        vertical-align: middle;\n",
       "    }\n",
       "\n",
       "    .dataframe tbody tr th {\n",
       "        vertical-align: top;\n",
       "    }\n",
       "\n",
       "    .dataframe thead th {\n",
       "        text-align: right;\n",
       "    }\n",
       "</style>\n",
       "<table border=\"1\" class=\"dataframe\">\n",
       "  <thead>\n",
       "    <tr style=\"text-align: right;\">\n",
       "      <th></th>\n",
       "      <th>PC1</th>\n",
       "      <th>PC2</th>\n",
       "      <th>PC3</th>\n",
       "    </tr>\n",
       "  </thead>\n",
       "  <tbody>\n",
       "    <tr>\n",
       "      <th>0</th>\n",
       "      <td>-0.206114</td>\n",
       "      <td>2.337405</td>\n",
       "      <td>-0.781127</td>\n",
       "    </tr>\n",
       "    <tr>\n",
       "      <th>1</th>\n",
       "      <td>-0.862863</td>\n",
       "      <td>0.686518</td>\n",
       "      <td>2.379402</td>\n",
       "    </tr>\n",
       "    <tr>\n",
       "      <th>2</th>\n",
       "      <td>-0.816904</td>\n",
       "      <td>0.627457</td>\n",
       "      <td>0.507799</td>\n",
       "    </tr>\n",
       "    <tr>\n",
       "      <th>3</th>\n",
       "      <td>-0.751091</td>\n",
       "      <td>-1.867085</td>\n",
       "      <td>-0.041542</td>\n",
       "    </tr>\n",
       "    <tr>\n",
       "      <th>4</th>\n",
       "      <td>-0.668346</td>\n",
       "      <td>-0.301329</td>\n",
       "      <td>-1.018060</td>\n",
       "    </tr>\n",
       "  </tbody>\n",
       "</table>\n",
       "</div>"
      ],
      "text/plain": [
       "        PC1       PC2       PC3\n",
       "0 -0.206114  2.337405 -0.781127\n",
       "1 -0.862863  0.686518  2.379402\n",
       "2 -0.816904  0.627457  0.507799\n",
       "3 -0.751091 -1.867085 -0.041542\n",
       "4 -0.668346 -0.301329 -1.018060"
      ]
     },
     "execution_count": 63,
     "metadata": {},
     "output_type": "execute_result"
    }
   ],
   "source": [
    "PC1 = X_opt_train[:, 0]\n",
    "PC2 = X_opt_train[:, 1]\n",
    "PC3 = X_opt_train[:, 2]\n",
    "\n",
    "# Convert PC into a DataFrame\n",
    "PC = pd.DataFrame(data=X_opt_train, columns=[\"PC1\", \"PC2\", \"PC3\"])\n",
    "# PC Head\n",
    "PC.head()"
   ]
  },
  {
   "cell_type": "code",
   "execution_count": 74,
   "metadata": {},
   "outputs": [
    {
     "data": {
      "text/plain": [
       "(27808, 3)"
      ]
     },
     "execution_count": 74,
     "metadata": {},
     "output_type": "execute_result"
    }
   ],
   "source": [
    "PC.shape"
   ]
  },
  {
   "cell_type": "code",
   "execution_count": 64,
   "metadata": {},
   "outputs": [
    {
     "name": "stdout",
     "output_type": "stream",
     "text": [
      "Explained Variance ration per PC: [0.57434712 0.08276086 0.06119349]\n",
      "Total explained variance ratio: 0.7183014696927544%\n"
     ]
    }
   ],
   "source": [
    "# Use pca.explained_variance_ratio_\n",
    "print(\"Explained Variance ration per PC: {}\".format(pca.explained_variance_ratio_))\n",
    "print(\"Total explained variance ratio: {}%\".format(pca.explained_variance_ratio_.sum()))"
   ]
  },
  {
   "cell_type": "code",
   "execution_count": 69,
   "metadata": {},
   "outputs": [],
   "source": [
    "rf = RandomForestRegressor(max_depth = 20, min_samples_leaf = 2, min_samples_split= 4, n_estimators= 100)"
   ]
  },
  {
   "cell_type": "code",
   "execution_count": 71,
   "metadata": {},
   "outputs": [
    {
     "name": "stdout",
     "output_type": "stream",
     "text": [
      "R2 score on training set fit on PCA:  0.5916847769489051\n",
      "R2 score on test set fit on PCA:  0.12977413477139044\n"
     ]
    }
   ],
   "source": [
    "# Fit the RF bestfeatures on the train set where the PCA was applied and checkout the score on the test\n",
    "rf.fit(X_opt_train, y_train)\n",
    "# Print R^2 scores\n",
    "print(\"R2 score on training set fit on PCA: \", rf.score(X_opt_train, y_train))\n",
    "print(\"R2 score on test set fit on PCA: \",     rf.score(X_opt_test, y_test))"
   ]
  },
  {
   "cell_type": "code",
   "execution_count": null,
   "metadata": {},
   "outputs": [],
   "source": [
    "#Les scores du RF ne sont pas amélioré dans l'espace de la \n",
    "#PCA par rapport à l'espace de départ à 30 dimensions"
   ]
  }
 ],
 "metadata": {
  "kernelspec": {
   "display_name": "base",
   "language": "python",
   "name": "python3"
  },
  "language_info": {
   "codemirror_mode": {
    "name": "ipython",
    "version": 3
   },
   "file_extension": ".py",
   "mimetype": "text/x-python",
   "name": "python",
   "nbconvert_exporter": "python",
   "pygments_lexer": "ipython3",
   "version": "3.10.13"
  }
 },
 "nbformat": 4,
 "nbformat_minor": 2
}
