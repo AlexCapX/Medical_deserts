{
 "cells": [
  {
   "cell_type": "code",
   "execution_count": 34,
   "metadata": {},
   "outputs": [],
   "source": [
    "# Import librairies\n",
    "\n",
    "import numpy as np\n",
    "import pandas as pd\n",
    "\n",
    "from sklearn.model_selection import train_test_split\n",
    "from sklearn.impute import SimpleImputer\n",
    "from sklearn.preprocessing import  OneHotEncoder, StandardScaler\n",
    "from sklearn.compose import ColumnTransformer\n",
    "from sklearn.ensemble import RandomForestRegressor\n",
    "from sklearn.metrics import r2_score\n",
    "from sklearn.model_selection import GridSearchCV\n",
    "from sklearn.metrics import mean_absolute_error\n",
    "\n",
    "import warnings\n",
    "warnings.filterwarnings(\"ignore\", category=DeprecationWarning) # to avoid deprecation warnings\n",
    "\n",
    "import plotly.express as px\n",
    "import plotly.graph_objects as go\n",
    "import plotly.io as pio\n",
    "\n",
    "import plotly.figure_factory as ff"
   ]
  },
  {
   "cell_type": "code",
   "execution_count": 22,
   "metadata": {},
   "outputs": [
    {
     "data": {
      "text/plain": [
       "(38590, 90)"
      ]
     },
     "execution_count": 22,
     "metadata": {},
     "output_type": "execute_result"
    }
   ],
   "source": [
    "# URL of the CSV file of INSEE data\n",
    "insee_url = 'https://medical-deserts-project.s3.eu-north-1.amazonaws.com/insee_clean.csv'\n",
    "\n",
    "# Read the CSV file from the URL into a DataFrame\n",
    "insee_df = pd.read_csv(insee_url, sep = ',', encoding='utf-8')\n",
    "insee_df.shape"
   ]
  },
  {
   "cell_type": "code",
   "execution_count": null,
   "metadata": {},
   "outputs": [],
   "source": [
    "#variables = pd.read_csv(\"https://medical-deserts.s3.eu-west-3.amazonaws.com/variables_etude.csv\")\n",
    "#variables.shape"
   ]
  },
  {
   "cell_type": "code",
   "execution_count": 23,
   "metadata": {},
   "outputs": [],
   "source": [
    "# Remove useless columns\n",
    "insee_df = insee_df.drop([\"APL aux médecins généralistes de 65 ans et moins\", \"APL aux médecins généralistes de 62 ans et moins\"], axis=1)\n",
    "\n",
    "# APL column at the end of dataset\n",
    "APL_column = insee_df.pop(\"APL aux médecins généralistes (sans borne d'âge)\")\n",
    "insee_df[\"APL aux médecins généralistes (sans borne d'âge)\"] = APL_column\n"
   ]
  },
  {
   "cell_type": "code",
   "execution_count": null,
   "metadata": {},
   "outputs": [],
   "source": [
    "# Select only numerical columns for the correlation matrix\n",
    "# numeric_columns = insee_df.select_dtypes(include=['float64', 'int64'])\n",
    "\n",
    "# # Calculate the correlation matrix\n",
    "# corr_matrix = numeric_columns.corr().round(2)\n",
    "\n",
    "# fig = ff.create_annotated_heatmap(corr_matrix.values,\n",
    "#                                   x=corr_matrix.columns.tolist(),\n",
    "#                                   y=corr_matrix.index.tolist())\n",
    "\n",
    "# fig.update_layout(height=2400, width=3200)\n",
    "\n",
    "# fig.show()"
   ]
  },
  {
   "cell_type": "code",
   "execution_count": 6,
   "metadata": {},
   "outputs": [],
   "source": [
    "#to_drop = [\"Nb Entreprises Secteur Services\", \"Nb Entreprises Secteur Commerce\", \"Nb Ménages\", \"Nb Résidences Principales\", \"Nb Occupants Résidence Principale\", \"Nb Création Commerces\", \"Nb Création Enteprises\", \"PIB Régionnal\", \"Nb de Commerce\", \"Nb Santé, action sociale\", \"Population en 2014 (princ)\", \"Pop 60-74 ans en 2014 (princ)\", \"Pop 75-89 ans en 2014 (princ)\", \"Nb Logement Secondaire et Occasionnel\"]"
   ]
  },
  {
   "cell_type": "code",
   "execution_count": null,
   "metadata": {},
   "outputs": [],
   "source": [
    "# Remove columns to be dropped\n",
    "# numeric_columns_filtered = insee_df.select_dtypes(include=['float64', 'int64']).drop(columns=to_drop)#no_keep)\n",
    "\n",
    "# # Re-calculate the correlation matrix\n",
    "# corr_matrix_filtered = numeric_columns_filtered.corr().round(2)\n",
    "\n",
    "# print(\"New correlation matrix:\")\n",
    "# print(corr_matrix_filtered)\n",
    "\n",
    "# fig = ff.create_annotated_heatmap(corr_matrix_filtered.values,\n",
    "#                                   x=corr_matrix_filtered.columns.tolist(),\n",
    "#                                   y=corr_matrix_filtered.index.tolist())\n",
    "\n",
    "# fig.update_layout(height=1500, width=2800)\n",
    "\n",
    "# fig.show()"
   ]
  },
  {
   "cell_type": "code",
   "execution_count": 4,
   "metadata": {},
   "outputs": [
    {
     "data": {
      "text/plain": [
       "(38590, 88)"
      ]
     },
     "execution_count": 4,
     "metadata": {},
     "output_type": "execute_result"
    }
   ],
   "source": [
    "insee_df.shape"
   ]
  },
  {
   "cell_type": "code",
   "execution_count": 24,
   "metadata": {},
   "outputs": [],
   "source": [
    "# X, y split \n",
    "X = insee_df.loc[:, insee_df.columns != \"APL aux médecins généralistes (sans borne d'âge)\"]\n",
    "y = insee_df.loc[:, \"APL aux médecins généralistes (sans borne d'âge)\"]\n",
    "\n",
    "# X = X.select_dtypes(exclude=[\"object\"])\n"
   ]
  },
  {
   "cell_type": "code",
   "execution_count": 25,
   "metadata": {},
   "outputs": [
    {
     "name": "stdout",
     "output_type": "stream",
     "text": [
      "Found numeric features  ['Dynamique Entrepreneuriale', 'Dynamique Entrepreneuriale Service et Commerce', 'Synergie Médicale COMMUNE', 'Nb Omnipraticiens BV', 'Nb Infirmiers Libéraux BV', 'Nb dentistes Libéraux BV', 'Nb pharmaciens Libéraux BV', 'Densité Médicale BV', 'Score équipement de santé BV', 'Indice Démographique', 'Nb Ménages', 'Nb Résidences Principales', 'Nb propriétaire', 'Nb Logement', 'Nb Résidences Secondaires', 'Nb Log Vacants', 'Nb Occupants Résidence Principale', 'Nb Entreprises Secteur Services', 'Nb Entreprises Secteur Commerce', 'Nb Entreprises Secteur Construction', 'Nb Entreprises Secteur Industrie', 'Nb Création Enteprises', 'Nb Création Industrielles', 'Nb Création Construction', 'Nb Création Commerces', 'Nb Création Services', 'Moyenne Revenus Fiscaux Départementaux', 'Moyenne Revenus Fiscaux Régionaux', 'Dep Moyenne Salaires Horaires', 'Dep Moyenne Salaires Cadre Horaires', 'Dep Moyenne Salaires Prof Intermédiaire Horaires', 'Dep Moyenne Salaires Employé Horaires', 'Dep Moyenne Salaires Ouvrié Horaires', 'Reg Moyenne Salaires Horaires', 'Reg Moyenne Salaires Cadre Horaires', 'Reg Moyenne Salaires Prof Intermédiaire Horaires', 'Reg Moyenne Salaires Employé Horaires', 'Reg Moyenne Salaires Ouvrié Horaires', 'Valeur ajoutée régionale', 'Nb Logement Secondaire et Occasionnel', 'Nb Hotel', 'Capacité Hotel', 'Nb Camping', 'Capacité Camping', 'Taux Propriété', 'Dynamique Démographique INSEE', 'Capacité Fisc', 'Moyenne Revnus fiscaux', 'Nb Education, santé, action sociale', 'Nb Services personnels et domestiques', 'Nb Santé, action sociale', 'Nb Industries des biens intermédiaires', 'Nb de Commerce', 'Nb de Services aux particuliers', 'Nb institution de Education, santé, action sociale, administration', 'PIB Régionnal', 'Score Croissance Entrepreneuriale', 'latitude', 'longitude', 'Population en 2014 (princ)', 'Pop 0-14 ans en 2014 (princ)', 'Pop 15-29 ans en 2014 (princ)', 'Pop 30-44 ans en 2014 (princ)', 'Pop 45-59 ans en 2014 (princ)', 'Pop 60-74 ans en 2014 (princ)', 'Pop 75-89 ans en 2014 (princ)', 'Pop 15 ans ou plus en 2014 (compl)', 'Pop 15 ans ou plus Agriculteurs exploitants en 2014 (compl)', 'Pop 15 ans ou plus Artisans, Comm., Chefs entr. en 2014 (compl)', 'Pop 15 ans ou plus Cadres, Prof. intel. sup. en 2014 (compl)', 'Pop 15 ans ou plus Prof. intermédiaires  en 2014 (compl)', 'Pop 15 ans ou plus Employés en 2014 (compl)', 'Pop 15 ans ou plus Ouvriers en 2014 (compl)', 'Pop 15 ans ou plus Retraités  en 2014 (compl)', 'Pop 15 ans ou plus Autres en 2014 (compl)', 'taux chômage(15-64 ans)']\n",
      "Found categorical features  ['SEG Croissance POP', 'Urbanité Ruralité', 'Dynamique Démographique BV', 'Environnement Démographique', 'Fidélité', 'Seg Cap Fiscale', 'Seg Dyn Entre', 'DYN SetC', \"Catégorie commune dans aire d'attraction des villes 2020\", \"Tranche détaillée d'aire d'attraction des villes 2020\", 'Libellé degré de densité']\n"
     ]
    }
   ],
   "source": [
    "# Automatically detect names of numeric/categorical columns\n",
    "numeric_features = []\n",
    "categorical_features = []\n",
    "for i,t in X.dtypes.items():\n",
    "    if ('float' in str(t)) or ('int' in str(t)) :\n",
    "        numeric_features.append(i)\n",
    "    else :\n",
    "        categorical_features.append(i)\n",
    "\n",
    "print('Found numeric features ', numeric_features)\n",
    "print('Found categorical features ', categorical_features)"
   ]
  },
  {
   "cell_type": "code",
   "execution_count": 26,
   "metadata": {},
   "outputs": [],
   "source": [
    "#categorical_transformer = OneHotEncoder(drop='first')\n",
    "from sklearn.pipeline import Pipeline\n",
    "\n",
    "categorical_transformer = Pipeline(steps=[\n",
    "    ('encoder', OneHotEncoder(drop='first', handle_unknown='ignore'))])\n",
    "\n",
    "numeric_transformer = StandardScaler()\n",
    "\n",
    "preprocessor = ColumnTransformer(\n",
    "        transformers=[\n",
    "        ('num', numeric_transformer, numeric_features),\n",
    "        ('cat', categorical_transformer, categorical_features)])"
   ]
  },
  {
   "cell_type": "code",
   "execution_count": 27,
   "metadata": {},
   "outputs": [],
   "source": [
    "# Train_test_split \n",
    "from sklearn.model_selection import train_test_split\n",
    "\n",
    "X_train, X_test, y_train, y_test = train_test_split(X, y, random_state=0, test_size=0.2)\n"
   ]
  },
  {
   "cell_type": "code",
   "execution_count": 28,
   "metadata": {},
   "outputs": [
    {
     "name": "stderr",
     "output_type": "stream",
     "text": [
      "/Users/wenhajindomeni/anaconda3/lib/python3.11/site-packages/sklearn/preprocessing/_encoders.py:227: UserWarning: Found unknown categories in columns [3] during transform. These unknown categories will be encoded as all zeros\n",
      "  warnings.warn(\n"
     ]
    },
    {
     "data": {
      "text/plain": [
       "array([[-0.17436763, -0.1344679 , -0.26697432, ...,  0.        ,\n",
       "         0.        ,  1.        ],\n",
       "       [-0.16327625, -0.13658912, -0.16271739, ...,  0.        ,\n",
       "         0.        ,  1.        ],\n",
       "       [-0.15060039, -0.12492244, -0.17140547, ...,  0.        ,\n",
       "         1.        ,  0.        ],\n",
       "       ...,\n",
       "       [-0.16169177, -0.12174062, -0.3104147 , ...,  0.        ,\n",
       "         0.        ,  0.        ],\n",
       "       [-0.17119867, -0.13658912, -0.27131835, ...,  0.        ,\n",
       "         1.        ,  0.        ],\n",
       "       [-0.15218487, -0.13128608, -0.20615778, ...,  0.        ,\n",
       "         1.        ,  0.        ]])"
      ]
     },
     "execution_count": 28,
     "metadata": {},
     "output_type": "execute_result"
    }
   ],
   "source": [
    "# Fit and transform X_train\n",
    "X_train = preprocessor.fit_transform(X_train)\n",
    "# Apply on X_test\n",
    "X_test = preprocessor.transform(X_test)\n",
    "\n",
    "# Visualize X_std_train\n",
    "X_train"
   ]
  },
  {
   "cell_type": "code",
   "execution_count": 33,
   "metadata": {},
   "outputs": [],
   "source": [
    "# Instanciate RandomForestRegressor\n",
    "rf = RandomForestRegressor()"
   ]
  },
  {
   "cell_type": "code",
   "execution_count": 35,
   "metadata": {},
   "outputs": [
    {
     "data": {
      "text/html": [
       "<style>#sk-container-id-3 {color: black;}#sk-container-id-3 pre{padding: 0;}#sk-container-id-3 div.sk-toggleable {background-color: white;}#sk-container-id-3 label.sk-toggleable__label {cursor: pointer;display: block;width: 100%;margin-bottom: 0;padding: 0.3em;box-sizing: border-box;text-align: center;}#sk-container-id-3 label.sk-toggleable__label-arrow:before {content: \"▸\";float: left;margin-right: 0.25em;color: #696969;}#sk-container-id-3 label.sk-toggleable__label-arrow:hover:before {color: black;}#sk-container-id-3 div.sk-estimator:hover label.sk-toggleable__label-arrow:before {color: black;}#sk-container-id-3 div.sk-toggleable__content {max-height: 0;max-width: 0;overflow: hidden;text-align: left;background-color: #f0f8ff;}#sk-container-id-3 div.sk-toggleable__content pre {margin: 0.2em;color: black;border-radius: 0.25em;background-color: #f0f8ff;}#sk-container-id-3 input.sk-toggleable__control:checked~div.sk-toggleable__content {max-height: 200px;max-width: 100%;overflow: auto;}#sk-container-id-3 input.sk-toggleable__control:checked~label.sk-toggleable__label-arrow:before {content: \"▾\";}#sk-container-id-3 div.sk-estimator input.sk-toggleable__control:checked~label.sk-toggleable__label {background-color: #d4ebff;}#sk-container-id-3 div.sk-label input.sk-toggleable__control:checked~label.sk-toggleable__label {background-color: #d4ebff;}#sk-container-id-3 input.sk-hidden--visually {border: 0;clip: rect(1px 1px 1px 1px);clip: rect(1px, 1px, 1px, 1px);height: 1px;margin: -1px;overflow: hidden;padding: 0;position: absolute;width: 1px;}#sk-container-id-3 div.sk-estimator {font-family: monospace;background-color: #f0f8ff;border: 1px dotted black;border-radius: 0.25em;box-sizing: border-box;margin-bottom: 0.5em;}#sk-container-id-3 div.sk-estimator:hover {background-color: #d4ebff;}#sk-container-id-3 div.sk-parallel-item::after {content: \"\";width: 100%;border-bottom: 1px solid gray;flex-grow: 1;}#sk-container-id-3 div.sk-label:hover label.sk-toggleable__label {background-color: #d4ebff;}#sk-container-id-3 div.sk-serial::before {content: \"\";position: absolute;border-left: 1px solid gray;box-sizing: border-box;top: 0;bottom: 0;left: 50%;z-index: 0;}#sk-container-id-3 div.sk-serial {display: flex;flex-direction: column;align-items: center;background-color: white;padding-right: 0.2em;padding-left: 0.2em;position: relative;}#sk-container-id-3 div.sk-item {position: relative;z-index: 1;}#sk-container-id-3 div.sk-parallel {display: flex;align-items: stretch;justify-content: center;background-color: white;position: relative;}#sk-container-id-3 div.sk-item::before, #sk-container-id-3 div.sk-parallel-item::before {content: \"\";position: absolute;border-left: 1px solid gray;box-sizing: border-box;top: 0;bottom: 0;left: 50%;z-index: -1;}#sk-container-id-3 div.sk-parallel-item {display: flex;flex-direction: column;z-index: 1;position: relative;background-color: white;}#sk-container-id-3 div.sk-parallel-item:first-child::after {align-self: flex-end;width: 50%;}#sk-container-id-3 div.sk-parallel-item:last-child::after {align-self: flex-start;width: 50%;}#sk-container-id-3 div.sk-parallel-item:only-child::after {width: 0;}#sk-container-id-3 div.sk-dashed-wrapped {border: 1px dashed gray;margin: 0 0.4em 0.5em 0.4em;box-sizing: border-box;padding-bottom: 0.4em;background-color: white;}#sk-container-id-3 div.sk-label label {font-family: monospace;font-weight: bold;display: inline-block;line-height: 1.2em;}#sk-container-id-3 div.sk-label-container {text-align: center;}#sk-container-id-3 div.sk-container {/* jupyter's `normalize.less` sets `[hidden] { display: none; }` but bootstrap.min.css set `[hidden] { display: none !important; }` so we also need the `!important` here to be able to override the default hidden behavior on the sphinx rendered scikit-learn.org. See: https://github.com/scikit-learn/scikit-learn/issues/21755 */display: inline-block !important;position: relative;}#sk-container-id-3 div.sk-text-repr-fallback {display: none;}</style><div id=\"sk-container-id-3\" class=\"sk-top-container\"><div class=\"sk-text-repr-fallback\"><pre>RandomForestRegressor()</pre><b>In a Jupyter environment, please rerun this cell to show the HTML representation or trust the notebook. <br />On GitHub, the HTML representation is unable to render, please try loading this page with nbviewer.org.</b></div><div class=\"sk-container\" hidden><div class=\"sk-item\"><div class=\"sk-estimator sk-toggleable\"><input class=\"sk-toggleable__control sk-hidden--visually\" id=\"sk-estimator-id-3\" type=\"checkbox\" checked><label for=\"sk-estimator-id-3\" class=\"sk-toggleable__label sk-toggleable__label-arrow\">RandomForestRegressor</label><div class=\"sk-toggleable__content\"><pre>RandomForestRegressor()</pre></div></div></div></div></div>"
      ],
      "text/plain": [
       "RandomForestRegressor()"
      ]
     },
     "execution_count": 35,
     "metadata": {},
     "output_type": "execute_result"
    }
   ],
   "source": [
    "rf.fit(X_train, y_train)"
   ]
  },
  {
   "cell_type": "code",
   "execution_count": 36,
   "metadata": {},
   "outputs": [
    {
     "name": "stdout",
     "output_type": "stream",
     "text": [
      "R2 score on training set :  0.9243368812005699\n",
      "R2 score on test set :  0.45301035320888927\n"
     ]
    }
   ],
   "source": [
    "# Print R^2 scores\n",
    "print(\"R2 score on training set : \", rf.score(X_train, y_train))\n",
    "print(\"R2 score on test set : \", rf.score(X_test, y_test))"
   ]
  },
  {
   "cell_type": "code",
   "execution_count": null,
   "metadata": {},
   "outputs": [],
   "source": [
    "#R2 score on training set :  0.9243368812005699\n",
    "#R2 score on test set :  0.45301035320888927"
   ]
  },
  {
   "cell_type": "markdown",
   "metadata": {},
   "source": []
  },
  {
   "cell_type": "code",
   "execution_count": 43,
   "metadata": {},
   "outputs": [
    {
     "data": {
      "text/plain": [
       "['/Users/wenhajindomeni/Desktop/JEDHA/FULLSTACK/FINAL_PROJECT/Medical_deserts/RF.pkl']"
      ]
     },
     "execution_count": 43,
     "metadata": {},
     "output_type": "execute_result"
    }
   ],
   "source": [
    "import joblib\n",
    "joblib.dump(rf, \"/Users/wenhajindomeni/Desktop/JEDHA/FULLSTACK/FINAL_PROJECT/Medical_deserts/RF.pkl\")\n",
    "#joblib.load(\"/Users/wenhajindomeni/Desktop/JEDHA/FULLSTACK/FINAL_PROJECT/Medical_deserts/RF.pkl\")"
   ]
  },
  {
   "cell_type": "code",
   "execution_count": 38,
   "metadata": {},
   "outputs": [
    {
     "name": "stdout",
     "output_type": "stream",
     "text": [
      "Grid search...\n",
      "Fitting 3 folds for each of 81 candidates, totalling 243 fits\n",
      "[CV] END max_depth=10, min_samples_leaf=1, min_samples_split=2, n_estimators=80; total time=  35.0s\n",
      "[CV] END max_depth=10, min_samples_leaf=1, min_samples_split=2, n_estimators=80; total time=  35.7s\n",
      "[CV] END max_depth=10, min_samples_leaf=1, min_samples_split=2, n_estimators=80; total time=  35.5s\n",
      "[CV] END max_depth=10, min_samples_leaf=1, min_samples_split=2, n_estimators=100; total time=  42.1s\n",
      "[CV] END max_depth=10, min_samples_leaf=1, min_samples_split=2, n_estimators=100; total time=  43.6s\n",
      "[CV] END max_depth=10, min_samples_leaf=1, min_samples_split=2, n_estimators=100; total time=  42.5s\n",
      "[CV] END max_depth=10, min_samples_leaf=1, min_samples_split=2, n_estimators=120; total time=  51.1s\n",
      "[CV] END max_depth=10, min_samples_leaf=1, min_samples_split=2, n_estimators=120; total time=  51.0s\n",
      "[CV] END max_depth=10, min_samples_leaf=1, min_samples_split=2, n_estimators=120; total time=  50.8s\n",
      "[CV] END max_depth=10, min_samples_leaf=1, min_samples_split=4, n_estimators=80; total time=  34.2s\n",
      "[CV] END max_depth=10, min_samples_leaf=1, min_samples_split=4, n_estimators=80; total time=  34.0s\n",
      "[CV] END max_depth=10, min_samples_leaf=1, min_samples_split=4, n_estimators=80; total time=  33.9s\n",
      "[CV] END max_depth=10, min_samples_leaf=1, min_samples_split=4, n_estimators=100; total time=  42.6s\n",
      "[CV] END max_depth=10, min_samples_leaf=1, min_samples_split=4, n_estimators=100; total time=  43.2s\n",
      "[CV] END max_depth=10, min_samples_leaf=1, min_samples_split=4, n_estimators=100; total time=  42.5s\n",
      "[CV] END max_depth=10, min_samples_leaf=1, min_samples_split=4, n_estimators=120; total time=  51.2s\n",
      "[CV] END max_depth=10, min_samples_leaf=1, min_samples_split=4, n_estimators=120; total time=  50.6s\n",
      "[CV] END max_depth=10, min_samples_leaf=1, min_samples_split=4, n_estimators=120; total time=  50.6s\n",
      "[CV] END max_depth=10, min_samples_leaf=1, min_samples_split=8, n_estimators=80; total time=  33.9s\n",
      "[CV] END max_depth=10, min_samples_leaf=1, min_samples_split=8, n_estimators=80; total time=  33.8s\n",
      "[CV] END max_depth=10, min_samples_leaf=1, min_samples_split=8, n_estimators=80; total time=  33.6s\n",
      "[CV] END max_depth=10, min_samples_leaf=1, min_samples_split=8, n_estimators=100; total time=  42.1s\n",
      "[CV] END max_depth=10, min_samples_leaf=1, min_samples_split=8, n_estimators=100; total time=  42.2s\n",
      "[CV] END max_depth=10, min_samples_leaf=1, min_samples_split=8, n_estimators=100; total time=  41.7s\n",
      "[CV] END max_depth=10, min_samples_leaf=1, min_samples_split=8, n_estimators=120; total time=  50.3s\n",
      "[CV] END max_depth=10, min_samples_leaf=1, min_samples_split=8, n_estimators=120; total time=  50.5s\n",
      "[CV] END max_depth=10, min_samples_leaf=1, min_samples_split=8, n_estimators=120; total time=  50.4s\n",
      "[CV] END max_depth=10, min_samples_leaf=2, min_samples_split=2, n_estimators=80; total time=  33.7s\n",
      "[CV] END max_depth=10, min_samples_leaf=2, min_samples_split=2, n_estimators=80; total time=  33.8s\n",
      "[CV] END max_depth=10, min_samples_leaf=2, min_samples_split=2, n_estimators=80; total time=  33.5s\n",
      "[CV] END max_depth=10, min_samples_leaf=2, min_samples_split=2, n_estimators=100; total time=  42.0s\n",
      "[CV] END max_depth=10, min_samples_leaf=2, min_samples_split=2, n_estimators=100; total time=  41.9s\n",
      "[CV] END max_depth=10, min_samples_leaf=2, min_samples_split=2, n_estimators=100; total time=  41.3s\n",
      "[CV] END max_depth=10, min_samples_leaf=2, min_samples_split=2, n_estimators=120; total time=  49.1s\n",
      "[CV] END max_depth=10, min_samples_leaf=2, min_samples_split=2, n_estimators=120; total time=  48.7s\n",
      "[CV] END max_depth=10, min_samples_leaf=2, min_samples_split=2, n_estimators=120; total time=  48.5s\n",
      "[CV] END max_depth=10, min_samples_leaf=2, min_samples_split=4, n_estimators=80; total time=  32.9s\n",
      "[CV] END max_depth=10, min_samples_leaf=2, min_samples_split=4, n_estimators=80; total time=  32.6s\n",
      "[CV] END max_depth=10, min_samples_leaf=2, min_samples_split=4, n_estimators=80; total time=  32.6s\n",
      "[CV] END max_depth=10, min_samples_leaf=2, min_samples_split=4, n_estimators=100; total time=  40.6s\n",
      "[CV] END max_depth=10, min_samples_leaf=2, min_samples_split=4, n_estimators=100; total time=  40.5s\n",
      "[CV] END max_depth=10, min_samples_leaf=2, min_samples_split=4, n_estimators=100; total time=  40.2s\n",
      "[CV] END max_depth=10, min_samples_leaf=2, min_samples_split=4, n_estimators=120; total time=  49.5s\n",
      "[CV] END max_depth=10, min_samples_leaf=2, min_samples_split=4, n_estimators=120; total time=  49.1s\n",
      "[CV] END max_depth=10, min_samples_leaf=2, min_samples_split=4, n_estimators=120; total time=  49.2s\n",
      "[CV] END max_depth=10, min_samples_leaf=2, min_samples_split=8, n_estimators=80; total time=  33.1s\n",
      "[CV] END max_depth=10, min_samples_leaf=2, min_samples_split=8, n_estimators=80; total time=  33.1s\n",
      "[CV] END max_depth=10, min_samples_leaf=2, min_samples_split=8, n_estimators=80; total time=  32.6s\n",
      "[CV] END max_depth=10, min_samples_leaf=2, min_samples_split=8, n_estimators=100; total time=  40.9s\n",
      "[CV] END max_depth=10, min_samples_leaf=2, min_samples_split=8, n_estimators=100; total time=  41.0s\n",
      "[CV] END max_depth=10, min_samples_leaf=2, min_samples_split=8, n_estimators=100; total time=  40.7s\n",
      "[CV] END max_depth=10, min_samples_leaf=2, min_samples_split=8, n_estimators=120; total time=  48.8s\n",
      "[CV] END max_depth=10, min_samples_leaf=2, min_samples_split=8, n_estimators=120; total time=  48.5s\n",
      "[CV] END max_depth=10, min_samples_leaf=2, min_samples_split=8, n_estimators=120; total time=  48.2s\n",
      "[CV] END max_depth=10, min_samples_leaf=4, min_samples_split=2, n_estimators=80; total time=  32.2s\n",
      "[CV] END max_depth=10, min_samples_leaf=4, min_samples_split=2, n_estimators=80; total time=  32.5s\n",
      "[CV] END max_depth=10, min_samples_leaf=4, min_samples_split=2, n_estimators=80; total time=  32.5s\n",
      "[CV] END max_depth=10, min_samples_leaf=4, min_samples_split=2, n_estimators=100; total time=  40.7s\n",
      "[CV] END max_depth=10, min_samples_leaf=4, min_samples_split=2, n_estimators=100; total time=  40.7s\n",
      "[CV] END max_depth=10, min_samples_leaf=4, min_samples_split=2, n_estimators=100; total time=  40.3s\n",
      "[CV] END max_depth=10, min_samples_leaf=4, min_samples_split=2, n_estimators=120; total time=  48.6s\n",
      "[CV] END max_depth=10, min_samples_leaf=4, min_samples_split=2, n_estimators=120; total time=  48.4s\n",
      "[CV] END max_depth=10, min_samples_leaf=4, min_samples_split=2, n_estimators=120; total time=  49.4s\n",
      "[CV] END max_depth=10, min_samples_leaf=4, min_samples_split=4, n_estimators=80; total time=  32.5s\n",
      "[CV] END max_depth=10, min_samples_leaf=4, min_samples_split=4, n_estimators=80; total time=  32.5s\n",
      "[CV] END max_depth=10, min_samples_leaf=4, min_samples_split=4, n_estimators=80; total time=  32.5s\n",
      "[CV] END max_depth=10, min_samples_leaf=4, min_samples_split=4, n_estimators=100; total time=  40.5s\n",
      "[CV] END max_depth=10, min_samples_leaf=4, min_samples_split=4, n_estimators=100; total time=  40.4s\n",
      "[CV] END max_depth=10, min_samples_leaf=4, min_samples_split=4, n_estimators=100; total time=  40.5s\n",
      "[CV] END max_depth=10, min_samples_leaf=4, min_samples_split=4, n_estimators=120; total time=  48.7s\n",
      "[CV] END max_depth=10, min_samples_leaf=4, min_samples_split=4, n_estimators=120; total time=  48.6s\n",
      "[CV] END max_depth=10, min_samples_leaf=4, min_samples_split=4, n_estimators=120; total time=  48.4s\n",
      "[CV] END max_depth=10, min_samples_leaf=4, min_samples_split=8, n_estimators=80; total time=  32.3s\n",
      "[CV] END max_depth=10, min_samples_leaf=4, min_samples_split=8, n_estimators=80; total time=  32.1s\n",
      "[CV] END max_depth=10, min_samples_leaf=4, min_samples_split=8, n_estimators=80; total time=  32.0s\n",
      "[CV] END max_depth=10, min_samples_leaf=4, min_samples_split=8, n_estimators=100; total time=  40.1s\n",
      "[CV] END max_depth=10, min_samples_leaf=4, min_samples_split=8, n_estimators=100; total time=  40.3s\n",
      "[CV] END max_depth=10, min_samples_leaf=4, min_samples_split=8, n_estimators=100; total time=  40.5s\n",
      "[CV] END max_depth=10, min_samples_leaf=4, min_samples_split=8, n_estimators=120; total time=  48.5s\n",
      "[CV] END max_depth=10, min_samples_leaf=4, min_samples_split=8, n_estimators=120; total time=  48.4s\n",
      "[CV] END max_depth=10, min_samples_leaf=4, min_samples_split=8, n_estimators=120; total time=  48.8s\n",
      "[CV] END max_depth=12, min_samples_leaf=1, min_samples_split=2, n_estimators=80; total time=  40.3s\n",
      "[CV] END max_depth=12, min_samples_leaf=1, min_samples_split=2, n_estimators=80; total time=  39.7s\n",
      "[CV] END max_depth=12, min_samples_leaf=1, min_samples_split=2, n_estimators=80; total time=  39.5s\n",
      "[CV] END max_depth=12, min_samples_leaf=1, min_samples_split=2, n_estimators=100; total time=  50.6s\n",
      "[CV] END max_depth=12, min_samples_leaf=1, min_samples_split=2, n_estimators=100; total time=  50.2s\n",
      "[CV] END max_depth=12, min_samples_leaf=1, min_samples_split=2, n_estimators=100; total time=  49.6s\n",
      "[CV] END max_depth=12, min_samples_leaf=1, min_samples_split=2, n_estimators=120; total time=  60.0s\n",
      "[CV] END max_depth=12, min_samples_leaf=1, min_samples_split=2, n_estimators=120; total time=  59.5s\n",
      "[CV] END max_depth=12, min_samples_leaf=1, min_samples_split=2, n_estimators=120; total time=  59.4s\n",
      "[CV] END max_depth=12, min_samples_leaf=1, min_samples_split=4, n_estimators=80; total time=  39.3s\n",
      "[CV] END max_depth=12, min_samples_leaf=1, min_samples_split=4, n_estimators=80; total time=  39.2s\n",
      "[CV] END max_depth=12, min_samples_leaf=1, min_samples_split=4, n_estimators=80; total time=  39.1s\n",
      "[CV] END max_depth=12, min_samples_leaf=1, min_samples_split=4, n_estimators=100; total time=  49.5s\n",
      "[CV] END max_depth=12, min_samples_leaf=1, min_samples_split=4, n_estimators=100; total time=  49.9s\n",
      "[CV] END max_depth=12, min_samples_leaf=1, min_samples_split=4, n_estimators=100; total time=  49.0s\n",
      "[CV] END max_depth=12, min_samples_leaf=1, min_samples_split=4, n_estimators=120; total time=  59.4s\n",
      "[CV] END max_depth=12, min_samples_leaf=1, min_samples_split=4, n_estimators=120; total time= 1.0min\n",
      "[CV] END max_depth=12, min_samples_leaf=1, min_samples_split=4, n_estimators=120; total time= 1.0min\n",
      "[CV] END max_depth=12, min_samples_leaf=1, min_samples_split=8, n_estimators=80; total time=  39.0s\n",
      "[CV] END max_depth=12, min_samples_leaf=1, min_samples_split=8, n_estimators=80; total time=  39.6s\n",
      "[CV] END max_depth=12, min_samples_leaf=1, min_samples_split=8, n_estimators=80; total time=  39.0s\n",
      "[CV] END max_depth=12, min_samples_leaf=1, min_samples_split=8, n_estimators=100; total time=  49.2s\n",
      "[CV] END max_depth=12, min_samples_leaf=1, min_samples_split=8, n_estimators=100; total time=  49.0s\n",
      "[CV] END max_depth=12, min_samples_leaf=1, min_samples_split=8, n_estimators=100; total time=  48.4s\n",
      "[CV] END max_depth=12, min_samples_leaf=1, min_samples_split=8, n_estimators=120; total time=  58.5s\n",
      "[CV] END max_depth=12, min_samples_leaf=1, min_samples_split=8, n_estimators=120; total time=  58.8s\n",
      "[CV] END max_depth=12, min_samples_leaf=1, min_samples_split=8, n_estimators=120; total time=  58.4s\n",
      "[CV] END max_depth=12, min_samples_leaf=2, min_samples_split=2, n_estimators=80; total time=  39.4s\n",
      "[CV] END max_depth=12, min_samples_leaf=2, min_samples_split=2, n_estimators=80; total time=  39.4s\n",
      "[CV] END max_depth=12, min_samples_leaf=2, min_samples_split=2, n_estimators=80; total time=  39.2s\n",
      "[CV] END max_depth=12, min_samples_leaf=2, min_samples_split=2, n_estimators=100; total time=  49.0s\n",
      "[CV] END max_depth=12, min_samples_leaf=2, min_samples_split=2, n_estimators=100; total time=  49.0s\n",
      "[CV] END max_depth=12, min_samples_leaf=2, min_samples_split=2, n_estimators=100; total time=  49.2s\n",
      "[CV] END max_depth=12, min_samples_leaf=2, min_samples_split=2, n_estimators=120; total time=  59.0s\n",
      "[CV] END max_depth=12, min_samples_leaf=2, min_samples_split=2, n_estimators=120; total time=  59.1s\n",
      "[CV] END max_depth=12, min_samples_leaf=2, min_samples_split=2, n_estimators=120; total time=  58.7s\n",
      "[CV] END max_depth=12, min_samples_leaf=2, min_samples_split=4, n_estimators=80; total time=  39.3s\n",
      "[CV] END max_depth=12, min_samples_leaf=2, min_samples_split=4, n_estimators=80; total time=  39.4s\n",
      "[CV] END max_depth=12, min_samples_leaf=2, min_samples_split=4, n_estimators=80; total time=  39.1s\n",
      "[CV] END max_depth=12, min_samples_leaf=2, min_samples_split=4, n_estimators=100; total time=  48.9s\n",
      "[CV] END max_depth=12, min_samples_leaf=2, min_samples_split=4, n_estimators=100; total time=  49.2s\n",
      "[CV] END max_depth=12, min_samples_leaf=2, min_samples_split=4, n_estimators=100; total time=  49.1s\n",
      "[CV] END max_depth=12, min_samples_leaf=2, min_samples_split=4, n_estimators=120; total time=  59.0s\n",
      "[CV] END max_depth=12, min_samples_leaf=2, min_samples_split=4, n_estimators=120; total time=  58.5s\n",
      "[CV] END max_depth=12, min_samples_leaf=2, min_samples_split=4, n_estimators=120; total time=  58.5s\n",
      "[CV] END max_depth=12, min_samples_leaf=2, min_samples_split=8, n_estimators=80; total time=  40.7s\n",
      "[CV] END max_depth=12, min_samples_leaf=2, min_samples_split=8, n_estimators=80; total time=  40.5s\n",
      "[CV] END max_depth=12, min_samples_leaf=2, min_samples_split=8, n_estimators=80; total time=  41.3s\n",
      "[CV] END max_depth=12, min_samples_leaf=2, min_samples_split=8, n_estimators=100; total time=  53.9s\n",
      "[CV] END max_depth=12, min_samples_leaf=2, min_samples_split=8, n_estimators=100; total time=  53.4s\n",
      "[CV] END max_depth=12, min_samples_leaf=2, min_samples_split=8, n_estimators=100; total time=  54.6s\n",
      "[CV] END max_depth=12, min_samples_leaf=2, min_samples_split=8, n_estimators=120; total time= 1.0min\n",
      "[CV] END max_depth=12, min_samples_leaf=2, min_samples_split=8, n_estimators=120; total time= 1.0min\n",
      "[CV] END max_depth=12, min_samples_leaf=2, min_samples_split=8, n_estimators=120; total time= 1.1min\n",
      "[CV] END max_depth=12, min_samples_leaf=4, min_samples_split=2, n_estimators=80; total time=  41.8s\n",
      "[CV] END max_depth=12, min_samples_leaf=4, min_samples_split=2, n_estimators=80; total time=  41.6s\n",
      "[CV] END max_depth=12, min_samples_leaf=4, min_samples_split=2, n_estimators=80; total time=  39.1s\n",
      "[CV] END max_depth=12, min_samples_leaf=4, min_samples_split=2, n_estimators=100; total time=  48.9s\n",
      "[CV] END max_depth=12, min_samples_leaf=4, min_samples_split=2, n_estimators=100; total time=  47.8s\n",
      "[CV] END max_depth=12, min_samples_leaf=4, min_samples_split=2, n_estimators=100; total time=  49.0s\n",
      "[CV] END max_depth=12, min_samples_leaf=4, min_samples_split=2, n_estimators=120; total time= 1.0min\n",
      "[CV] END max_depth=12, min_samples_leaf=4, min_samples_split=2, n_estimators=120; total time=  59.2s\n",
      "[CV] END max_depth=12, min_samples_leaf=4, min_samples_split=2, n_estimators=120; total time= 1.0min\n",
      "[CV] END max_depth=12, min_samples_leaf=4, min_samples_split=4, n_estimators=80; total time=  37.9s\n",
      "[CV] END max_depth=12, min_samples_leaf=4, min_samples_split=4, n_estimators=80; total time=  41.7s\n",
      "[CV] END max_depth=12, min_samples_leaf=4, min_samples_split=4, n_estimators=80; total time=  40.8s\n",
      "[CV] END max_depth=12, min_samples_leaf=4, min_samples_split=4, n_estimators=100; total time=  53.5s\n",
      "[CV] END max_depth=12, min_samples_leaf=4, min_samples_split=4, n_estimators=100; total time=  52.8s\n",
      "[CV] END max_depth=12, min_samples_leaf=4, min_samples_split=4, n_estimators=100; total time=  52.8s\n",
      "[CV] END max_depth=12, min_samples_leaf=4, min_samples_split=4, n_estimators=120; total time= 1.0min\n",
      "[CV] END max_depth=12, min_samples_leaf=4, min_samples_split=4, n_estimators=120; total time= 1.0min\n",
      "[CV] END max_depth=12, min_samples_leaf=4, min_samples_split=4, n_estimators=120; total time= 1.0min\n",
      "[CV] END max_depth=12, min_samples_leaf=4, min_samples_split=8, n_estimators=80; total time=  42.4s\n",
      "[CV] END max_depth=12, min_samples_leaf=4, min_samples_split=8, n_estimators=80; total time=  41.3s\n",
      "[CV] END max_depth=12, min_samples_leaf=4, min_samples_split=8, n_estimators=80; total time=  40.1s\n",
      "[CV] END max_depth=12, min_samples_leaf=4, min_samples_split=8, n_estimators=100; total time=  53.9s\n",
      "[CV] END max_depth=12, min_samples_leaf=4, min_samples_split=8, n_estimators=100; total time=  54.9s\n",
      "[CV] END max_depth=12, min_samples_leaf=4, min_samples_split=8, n_estimators=100; total time=  51.5s\n",
      "[CV] END max_depth=12, min_samples_leaf=4, min_samples_split=8, n_estimators=120; total time= 1.0min\n",
      "[CV] END max_depth=12, min_samples_leaf=4, min_samples_split=8, n_estimators=120; total time= 1.0min\n",
      "[CV] END max_depth=12, min_samples_leaf=4, min_samples_split=8, n_estimators=120; total time= 1.2min\n",
      "[CV] END max_depth=14, min_samples_leaf=1, min_samples_split=2, n_estimators=80; total time=  52.7s\n",
      "[CV] END max_depth=14, min_samples_leaf=1, min_samples_split=2, n_estimators=80; total time=  50.5s\n",
      "[CV] END max_depth=14, min_samples_leaf=1, min_samples_split=2, n_estimators=80; total time=  51.9s\n",
      "[CV] END max_depth=14, min_samples_leaf=1, min_samples_split=2, n_estimators=100; total time= 1.1min\n",
      "[CV] END max_depth=14, min_samples_leaf=1, min_samples_split=2, n_estimators=100; total time= 1.1min\n",
      "[CV] END max_depth=14, min_samples_leaf=1, min_samples_split=2, n_estimators=100; total time= 1.0min\n",
      "[CV] END max_depth=14, min_samples_leaf=1, min_samples_split=2, n_estimators=120; total time= 1.3min\n",
      "[CV] END max_depth=14, min_samples_leaf=1, min_samples_split=2, n_estimators=120; total time= 1.2min\n",
      "[CV] END max_depth=14, min_samples_leaf=1, min_samples_split=2, n_estimators=120; total time= 1.1min\n",
      "[CV] END max_depth=14, min_samples_leaf=1, min_samples_split=4, n_estimators=80; total time=  47.5s\n",
      "[CV] END max_depth=14, min_samples_leaf=1, min_samples_split=4, n_estimators=80; total time=  48.2s\n",
      "[CV] END max_depth=14, min_samples_leaf=1, min_samples_split=4, n_estimators=80; total time=  47.0s\n",
      "[CV] END max_depth=14, min_samples_leaf=1, min_samples_split=4, n_estimators=100; total time=  59.9s\n",
      "[CV] END max_depth=14, min_samples_leaf=1, min_samples_split=4, n_estimators=100; total time=  59.1s\n",
      "[CV] END max_depth=14, min_samples_leaf=1, min_samples_split=4, n_estimators=100; total time=  58.3s\n",
      "[CV] END max_depth=14, min_samples_leaf=1, min_samples_split=4, n_estimators=120; total time= 1.2min\n",
      "[CV] END max_depth=14, min_samples_leaf=1, min_samples_split=4, n_estimators=120; total time= 1.2min\n",
      "[CV] END max_depth=14, min_samples_leaf=1, min_samples_split=4, n_estimators=120; total time= 1.2min\n",
      "[CV] END max_depth=14, min_samples_leaf=1, min_samples_split=8, n_estimators=80; total time=  46.2s\n",
      "[CV] END max_depth=14, min_samples_leaf=1, min_samples_split=8, n_estimators=80; total time=  48.0s\n",
      "[CV] END max_depth=14, min_samples_leaf=1, min_samples_split=8, n_estimators=80; total time=  45.7s\n",
      "[CV] END max_depth=14, min_samples_leaf=1, min_samples_split=8, n_estimators=100; total time=  57.9s\n",
      "[CV] END max_depth=14, min_samples_leaf=1, min_samples_split=8, n_estimators=100; total time= 1.0min\n",
      "[CV] END max_depth=14, min_samples_leaf=1, min_samples_split=8, n_estimators=100; total time=  58.8s\n",
      "[CV] END max_depth=14, min_samples_leaf=1, min_samples_split=8, n_estimators=120; total time= 1.2min\n",
      "[CV] END max_depth=14, min_samples_leaf=1, min_samples_split=8, n_estimators=120; total time= 1.2min\n",
      "[CV] END max_depth=14, min_samples_leaf=1, min_samples_split=8, n_estimators=120; total time= 1.2min\n",
      "[CV] END max_depth=14, min_samples_leaf=2, min_samples_split=2, n_estimators=80; total time=  49.4s\n",
      "[CV] END max_depth=14, min_samples_leaf=2, min_samples_split=2, n_estimators=80; total time=  49.5s\n",
      "[CV] END max_depth=14, min_samples_leaf=2, min_samples_split=2, n_estimators=80; total time=  48.8s\n",
      "[CV] END max_depth=14, min_samples_leaf=2, min_samples_split=2, n_estimators=100; total time= 1.1min\n",
      "[CV] END max_depth=14, min_samples_leaf=2, min_samples_split=2, n_estimators=100; total time= 1.0min\n",
      "[CV] END max_depth=14, min_samples_leaf=2, min_samples_split=2, n_estimators=100; total time= 1.0min\n",
      "[CV] END max_depth=14, min_samples_leaf=2, min_samples_split=2, n_estimators=120; total time= 1.2min\n",
      "[CV] END max_depth=14, min_samples_leaf=2, min_samples_split=2, n_estimators=120; total time= 1.2min\n",
      "[CV] END max_depth=14, min_samples_leaf=2, min_samples_split=2, n_estimators=120; total time= 1.2min\n",
      "[CV] END max_depth=14, min_samples_leaf=2, min_samples_split=4, n_estimators=80; total time=  49.5s\n",
      "[CV] END max_depth=14, min_samples_leaf=2, min_samples_split=4, n_estimators=80; total time=  48.4s\n",
      "[CV] END max_depth=14, min_samples_leaf=2, min_samples_split=4, n_estimators=80; total time=  48.1s\n",
      "[CV] END max_depth=14, min_samples_leaf=2, min_samples_split=4, n_estimators=100; total time= 1.0min\n",
      "[CV] END max_depth=14, min_samples_leaf=2, min_samples_split=4, n_estimators=100; total time=  59.6s\n",
      "[CV] END max_depth=14, min_samples_leaf=2, min_samples_split=4, n_estimators=100; total time= 1.1min\n",
      "[CV] END max_depth=14, min_samples_leaf=2, min_samples_split=4, n_estimators=120; total time= 1.3min\n",
      "[CV] END max_depth=14, min_samples_leaf=2, min_samples_split=4, n_estimators=120; total time= 1.3min\n",
      "[CV] END max_depth=14, min_samples_leaf=2, min_samples_split=4, n_estimators=120; total time= 1.3min\n",
      "[CV] END max_depth=14, min_samples_leaf=2, min_samples_split=8, n_estimators=80; total time=  49.1s\n",
      "[CV] END max_depth=14, min_samples_leaf=2, min_samples_split=8, n_estimators=80; total time=  46.5s\n",
      "[CV] END max_depth=14, min_samples_leaf=2, min_samples_split=8, n_estimators=80; total time=  48.1s\n",
      "[CV] END max_depth=14, min_samples_leaf=2, min_samples_split=8, n_estimators=100; total time=  59.6s\n",
      "[CV] END max_depth=14, min_samples_leaf=2, min_samples_split=8, n_estimators=100; total time=  58.1s\n",
      "[CV] END max_depth=14, min_samples_leaf=2, min_samples_split=8, n_estimators=100; total time=  59.0s\n",
      "[CV] END max_depth=14, min_samples_leaf=2, min_samples_split=8, n_estimators=120; total time= 1.2min\n",
      "[CV] END max_depth=14, min_samples_leaf=2, min_samples_split=8, n_estimators=120; total time= 1.2min\n",
      "[CV] END max_depth=14, min_samples_leaf=2, min_samples_split=8, n_estimators=120; total time= 1.2min\n",
      "[CV] END max_depth=14, min_samples_leaf=4, min_samples_split=2, n_estimators=80; total time=  46.7s\n",
      "[CV] END max_depth=14, min_samples_leaf=4, min_samples_split=2, n_estimators=80; total time=  47.0s\n",
      "[CV] END max_depth=14, min_samples_leaf=4, min_samples_split=2, n_estimators=80; total time=  46.6s\n",
      "[CV] END max_depth=14, min_samples_leaf=4, min_samples_split=2, n_estimators=100; total time=  59.0s\n",
      "[CV] END max_depth=14, min_samples_leaf=4, min_samples_split=2, n_estimators=100; total time= 1.0min\n",
      "[CV] END max_depth=14, min_samples_leaf=4, min_samples_split=2, n_estimators=100; total time=  58.3s\n",
      "[CV] END max_depth=14, min_samples_leaf=4, min_samples_split=2, n_estimators=120; total time= 1.1min\n",
      "[CV] END max_depth=14, min_samples_leaf=4, min_samples_split=2, n_estimators=120; total time= 1.2min\n",
      "[CV] END max_depth=14, min_samples_leaf=4, min_samples_split=2, n_estimators=120; total time= 1.2min\n",
      "[CV] END max_depth=14, min_samples_leaf=4, min_samples_split=4, n_estimators=80; total time=  48.4s\n",
      "[CV] END max_depth=14, min_samples_leaf=4, min_samples_split=4, n_estimators=80; total time=  47.5s\n",
      "[CV] END max_depth=14, min_samples_leaf=4, min_samples_split=4, n_estimators=80; total time=  48.6s\n",
      "[CV] END max_depth=14, min_samples_leaf=4, min_samples_split=4, n_estimators=100; total time=  59.8s\n",
      "[CV] END max_depth=14, min_samples_leaf=4, min_samples_split=4, n_estimators=100; total time= 1.0min\n",
      "[CV] END max_depth=14, min_samples_leaf=4, min_samples_split=4, n_estimators=100; total time=  59.4s\n",
      "[CV] END max_depth=14, min_samples_leaf=4, min_samples_split=4, n_estimators=120; total time= 1.2min\n",
      "[CV] END max_depth=14, min_samples_leaf=4, min_samples_split=4, n_estimators=120; total time= 1.2min\n",
      "[CV] END max_depth=14, min_samples_leaf=4, min_samples_split=4, n_estimators=120; total time= 1.2min\n",
      "[CV] END max_depth=14, min_samples_leaf=4, min_samples_split=8, n_estimators=80; total time=  45.4s\n",
      "[CV] END max_depth=14, min_samples_leaf=4, min_samples_split=8, n_estimators=80; total time=  46.3s\n",
      "[CV] END max_depth=14, min_samples_leaf=4, min_samples_split=8, n_estimators=80; total time=  46.1s\n",
      "[CV] END max_depth=14, min_samples_leaf=4, min_samples_split=8, n_estimators=100; total time=  58.9s\n",
      "[CV] END max_depth=14, min_samples_leaf=4, min_samples_split=8, n_estimators=100; total time=  58.6s\n",
      "[CV] END max_depth=14, min_samples_leaf=4, min_samples_split=8, n_estimators=100; total time= 1.0min\n",
      "[CV] END max_depth=14, min_samples_leaf=4, min_samples_split=8, n_estimators=120; total time= 1.2min\n",
      "[CV] END max_depth=14, min_samples_leaf=4, min_samples_split=8, n_estimators=120; total time= 1.2min\n",
      "[CV] END max_depth=14, min_samples_leaf=4, min_samples_split=8, n_estimators=120; total time= 1.2min\n",
      "...Done.\n",
      "Best hyperparameters :  {'max_depth': 14, 'min_samples_leaf': 2, 'min_samples_split': 2, 'n_estimators': 80}\n",
      "Best validation accuracy :  0.3914783302489721\n"
     ]
    }
   ],
   "source": [
    "# Perform grid search\n",
    "rf = RandomForestRegressor()\n",
    "\n",
    "print(\"Grid search...\")\n",
    "\n",
    "# Grid of values to be tested\n",
    "params = {\n",
    "    'max_depth': [10, 12, 14],\n",
    "    'min_samples_split': [2, 4, 8],\n",
    "    'n_estimators': [80, 100, 120],\n",
    "    'min_samples_leaf': [1, 2, 4]\n",
    "    }\n",
    "\n",
    "gridsearch = GridSearchCV(rf, param_grid = params, cv = 3, verbose = 2)\n",
    "gridsearch.fit(X_train, y_train)\n",
    "\n",
    "print(\"...Done.\")\n",
    "print(\"Best hyperparameters : \", gridsearch.best_params_)\n",
    "print(\"Best validation accuracy : \", gridsearch.best_score_)"
   ]
  },
  {
   "cell_type": "code",
   "execution_count": null,
   "metadata": {},
   "outputs": [],
   "source": [
    "#Best hyperparameters :  {'max_depth': 14, 'min_samples_leaf': 2, 'min_samples_split': 2, 'n_estimators': 80}\n",
    "#Best validation accuracy :  0.3914783302489721"
   ]
  },
  {
   "cell_type": "code",
   "execution_count": 39,
   "metadata": {},
   "outputs": [
    {
     "name": "stdout",
     "output_type": "stream",
     "text": [
      "R2 score on training set :  0.6867990401991656\n",
      "R2 score on test set :  0.40804501003395977\n"
     ]
    }
   ],
   "source": [
    "print(\"R2 score on training set : \", gridsearch.score(X_train, y_train))\n",
    "print(\"R2 score on test set : \", gridsearch.score(X_test, y_test))"
   ]
  },
  {
   "cell_type": "code",
   "execution_count": null,
   "metadata": {},
   "outputs": [],
   "source": [
    "# \n",
    "#R2 score on training set :  0.6867990401991656\n",
    "#R2 score on test set :  0.40804501003395977"
   ]
  },
  {
   "cell_type": "code",
   "execution_count": 42,
   "metadata": {},
   "outputs": [
    {
     "data": {
      "text/plain": [
       "['/Users/wenhajindomeni/Desktop/JEDHA/FULLSTACK/FINAL_PROJECT/Medical_deserts/RFGS.pkl']"
      ]
     },
     "execution_count": 42,
     "metadata": {},
     "output_type": "execute_result"
    }
   ],
   "source": [
    "import joblib\n",
    "joblib.dump(gridsearch, \"/Users/wenhajindomeni/Desktop/JEDHA/FULLSTACK/FINAL_PROJECT/Medical_deserts/RFGS.pkl\")\n",
    "#joblib.load(\"/Users/wenhajindomeni/Desktop/JEDHA/FULLSTACK/FINAL_PROJECT/Medical_deserts/RFGS.pkl\")"
   ]
  },
  {
   "cell_type": "code",
   "execution_count": 47,
   "metadata": {},
   "outputs": [
    {
     "name": "stdout",
     "output_type": "stream",
     "text": [
      "Predictions on training set...\n",
      "...Done.\n",
      "[3.49634229 2.54819827 3.28368151 ... 4.21846917 2.98841814 3.61371424]\n",
      "\n",
      "Predictions on test set...\n",
      "...Done.\n",
      "[3.48604217 3.23038568 2.67382039 ... 5.13028786 3.13233631 2.69625144]\n",
      "\n",
      "Mean Absolute Error on training set :  0.5439231476634226\n",
      "\n",
      "Mean Absolute Error on test set :  0.7238389607374052\n",
      "Standard-deviation on test set :  1.2814183580178466\n"
     ]
    }
   ],
   "source": [
    "# Predictions on training set\n",
    "print(\"Predictions on training set...\")\n",
    "Y_train_pred = gridsearch.predict(X_train)\n",
    "print(\"...Done.\")\n",
    "print(Y_train_pred)\n",
    "print()\n",
    "\n",
    "# Predictions on test set\n",
    "print(\"Predictions on test set...\")\n",
    "Y_test_pred = gridsearch.predict(X_test)\n",
    "print(\"...Done.\")\n",
    "print(Y_test_pred)\n",
    "print()\n",
    "\n",
    "# Print MAE\n",
    "print(\"Mean Absolute Error on training set : \", mean_absolute_error(y_train, Y_train_pred))\n",
    "#print(\"Mean APL on training set : \", y_train.mean())\n",
    "print()\n",
    "print(\"Mean Absolute Error on test set : \", mean_absolute_error(y_test, Y_test_pred))\n",
    "#print(\"Mean APL on test set : \", y_test.mean())\n",
    "print(\"Standard-deviation on test set : \", y_test.std())"
   ]
  },
  {
   "cell_type": "markdown",
   "metadata": {},
   "source": [
    "ERROR of 0.72 on the prediction, NOT GOOD MODEL of PREDICTION"
   ]
  },
  {
   "cell_type": "code",
   "execution_count": 50,
   "metadata": {},
   "outputs": [
    {
     "name": "stdout",
     "output_type": "stream",
     "text": [
      "Names of columns corresponding to each coefficient:  ['Dynamique Entrepreneuriale', 'Dynamique Entrepreneuriale Service et Commerce', 'Synergie Médicale COMMUNE', 'Nb Omnipraticiens BV', 'Nb Infirmiers Libéraux BV', 'Nb dentistes Libéraux BV', 'Nb pharmaciens Libéraux BV', 'Densité Médicale BV', 'Score équipement de santé BV', 'Indice Démographique', 'Nb Ménages', 'Nb Résidences Principales', 'Nb propriétaire', 'Nb Logement', 'Nb Résidences Secondaires', 'Nb Log Vacants', 'Nb Occupants Résidence Principale', 'Nb Entreprises Secteur Services', 'Nb Entreprises Secteur Commerce', 'Nb Entreprises Secteur Construction', 'Nb Entreprises Secteur Industrie', 'Nb Création Enteprises', 'Nb Création Industrielles', 'Nb Création Construction', 'Nb Création Commerces', 'Nb Création Services', 'Moyenne Revenus Fiscaux Départementaux', 'Moyenne Revenus Fiscaux Régionaux', 'Dep Moyenne Salaires Horaires', 'Dep Moyenne Salaires Cadre Horaires', 'Dep Moyenne Salaires Prof Intermédiaire Horaires', 'Dep Moyenne Salaires Employé Horaires', 'Dep Moyenne Salaires Ouvrié Horaires', 'Reg Moyenne Salaires Horaires', 'Reg Moyenne Salaires Cadre Horaires', 'Reg Moyenne Salaires Prof Intermédiaire Horaires', 'Reg Moyenne Salaires Employé Horaires', 'Reg Moyenne Salaires Ouvrié Horaires', 'Valeur ajoutée régionale', 'Nb Logement Secondaire et Occasionnel', 'Nb Hotel', 'Capacité Hotel', 'Nb Camping', 'Capacité Camping', 'Taux Propriété', 'Dynamique Démographique INSEE', 'Capacité Fisc', 'Moyenne Revnus fiscaux', 'Nb Education, santé, action sociale', 'Nb Services personnels et domestiques', 'Nb Santé, action sociale', 'Nb Industries des biens intermédiaires', 'Nb de Commerce', 'Nb de Services aux particuliers', 'Nb institution de Education, santé, action sociale, administration', 'PIB Régionnal', 'Score Croissance Entrepreneuriale', 'latitude', 'longitude', 'Population en 2014 (princ)', 'Pop 0-14 ans en 2014 (princ)', 'Pop 15-29 ans en 2014 (princ)', 'Pop 30-44 ans en 2014 (princ)', 'Pop 45-59 ans en 2014 (princ)', 'Pop 60-74 ans en 2014 (princ)', 'Pop 75-89 ans en 2014 (princ)', 'Pop 15 ans ou plus en 2014 (compl)', 'Pop 15 ans ou plus Agriculteurs exploitants en 2014 (compl)', 'Pop 15 ans ou plus Artisans, Comm., Chefs entr. en 2014 (compl)', 'Pop 15 ans ou plus Cadres, Prof. intel. sup. en 2014 (compl)', 'Pop 15 ans ou plus Prof. intermédiaires  en 2014 (compl)', 'Pop 15 ans ou plus Employés en 2014 (compl)', 'Pop 15 ans ou plus Ouvriers en 2014 (compl)', 'Pop 15 ans ou plus Retraités  en 2014 (compl)', 'Pop 15 ans ou plus Autres en 2014 (compl)', 'taux chômage(15-64 ans)', 'SEG Croissance POP_en déclin démographique', 'Urbanité Ruralité_Com < 200 m habts', 'Urbanité Ruralité_Com < 50 m habts', 'Urbanité Ruralité_Com > 200 m habts', 'Urbanité Ruralité_Com rurale < 2 000 m habts', 'Urbanité Ruralité_Com rurale > 2 000 habts', 'Dynamique Démographique BV_2.Accroissement par excédent naturel', 'Dynamique Démographique BV_3.Accroissement par excédent migratoire', 'Dynamique Démographique BV_4.Déclin par déficit naturel et migratoire', 'Dynamique Démographique BV_5.Déclin par déficit naturel', 'Dynamique Démographique BV_6.Déclin par déficit migratoire', 'Dynamique Démographique BV_Grande Ville', 'Environnement Démographique_Bassin Résidentiel en croissance démographique', 'Environnement Démographique_Bassin Résidentiel en déclin démographique', 'Environnement Démographique_Bassin Urbain en croissance démographique', 'Environnement Démographique_Bassin diversifié en croissance démographique', 'Environnement Démographique_Bassins Agroalimentaire en croissance démographique', 'Fidélité_Pop Sédentaire', 'Seg Cap Fiscale_Fiscalité moyenne', 'Seg Cap Fiscale_Fiscalité élevée', 'Seg Dyn Entre_Faible dynamique', 'Seg Dyn Entre_Moyenne dynamique', 'DYN SetC_Dynamique Serv et Com', 'DYN SetC_Faible Dynamique Serv et Com', \"Catégorie commune dans aire d'attraction des villes 2020_Commune d'un pôle secondaire\", \"Catégorie commune dans aire d'attraction des villes 2020_Commune de la couronne\", \"Catégorie commune dans aire d'attraction des villes 2020_Commune hors attraction des pôles\", \"Catégorie commune dans aire d'attraction des villes 2020_Commune-centre\", \"Tranche détaillée d'aire d'attraction des villes 2020_Aire de 10 000 à moins de 20 000 habitants\", \"Tranche détaillée d'aire d'attraction des villes 2020_Aire de 100 000 à moins de 125 000 habitants\", \"Tranche détaillée d'aire d'attraction des villes 2020_Aire de 125 000 à moins de 150 000 habitants\", \"Tranche détaillée d'aire d'attraction des villes 2020_Aire de 150 000 à moins de 200 000 habitants\", \"Tranche détaillée d'aire d'attraction des villes 2020_Aire de 20 000 à moins de 30 000 habitants\", \"Tranche détaillée d'aire d'attraction des villes 2020_Aire de 200 000 à moins de 300 000 habitants\", \"Tranche détaillée d'aire d'attraction des villes 2020_Aire de 30 000 à moins de 50 000 habitants\", \"Tranche détaillée d'aire d'attraction des villes 2020_Aire de 300 000 à moins de 400 000 habitants\", \"Tranche détaillée d'aire d'attraction des villes 2020_Aire de 400 000 à moins de 500 000 habitants\", \"Tranche détaillée d'aire d'attraction des villes 2020_Aire de 50 000 à moins de 75 000 habitants\", \"Tranche détaillée d'aire d'attraction des villes 2020_Aire de 500 000 à moins de 700 000 habitants\", \"Tranche détaillée d'aire d'attraction des villes 2020_Aire de 700 000 à moins de 1 000 000 d’habitants\", \"Tranche détaillée d'aire d'attraction des villes 2020_Aire de 75 000 à moins de 100 000 habitants\", \"Tranche détaillée d'aire d'attraction des villes 2020_Aire de Paris\", \"Tranche détaillée d'aire d'attraction des villes 2020_Aire de moins de 10 000 habitants\", \"Tranche détaillée d'aire d'attraction des villes 2020_Commune hors attraction des villes\", 'Libellé degré de densité_Ceintures urbaines', 'Libellé degré de densité_Centres urbains intermédiaires', 'Libellé degré de densité_Grands centres urbains', 'Libellé degré de densité_Petites villes', 'Libellé degré de densité_Rural à habitat dispersé', 'Libellé degré de densité_Rural à habitat très dispersé']\n"
     ]
    }
   ],
   "source": [
    "column_names = []\n",
    "for name, step, features_list in preprocessor.transformers_: # loop over steps of ColumnTransformer\n",
    "    if name == 'num': # if pipeline is for numeric variables\n",
    "        features = features_list # just get the names of columns to which it has been applied\n",
    "    else: # if pipeline is for categorical variables\n",
    "        features = step.get_feature_names_out() # get output columns names from OneHotEncoder\n",
    "    column_names.extend(features) # concatenate features names\n",
    "        \n",
    "print(\"Names of columns corresponding to each coefficient: \", column_names)"
   ]
  },
  {
   "cell_type": "code",
   "execution_count": 51,
   "metadata": {},
   "outputs": [],
   "source": [
    "# Create a pandas DataFrame\n",
    "feature_importance = pd.DataFrame(index = column_names, data = gridsearch.best_estimator_.feature_importances_, columns=[\"feature_importances\"])\n",
    "feature_importance = feature_importance.sort_values(by = 'feature_importances')"
   ]
  },
  {
   "cell_type": "code",
   "execution_count": 66,
   "metadata": {},
   "outputs": [
    {
     "data": {
      "application/vnd.plotly.v1+json": {
       "config": {
        "plotlyServerURL": "https://plot.ly"
       },
       "data": [
        {
         "alignmentgroup": "True",
         "hovertemplate": "variable=feature_importances<br>value=%{x}<br>index=%{y}<extra></extra>",
         "legendgroup": "feature_importances",
         "marker": {
          "color": "#636efa",
          "pattern": {
           "shape": ""
          }
         },
         "name": "feature_importances",
         "offsetgroup": "feature_importances",
         "orientation": "h",
         "showlegend": true,
         "textposition": "auto",
         "type": "bar",
         "x": [
          0,
          0,
          6.761640367241408e-7,
          0.00002510760896671648,
          0.00003650007687323308,
          0.00003876154703019284,
          0.000047410074289626075,
          0.00009617436892262348,
          0.00012181463806090146,
          0.00014046683090490988,
          0.0001725393649084198,
          0.00020448331342900978,
          0.00023375545080956124,
          0.00024427883864915555,
          0.0002699682262814523,
          0.00039366236945639004,
          0.00041923091544152107,
          0.0004246363519713458,
          0.00043440844127014744,
          0.00045279823118609156,
          0.0004633841171747632,
          0.00046667234784658585,
          0.0004727824713036242,
          0.0004838004224439838,
          0.0004962076969224446,
          0.0005504185304856781,
          0.000563320053800149,
          0.000590758105645206,
          0.0005956436156325472,
          0.0006347219051653977,
          0.0007011549295798185,
          0.0007272452434572824,
          0.0007472067201090859,
          0.0008661225337101989,
          0.0008677312917317722,
          0.0008787741372044215,
          0.0009333546421691711,
          0.0009592685717813743,
          0.0010870432961987326,
          0.0012114346883923364,
          0.0012249986571434969,
          0.0012877587392682893,
          0.001344741510006541,
          0.0013780384947284369,
          0.001406660930659143,
          0.001477704146803917,
          0.0015927237136978336,
          0.0016261815813010416,
          0.00177116753085275,
          0.0020128592828520973,
          0.002112610496484534,
          0.0021271450945504395,
          0.002244374599483898,
          0.002299327928072979,
          0.0027386954119109864,
          0.0027389986457399076,
          0.0028253999518388934,
          0.002863969497037609,
          0.0031804955658568065,
          0.003183127019227374,
          0.0031990950596304767,
          0.0032553442088849014,
          0.003287424656235098,
          0.0033039582281431503,
          0.0034758227069486046,
          0.0037503400439077273,
          0.003875117283475311,
          0.0038900874697061086,
          0.004461606411963138,
          0.004601365532675739,
          0.00460945118844875,
          0.004711488656561997,
          0.0048807459142822,
          0.005294600385670272,
          0.005321944439155429,
          0.0054623618735840694,
          0.005639272421011502,
          0.005851996317951858,
          0.006235049338203693,
          0.006286837980447343,
          0.0064165541686466,
          0.006781079655840931,
          0.006924719922536323,
          0.006950900831573514,
          0.007028807858148039,
          0.007270244568875654,
          0.007449499832711819,
          0.007756061614559663,
          0.008175869562919793,
          0.008611334338901985,
          0.008842555165866874,
          0.009054639694331321,
          0.009141287061899856,
          0.009871448357219294,
          0.009888627567598892,
          0.010035970567759806,
          0.010265721982604063,
          0.0105937073410643,
          0.010632721795440742,
          0.010653670428445053,
          0.010861538758175186,
          0.011148384368896144,
          0.011217105915968233,
          0.011221000140604743,
          0.011837098336758224,
          0.011854571418678706,
          0.012081561444459127,
          0.012493670541944711,
          0.012665037981328692,
          0.012732486269074727,
          0.012840658816887418,
          0.012907767688776023,
          0.013473726285673346,
          0.013810776237236108,
          0.014044151245492433,
          0.014279137189719565,
          0.015684472322074546,
          0.01946382459981353,
          0.02468936297592051,
          0.025462901628570088,
          0.03305007149621291,
          0.05955155804209824,
          0.06376194093237514,
          0.06430673424368259,
          0.06692630509593472,
          0.10440412665905288
         ],
         "xaxis": "x",
         "y": [
          "SEG Croissance POP_en déclin démographique",
          "Environnement Démographique_Bassin Résidentiel en déclin démographique",
          "Catégorie commune dans aire d'attraction des villes 2020_Commune d'un pôle secondaire",
          "Seg Cap Fiscale_Fiscalité élevée",
          "Catégorie commune dans aire d'attraction des villes 2020_Commune-centre",
          "DYN SetC_Faible Dynamique Serv et Com",
          "Libellé degré de densité_Centres urbains intermédiaires",
          "Seg Dyn Entre_Faible dynamique",
          "Urbanité Ruralité_Com rurale > 2 000 habts",
          "Environnement Démographique_Bassin diversifié en croissance démographique",
          "DYN SetC_Dynamique Serv et Com",
          "Seg Dyn Entre_Moyenne dynamique",
          "Libellé degré de densité_Petites villes",
          "Seg Cap Fiscale_Fiscalité moyenne",
          "Environnement Démographique_Bassin Urbain en croissance démographique",
          "Dynamique Démographique BV_Grande Ville",
          "Dynamique Démographique BV_2.Accroissement par excédent naturel",
          "Tranche détaillée d'aire d'attraction des villes 2020_Aire de 50 000 à moins de 75 000 habitants",
          "Tranche détaillée d'aire d'attraction des villes 2020_Aire de 125 000 à moins de 150 000 habitants",
          "Fidélité_Pop Sédentaire",
          "Tranche détaillée d'aire d'attraction des villes 2020_Aire de 300 000 à moins de 400 000 habitants",
          "Tranche détaillée d'aire d'attraction des villes 2020_Aire de 500 000 à moins de 700 000 habitants",
          "Environnement Démographique_Bassins Agroalimentaire en croissance démographique",
          "Tranche détaillée d'aire d'attraction des villes 2020_Commune hors attraction des villes",
          "Catégorie commune dans aire d'attraction des villes 2020_Commune hors attraction des pôles",
          "Urbanité Ruralité_Com > 200 m habts",
          "Tranche détaillée d'aire d'attraction des villes 2020_Aire de 100 000 à moins de 125 000 habitants",
          "Urbanité Ruralité_Com < 50 m habts",
          "Tranche détaillée d'aire d'attraction des villes 2020_Aire de 700 000 à moins de 1 000 000 d’habitants",
          "Urbanité Ruralité_Com < 200 m habts",
          "Catégorie commune dans aire d'attraction des villes 2020_Commune de la couronne",
          "Tranche détaillée d'aire d'attraction des villes 2020_Aire de 30 000 à moins de 50 000 habitants",
          "Nb Camping",
          "Dynamique Démographique BV_6.Déclin par déficit migratoire",
          "Tranche détaillée d'aire d'attraction des villes 2020_Aire de 20 000 à moins de 30 000 habitants",
          "Tranche détaillée d'aire d'attraction des villes 2020_Aire de 400 000 à moins de 500 000 habitants",
          "Tranche détaillée d'aire d'attraction des villes 2020_Aire de 150 000 à moins de 200 000 habitants",
          "Dynamique Démographique BV_5.Déclin par déficit naturel",
          "Valeur ajoutée régionale",
          "Dynamique Démographique BV_4.Déclin par déficit naturel et migratoire",
          "PIB Régionnal",
          "Nb Création Commerces",
          "Nb de Commerce",
          "Nb institution de Education, santé, action sociale, administration",
          "Nb Création Industrielles",
          "Tranche détaillée d'aire d'attraction des villes 2020_Aire de 200 000 à moins de 300 000 habitants",
          "Tranche détaillée d'aire d'attraction des villes 2020_Aire de moins de 10 000 habitants",
          "Dynamique Démographique BV_3.Accroissement par excédent migratoire",
          "Libellé degré de densité_Rural à habitat dispersé",
          "Libellé degré de densité_Ceintures urbaines",
          "Environnement Démographique_Bassin Résidentiel en croissance démographique",
          "Reg Moyenne Salaires Cadre Horaires",
          "Nb Hotel",
          "Reg Moyenne Salaires Ouvrié Horaires",
          "Nb Création Construction",
          "Moyenne Revenus Fiscaux Régionaux",
          "Tranche détaillée d'aire d'attraction des villes 2020_Aire de 10 000 à moins de 20 000 habitants",
          "Tranche détaillée d'aire d'attraction des villes 2020_Aire de 75 000 à moins de 100 000 habitants",
          "Urbanité Ruralité_Com rurale < 2 000 m habts",
          "Nb Résidences Principales",
          "Nb Création Enteprises",
          "Nb Services personnels et domestiques",
          "Nb Création Services",
          "Reg Moyenne Salaires Prof Intermédiaire Horaires",
          "Nb Ménages",
          "Capacité Camping",
          "Nb Education, santé, action sociale",
          "Nb Santé, action sociale",
          "Reg Moyenne Salaires Horaires",
          "Nb pharmaciens Libéraux BV",
          "Nb Occupants Résidence Principale",
          "Indice Démographique",
          "Nb dentistes Libéraux BV",
          "Population en 2014 (princ)",
          "Nb Industries des biens intermédiaires",
          "Score Croissance Entrepreneuriale",
          "Pop 15 ans ou plus en 2014 (compl)",
          "Nb Logement",
          "Libellé degré de densité_Rural à habitat très dispersé",
          "Nb Entreprises Secteur Services",
          "Libellé degré de densité_Grands centres urbains",
          "Dep Moyenne Salaires Horaires",
          "Dep Moyenne Salaires Ouvrié Horaires",
          "Score équipement de santé BV",
          "Tranche détaillée d'aire d'attraction des villes 2020_Aire de Paris",
          "Dynamique Démographique INSEE",
          "Moyenne Revenus Fiscaux Départementaux",
          "Nb Entreprises Secteur Industrie",
          "Dep Moyenne Salaires Prof Intermédiaire Horaires",
          "Nb Entreprises Secteur Construction",
          "Pop 15 ans ou plus Artisans, Comm., Chefs entr. en 2014 (compl)",
          "Dep Moyenne Salaires Employé Horaires",
          "Pop 15 ans ou plus Autres en 2014 (compl)",
          "Nb propriétaire",
          "Dep Moyenne Salaires Cadre Horaires",
          "Moyenne Revnus fiscaux",
          "Pop 30-44 ans en 2014 (princ)",
          "Nb de Services aux particuliers",
          "Dynamique Entrepreneuriale",
          "Pop 0-14 ans en 2014 (princ)",
          "Pop 15 ans ou plus Ouvriers en 2014 (compl)",
          "Capacité Hotel",
          "Pop 45-59 ans en 2014 (princ)",
          "Pop 75-89 ans en 2014 (princ)",
          "Pop 15 ans ou plus Cadres, Prof. intel. sup. en 2014 (compl)",
          "Nb Infirmiers Libéraux BV",
          "Pop 15 ans ou plus Agriculteurs exploitants en 2014 (compl)",
          "Pop 15 ans ou plus Retraités  en 2014 (compl)",
          "Reg Moyenne Salaires Employé Horaires",
          "Pop 15-29 ans en 2014 (princ)",
          "Nb Log Vacants",
          "Nb Omnipraticiens BV",
          "Pop 15 ans ou plus Employés en 2014 (compl)",
          "Pop 15 ans ou plus Prof. intermédiaires  en 2014 (compl)",
          "Capacité Fisc",
          "Pop 60-74 ans en 2014 (princ)",
          "Nb Logement Secondaire et Occasionnel",
          "Nb Résidences Secondaires",
          "taux chômage(15-64 ans)",
          "Synergie Médicale COMMUNE",
          "Nb Entreprises Secteur Commerce",
          "longitude",
          "Taux Propriété",
          "Densité Médicale BV",
          "latitude",
          "Dynamique Entrepreneuriale Service et Commerce"
         ],
         "yaxis": "y"
        }
       ],
       "layout": {
        "barmode": "relative",
        "height": 2000,
        "legend": {
         "title": {
          "text": "variable"
         },
         "tracegroupgap": 0
        },
        "margin": {
         "l": 50,
         "t": 60
        },
        "showlegend": false,
        "template": {
         "data": {
          "bar": [
           {
            "error_x": {
             "color": "#2a3f5f"
            },
            "error_y": {
             "color": "#2a3f5f"
            },
            "marker": {
             "line": {
              "color": "#E5ECF6",
              "width": 0.5
             },
             "pattern": {
              "fillmode": "overlay",
              "size": 10,
              "solidity": 0.2
             }
            },
            "type": "bar"
           }
          ],
          "barpolar": [
           {
            "marker": {
             "line": {
              "color": "#E5ECF6",
              "width": 0.5
             },
             "pattern": {
              "fillmode": "overlay",
              "size": 10,
              "solidity": 0.2
             }
            },
            "type": "barpolar"
           }
          ],
          "carpet": [
           {
            "aaxis": {
             "endlinecolor": "#2a3f5f",
             "gridcolor": "white",
             "linecolor": "white",
             "minorgridcolor": "white",
             "startlinecolor": "#2a3f5f"
            },
            "baxis": {
             "endlinecolor": "#2a3f5f",
             "gridcolor": "white",
             "linecolor": "white",
             "minorgridcolor": "white",
             "startlinecolor": "#2a3f5f"
            },
            "type": "carpet"
           }
          ],
          "choropleth": [
           {
            "colorbar": {
             "outlinewidth": 0,
             "ticks": ""
            },
            "type": "choropleth"
           }
          ],
          "contour": [
           {
            "colorbar": {
             "outlinewidth": 0,
             "ticks": ""
            },
            "colorscale": [
             [
              0,
              "#0d0887"
             ],
             [
              0.1111111111111111,
              "#46039f"
             ],
             [
              0.2222222222222222,
              "#7201a8"
             ],
             [
              0.3333333333333333,
              "#9c179e"
             ],
             [
              0.4444444444444444,
              "#bd3786"
             ],
             [
              0.5555555555555556,
              "#d8576b"
             ],
             [
              0.6666666666666666,
              "#ed7953"
             ],
             [
              0.7777777777777778,
              "#fb9f3a"
             ],
             [
              0.8888888888888888,
              "#fdca26"
             ],
             [
              1,
              "#f0f921"
             ]
            ],
            "type": "contour"
           }
          ],
          "contourcarpet": [
           {
            "colorbar": {
             "outlinewidth": 0,
             "ticks": ""
            },
            "type": "contourcarpet"
           }
          ],
          "heatmap": [
           {
            "colorbar": {
             "outlinewidth": 0,
             "ticks": ""
            },
            "colorscale": [
             [
              0,
              "#0d0887"
             ],
             [
              0.1111111111111111,
              "#46039f"
             ],
             [
              0.2222222222222222,
              "#7201a8"
             ],
             [
              0.3333333333333333,
              "#9c179e"
             ],
             [
              0.4444444444444444,
              "#bd3786"
             ],
             [
              0.5555555555555556,
              "#d8576b"
             ],
             [
              0.6666666666666666,
              "#ed7953"
             ],
             [
              0.7777777777777778,
              "#fb9f3a"
             ],
             [
              0.8888888888888888,
              "#fdca26"
             ],
             [
              1,
              "#f0f921"
             ]
            ],
            "type": "heatmap"
           }
          ],
          "heatmapgl": [
           {
            "colorbar": {
             "outlinewidth": 0,
             "ticks": ""
            },
            "colorscale": [
             [
              0,
              "#0d0887"
             ],
             [
              0.1111111111111111,
              "#46039f"
             ],
             [
              0.2222222222222222,
              "#7201a8"
             ],
             [
              0.3333333333333333,
              "#9c179e"
             ],
             [
              0.4444444444444444,
              "#bd3786"
             ],
             [
              0.5555555555555556,
              "#d8576b"
             ],
             [
              0.6666666666666666,
              "#ed7953"
             ],
             [
              0.7777777777777778,
              "#fb9f3a"
             ],
             [
              0.8888888888888888,
              "#fdca26"
             ],
             [
              1,
              "#f0f921"
             ]
            ],
            "type": "heatmapgl"
           }
          ],
          "histogram": [
           {
            "marker": {
             "pattern": {
              "fillmode": "overlay",
              "size": 10,
              "solidity": 0.2
             }
            },
            "type": "histogram"
           }
          ],
          "histogram2d": [
           {
            "colorbar": {
             "outlinewidth": 0,
             "ticks": ""
            },
            "colorscale": [
             [
              0,
              "#0d0887"
             ],
             [
              0.1111111111111111,
              "#46039f"
             ],
             [
              0.2222222222222222,
              "#7201a8"
             ],
             [
              0.3333333333333333,
              "#9c179e"
             ],
             [
              0.4444444444444444,
              "#bd3786"
             ],
             [
              0.5555555555555556,
              "#d8576b"
             ],
             [
              0.6666666666666666,
              "#ed7953"
             ],
             [
              0.7777777777777778,
              "#fb9f3a"
             ],
             [
              0.8888888888888888,
              "#fdca26"
             ],
             [
              1,
              "#f0f921"
             ]
            ],
            "type": "histogram2d"
           }
          ],
          "histogram2dcontour": [
           {
            "colorbar": {
             "outlinewidth": 0,
             "ticks": ""
            },
            "colorscale": [
             [
              0,
              "#0d0887"
             ],
             [
              0.1111111111111111,
              "#46039f"
             ],
             [
              0.2222222222222222,
              "#7201a8"
             ],
             [
              0.3333333333333333,
              "#9c179e"
             ],
             [
              0.4444444444444444,
              "#bd3786"
             ],
             [
              0.5555555555555556,
              "#d8576b"
             ],
             [
              0.6666666666666666,
              "#ed7953"
             ],
             [
              0.7777777777777778,
              "#fb9f3a"
             ],
             [
              0.8888888888888888,
              "#fdca26"
             ],
             [
              1,
              "#f0f921"
             ]
            ],
            "type": "histogram2dcontour"
           }
          ],
          "mesh3d": [
           {
            "colorbar": {
             "outlinewidth": 0,
             "ticks": ""
            },
            "type": "mesh3d"
           }
          ],
          "parcoords": [
           {
            "line": {
             "colorbar": {
              "outlinewidth": 0,
              "ticks": ""
             }
            },
            "type": "parcoords"
           }
          ],
          "pie": [
           {
            "automargin": true,
            "type": "pie"
           }
          ],
          "scatter": [
           {
            "fillpattern": {
             "fillmode": "overlay",
             "size": 10,
             "solidity": 0.2
            },
            "type": "scatter"
           }
          ],
          "scatter3d": [
           {
            "line": {
             "colorbar": {
              "outlinewidth": 0,
              "ticks": ""
             }
            },
            "marker": {
             "colorbar": {
              "outlinewidth": 0,
              "ticks": ""
             }
            },
            "type": "scatter3d"
           }
          ],
          "scattercarpet": [
           {
            "marker": {
             "colorbar": {
              "outlinewidth": 0,
              "ticks": ""
             }
            },
            "type": "scattercarpet"
           }
          ],
          "scattergeo": [
           {
            "marker": {
             "colorbar": {
              "outlinewidth": 0,
              "ticks": ""
             }
            },
            "type": "scattergeo"
           }
          ],
          "scattergl": [
           {
            "marker": {
             "colorbar": {
              "outlinewidth": 0,
              "ticks": ""
             }
            },
            "type": "scattergl"
           }
          ],
          "scattermapbox": [
           {
            "marker": {
             "colorbar": {
              "outlinewidth": 0,
              "ticks": ""
             }
            },
            "type": "scattermapbox"
           }
          ],
          "scatterpolar": [
           {
            "marker": {
             "colorbar": {
              "outlinewidth": 0,
              "ticks": ""
             }
            },
            "type": "scatterpolar"
           }
          ],
          "scatterpolargl": [
           {
            "marker": {
             "colorbar": {
              "outlinewidth": 0,
              "ticks": ""
             }
            },
            "type": "scatterpolargl"
           }
          ],
          "scatterternary": [
           {
            "marker": {
             "colorbar": {
              "outlinewidth": 0,
              "ticks": ""
             }
            },
            "type": "scatterternary"
           }
          ],
          "surface": [
           {
            "colorbar": {
             "outlinewidth": 0,
             "ticks": ""
            },
            "colorscale": [
             [
              0,
              "#0d0887"
             ],
             [
              0.1111111111111111,
              "#46039f"
             ],
             [
              0.2222222222222222,
              "#7201a8"
             ],
             [
              0.3333333333333333,
              "#9c179e"
             ],
             [
              0.4444444444444444,
              "#bd3786"
             ],
             [
              0.5555555555555556,
              "#d8576b"
             ],
             [
              0.6666666666666666,
              "#ed7953"
             ],
             [
              0.7777777777777778,
              "#fb9f3a"
             ],
             [
              0.8888888888888888,
              "#fdca26"
             ],
             [
              1,
              "#f0f921"
             ]
            ],
            "type": "surface"
           }
          ],
          "table": [
           {
            "cells": {
             "fill": {
              "color": "#EBF0F8"
             },
             "line": {
              "color": "white"
             }
            },
            "header": {
             "fill": {
              "color": "#C8D4E3"
             },
             "line": {
              "color": "white"
             }
            },
            "type": "table"
           }
          ]
         },
         "layout": {
          "annotationdefaults": {
           "arrowcolor": "#2a3f5f",
           "arrowhead": 0,
           "arrowwidth": 1
          },
          "autotypenumbers": "strict",
          "coloraxis": {
           "colorbar": {
            "outlinewidth": 0,
            "ticks": ""
           }
          },
          "colorscale": {
           "diverging": [
            [
             0,
             "#8e0152"
            ],
            [
             0.1,
             "#c51b7d"
            ],
            [
             0.2,
             "#de77ae"
            ],
            [
             0.3,
             "#f1b6da"
            ],
            [
             0.4,
             "#fde0ef"
            ],
            [
             0.5,
             "#f7f7f7"
            ],
            [
             0.6,
             "#e6f5d0"
            ],
            [
             0.7,
             "#b8e186"
            ],
            [
             0.8,
             "#7fbc41"
            ],
            [
             0.9,
             "#4d9221"
            ],
            [
             1,
             "#276419"
            ]
           ],
           "sequential": [
            [
             0,
             "#0d0887"
            ],
            [
             0.1111111111111111,
             "#46039f"
            ],
            [
             0.2222222222222222,
             "#7201a8"
            ],
            [
             0.3333333333333333,
             "#9c179e"
            ],
            [
             0.4444444444444444,
             "#bd3786"
            ],
            [
             0.5555555555555556,
             "#d8576b"
            ],
            [
             0.6666666666666666,
             "#ed7953"
            ],
            [
             0.7777777777777778,
             "#fb9f3a"
            ],
            [
             0.8888888888888888,
             "#fdca26"
            ],
            [
             1,
             "#f0f921"
            ]
           ],
           "sequentialminus": [
            [
             0,
             "#0d0887"
            ],
            [
             0.1111111111111111,
             "#46039f"
            ],
            [
             0.2222222222222222,
             "#7201a8"
            ],
            [
             0.3333333333333333,
             "#9c179e"
            ],
            [
             0.4444444444444444,
             "#bd3786"
            ],
            [
             0.5555555555555556,
             "#d8576b"
            ],
            [
             0.6666666666666666,
             "#ed7953"
            ],
            [
             0.7777777777777778,
             "#fb9f3a"
            ],
            [
             0.8888888888888888,
             "#fdca26"
            ],
            [
             1,
             "#f0f921"
            ]
           ]
          },
          "colorway": [
           "#636efa",
           "#EF553B",
           "#00cc96",
           "#ab63fa",
           "#FFA15A",
           "#19d3f3",
           "#FF6692",
           "#B6E880",
           "#FF97FF",
           "#FECB52"
          ],
          "font": {
           "color": "#2a3f5f"
          },
          "geo": {
           "bgcolor": "white",
           "lakecolor": "white",
           "landcolor": "#E5ECF6",
           "showlakes": true,
           "showland": true,
           "subunitcolor": "white"
          },
          "hoverlabel": {
           "align": "left"
          },
          "hovermode": "closest",
          "mapbox": {
           "style": "light"
          },
          "paper_bgcolor": "white",
          "plot_bgcolor": "#E5ECF6",
          "polar": {
           "angularaxis": {
            "gridcolor": "white",
            "linecolor": "white",
            "ticks": ""
           },
           "bgcolor": "#E5ECF6",
           "radialaxis": {
            "gridcolor": "white",
            "linecolor": "white",
            "ticks": ""
           }
          },
          "scene": {
           "xaxis": {
            "backgroundcolor": "#E5ECF6",
            "gridcolor": "white",
            "gridwidth": 2,
            "linecolor": "white",
            "showbackground": true,
            "ticks": "",
            "zerolinecolor": "white"
           },
           "yaxis": {
            "backgroundcolor": "#E5ECF6",
            "gridcolor": "white",
            "gridwidth": 2,
            "linecolor": "white",
            "showbackground": true,
            "ticks": "",
            "zerolinecolor": "white"
           },
           "zaxis": {
            "backgroundcolor": "#E5ECF6",
            "gridcolor": "white",
            "gridwidth": 2,
            "linecolor": "white",
            "showbackground": true,
            "ticks": "",
            "zerolinecolor": "white"
           }
          },
          "shapedefaults": {
           "line": {
            "color": "#2a3f5f"
           }
          },
          "ternary": {
           "aaxis": {
            "gridcolor": "white",
            "linecolor": "white",
            "ticks": ""
           },
           "baxis": {
            "gridcolor": "white",
            "linecolor": "white",
            "ticks": ""
           },
           "bgcolor": "#E5ECF6",
           "caxis": {
            "gridcolor": "white",
            "linecolor": "white",
            "ticks": ""
           }
          },
          "title": {
           "x": 0.05
          },
          "xaxis": {
           "automargin": true,
           "gridcolor": "white",
           "linecolor": "white",
           "ticks": "",
           "title": {
            "standoff": 15
           },
           "zerolinecolor": "white",
           "zerolinewidth": 2
          },
          "yaxis": {
           "automargin": true,
           "gridcolor": "white",
           "linecolor": "white",
           "ticks": "",
           "title": {
            "standoff": 15
           },
           "zerolinecolor": "white",
           "zerolinewidth": 2
          }
         }
        },
        "width": 2500,
        "xaxis": {
         "anchor": "y",
         "domain": [
          0,
          1
         ],
         "title": {
          "text": "value"
         }
        },
        "yaxis": {
         "anchor": "x",
         "domain": [
          0,
          1
         ],
         "title": {
          "text": "index"
         }
        }
       }
      }
     },
     "metadata": {},
     "output_type": "display_data"
    }
   ],
   "source": [
    "# Plot coefficients\n",
    "fig = px.bar(feature_importance, orientation = 'h')\n",
    "fig.update_layout(height=2000, width=2500, showlegend = False, margin = {'l': 50}, ) # to avoid cropping of column names\n",
    "fig.show()"
   ]
  },
  {
   "cell_type": "code",
   "execution_count": 25,
   "metadata": {},
   "outputs": [
    {
     "name": "stdout",
     "output_type": "stream",
     "text": [
      "According to the forward selection algorithm, the following features should be kept: \n",
      "['Dynamique Entrepreneuriale', 'Densité Médicale BV', 'Score équipement de santé BV', 'Indice Démographique', 'Nb Log Vacants', 'Moyenne Revenus Fiscaux Départementaux', 'Dep Moyenne Salaires Horaires', 'Dep Moyenne Salaires Prof Intermédiaire Horaires', 'Dep Moyenne Salaires Employé Horaires', 'Dep Moyenne Salaires Ouvrié Horaires', 'Reg Moyenne Salaires Horaires', 'Reg Moyenne Salaires Cadre Horaires', 'Reg Moyenne Salaires Prof Intermédiaire Horaires', 'Reg Moyenne Salaires Employé Horaires', 'Valeur ajoutée régionale', 'Nb Hotel', 'Capacité Hotel', 'Nb Camping', 'Taux Propriété', 'Dynamique Démographique INSEE', 'Capacité Fisc', 'Moyenne Revnus fiscaux', 'Nb Education, santé, action sociale', 'Score Croissance Entrepreneuriale', 'latitude', 'longitude', 'Pop 15-29 ans en 2014 (princ)', 'Pop 15 ans ou plus Agriculteurs exploitants en 2014 (compl)', 'Pop 15 ans ou plus Ouvriers en 2014 (compl)', 'Pop 15 ans ou plus Retraités  en 2014 (compl)']\n"
     ]
    }
   ],
   "source": []
  },
  {
   "cell_type": "code",
   "execution_count": null,
   "metadata": {},
   "outputs": [],
   "source": [
    "from sklearn.feature_selection import  SequentialFeatureSelector\n",
    "feature_selector =  SequentialFeatureSelector(rf, n_features_to_select = 30)\n",
    "feature_selector.fit(X_train, y_train)\n",
    "\n",
    "features_list = X.columns\n",
    "best_features = features_list[feature_selector.support_]\n",
    "print(\"According to the forward selection algorithm, the following features should be kept: \")\n",
    "print(best_features.to_list())"
   ]
  },
  {
   "cell_type": "code",
   "execution_count": 26,
   "metadata": {},
   "outputs": [],
   "source": [
    "X_best = X.loc[:, best_features]"
   ]
  },
  {
   "cell_type": "code",
   "execution_count": null,
   "metadata": {},
   "outputs": [],
   "source": [
    "# Divide dataset Train set & Test set\n",
    "\n",
    "print(\"Dividing into train and test sets...\")\n",
    "X_train_best, X_test_best, Y_train_best, Y_test_best = train_test_split(X_best, y, test_size=0.2, random_state=0)\n",
    "print(\"...Done.\")\n",
    "\n",
    "# Fit and transform X_train\n",
    "X_train_best = preprocessor.fit_transform(X_train_best)\n",
    "\n",
    "# Apply on X_test\n",
    "X_test_best  = preprocessor.transform(X_test_best)\n",
    "\n",
    "# Visualize X_train\n",
    "X_train_best"
   ]
  },
  {
   "cell_type": "code",
   "execution_count": null,
   "metadata": {},
   "outputs": [],
   "source": [
    "# Perform grid search\n",
    "rf_bestfeatures = RandomForestRegressor()\n",
    "\n",
    "print(\"Grid search...\")\n",
    "\n",
    "# Grid of values to be tested\n",
    "params = {\n",
    "    'max_depth': [10, 12, 14],\n",
    "    'min_samples_split': [2, 4, 8],\n",
    "    'n_estimators': [80, 100, 120],\n",
    "    'min_samples_leaf': [1, 2, 4]\n",
    "    }\n",
    "\n",
    "gridsearch = GridSearchCV(rf_bestfeatures, param_grid = params, cv = 3, verbose = 2)\n",
    "gridsearch.fit(X_train_best, Y_train_best)\n",
    "\n",
    "print(\"...Done.\")\n",
    "\n",
    "print(\"Best hyperparameters : \",     gridsearch.best_params_)\n",
    "print(\"Best validation accuracy : \", gridsearch.best_score_)\n",
    "\n",
    "# Print R^2 scores\n",
    "print(\"R2 score on training set : \", rf_bestfeatures.score(X_train_best, Y_train_best))\n",
    "print(\"R2 score on test set : \",     rf_bestfeatures.score(X_test_best, Y_test_best))"
   ]
  },
  {
   "cell_type": "code",
   "execution_count": 217,
   "metadata": {},
   "outputs": [],
   "source": [
    "from sklearn.decomposition import PCA\n",
    "\n",
    "# Instanciate PCA with 3 components\n",
    "pca = PCA(n_components=3)\n",
    "\n",
    "# Fit transform X_std_train\n",
    "X_opt_train = pca.fit_transform(X_train_best)\n",
    "\n",
    "# Apply on X_std_test\n",
    "X_opt_test = pca.transform(X_test_best)"
   ]
  },
  {
   "cell_type": "code",
   "execution_count": null,
   "metadata": {},
   "outputs": [],
   "source": [
    "PC1 = X_opt_train[:, 0]\n",
    "PC2 = X_opt_train[:, 1]\n",
    "PC3 = X_opt_train[:, 2]\n",
    "\n",
    "# Convert PC into a DataFrame\n",
    "PC = pd.DataFrame(data=X_opt_train, columns=[\"PC1\", \"PC2\", \"PC3\"])\n",
    "# PC Head\n",
    "PC.head()"
   ]
  },
  {
   "cell_type": "code",
   "execution_count": null,
   "metadata": {},
   "outputs": [],
   "source": [
    "# Use pca.explained_variance_ratio_\n",
    "print(\"Explained Variance ration per PC: {}\".format(pca.explained_variance_ratio_))\n",
    "print(\"Total explained variance ratio: {}%\".format(pca.explained_variance_ratio_.sum()))"
   ]
  },
  {
   "cell_type": "code",
   "execution_count": null,
   "metadata": {},
   "outputs": [],
   "source": [
    "# Fit the RF bestfeatures on the train set where the PCA was applied and checkout the score on the test\n",
    "rf_bestfeatures.fit(X_opt_train, Y_train_best)\n",
    "# Print R^2 scores\n",
    "print(\"R2 score on training set fit on PCA: \", rf_bestfeatures.score(X_opt_train, Y_train_best))\n",
    "print(\"R2 score on test set fit on PCA: \",     rf_bestfeatures.score(X_opt_test, Y_test_best))"
   ]
  },
  {
   "cell_type": "code",
   "execution_count": null,
   "metadata": {},
   "outputs": [],
   "source": [
    "# Import plotly.express and plotly.graph_objects\n",
    "import plotly.express as px \n",
    "import plotly.graph_objects as go\n",
    "\n",
    "# Use plotly express to plot train data\n",
    "fig = px.scatter_3d(PC, x=\"PC1\", y=\"PC2\", z=\"PC3\")\n",
    "\n",
    "# Add trace with test data \n",
    "fig.add_trace(go.Scatter3d(x=X_opt_test[:, 0], \n",
    "                           y=X_opt_test[:, 1], \n",
    "                           z=X_opt_test[:, 2],\n",
    "                           mode=\"markers\",\n",
    "                           name=\"test\"\n",
    "                          ))\n",
    "\n",
    "# Render on notebook\n",
    "fig.show()"
   ]
  },
  {
   "cell_type": "code",
   "execution_count": null,
   "metadata": {},
   "outputs": [],
   "source": [
    "#Example on train set coloring by SalePrice\n",
    "df_plot = pd.DataFrame(X_opt_train)\n",
    "df_plot.columns = ['PC1', 'PC2', 'PC3']\n",
    "df_plot[\"APL aux médecins généralistes (sans borne d'âge)\"] = list(Y_train_best)\n",
    "\n",
    "fig = px.scatter_3d(df_plot, x='PC1', y='PC2', z='PC3', color=\"APL aux médecins généralistes (sans borne d'âge)\")\n",
    "fig.show()"
   ]
  }
 ],
 "metadata": {
  "kernelspec": {
   "display_name": "base",
   "language": "python",
   "name": "python3"
  },
  "language_info": {
   "codemirror_mode": {
    "name": "ipython",
    "version": 3
   },
   "file_extension": ".py",
   "mimetype": "text/x-python",
   "name": "python",
   "nbconvert_exporter": "python",
   "pygments_lexer": "ipython3",
   "version": "3.11.5"
  }
 },
 "nbformat": 4,
 "nbformat_minor": 2
}
