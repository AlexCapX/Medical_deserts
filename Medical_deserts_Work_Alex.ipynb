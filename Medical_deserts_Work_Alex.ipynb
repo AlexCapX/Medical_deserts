{
 "cells": [
  {
   "cell_type": "code",
   "execution_count": 2,
   "metadata": {},
   "outputs": [
    {
     "name": "stdout",
     "output_type": "stream",
     "text": [
      "     A    B   C\n",
      "1  2.0  5.0   9\n",
      "3  4.0  7.0  11\n"
     ]
    }
   ],
   "source": [
    "import pandas as pd\n",
    "\n",
    "# Créer un DataFrame exemple\n",
    "data = {\n",
    "    'A': [1, 2, None, 4],\n",
    "    'B': [None, 5, 6, 7],\n",
    "    'C': [8, 9, 10, 11]\n",
    "}\n",
    "df = pd.DataFrame(data)\n",
    "\n",
    "# Supprimer les lignes contenant des valeurs nulles\n",
    "df_cleaned = df.dropna()\n",
    "\n",
    "# Afficher le DataFrame nettoyé\n",
    "print(df_cleaned)\n",
    "\n",
    "csvtest = 'C:\\\\Users\\\\alexa\\\\Downloads\\\\test.csv'\n",
    "\n",
    "df.to_csv(csvtest, index=False)\n",
    "\n",
    "csvtest2 = 'C:\\\\Users\\\\alexa\\\\Downloads\\\\test2.csv'\n",
    "\n",
    "df_cleaned.to_csv(csvtest2, index=False)\n",
    "\n",
    "\n"
   ]
  },
  {
   "cell_type": "markdown",
   "metadata": {},
   "source": [
    "# ----------Check in CSV----------"
   ]
  },
  {
   "cell_type": "code",
   "execution_count": null,
   "metadata": {},
   "outputs": [],
   "source": [
    "# Code to check results in csv file\n",
    "\"\"\"\n",
    "# Specify the path where you want to save the CSV file\n",
    "insee_csvtest = 'C:\\\\Users\\\\alexa\\\\Downloads\\\\insee_test.csv'\n",
    "doctors_csvtest = 'C:\\\\Users\\\\alexa\\\\Downloads\\\\doctors_test.csv'\n",
    "\n",
    "# Use the to_csv() method to write the DataFrame to a local CSV file\n",
    "insee_df.to_csv(insee_csvtest, index=False)  # If you don't want to include the index in the CSV file\n",
    "doctors_df.to_csv(doctors_csvtest, index=False)  # If you don't want to include the index in the CSV file\n",
    "\n",
    "print(\"CSV file saved successfully.\")\n",
    "\"\"\""
   ]
  },
  {
   "cell_type": "markdown",
   "metadata": {},
   "source": [
    "# ----------Donnees Obsoletes----------"
   ]
  },
  {
   "cell_type": "code",
   "execution_count": null,
   "metadata": {},
   "outputs": [],
   "source": [
    "# URL of the CSV file of doctors data\n",
    "doctors_url = 'https://medical-deserts-project.s3.eu-north-1.amazonaws.com/medecins.csv'\n",
    "\n",
    "# Read the CSV file from the URL into a DataFrame\n",
    "doctors_df = pd.read_csv(doctors_url, sep = ';', encoding='utf-8')\n",
    "\n",
    "# Rename columns\n",
    "doctors_df.rename(columns={'Column 9': 'Ville'}, inplace = True)"
   ]
  },
  {
   "cell_type": "code",
   "execution_count": null,
   "metadata": {},
   "outputs": [],
   "source": [
    "print('Number of rows :', doctors_df.shape[0])\n",
    "print('Number of columns :', doctors_df.shape[1])\n",
    "print()\n",
    "\n",
    "# Show first rows of the dataset\n",
    "print('First rows of the dataset :')\n",
    "display(doctors_df.head())\n",
    "print()\n",
    "\n",
    "# Dataset statistics\n",
    "print('Basics statistics :')\n",
    "summary_stats_all = doctors_df.describe(include='all')\n",
    "display(summary_stats_all)\n",
    "print()\n",
    "\n",
    "# Missing values percentage\n",
    "missing_percentages = (doctors_df.isna().mean() * 100).round(2)\n",
    "print('Percentage of missing values: ')\n",
    "print(missing_percentages)"
   ]
  }
 ],
 "metadata": {
  "kernelspec": {
   "display_name": "base",
   "language": "python",
   "name": "python3"
  },
  "language_info": {
   "codemirror_mode": {
    "name": "ipython",
    "version": 3
   },
   "file_extension": ".py",
   "mimetype": "text/x-python",
   "name": "python",
   "nbconvert_exporter": "python",
   "pygments_lexer": "ipython3",
   "version": "3.11.5"
  }
 },
 "nbformat": 4,
 "nbformat_minor": 2
}
